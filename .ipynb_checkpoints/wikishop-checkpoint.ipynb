{
 "cells": [
  {
   "cell_type": "markdown",
   "metadata": {},
   "source": [
    "# Проект для «Викишоп»"
   ]
  },
  {
   "cell_type": "markdown",
   "metadata": {},
   "source": [
    "Интернет-магазин «Викишоп» запускает новый сервис. Теперь пользователи могут редактировать и дополнять описания товаров, как в вики-сообществах. То есть клиенты предлагают свои правки и комментируют изменения других. Магазину нужен инструмент, который будет искать токсичные комментарии и отправлять их на модерацию. \n",
    "\n",
    "Задача обучить модель классифицировать комментарии на позитивные и негативные. В нашем распоряжении набор данных с разметкой о токсичности правок.\n",
    "\n",
    "Необходимо построить модель со значением метрики качества *F1* не меньше 0.75. \n",
    "\n",
    "**План работы**\n",
    "\n",
    "1. Загрузить и подготовить данные.\n",
    "2. Обучить разные модели. \n",
    "3. Сделать выводы.\n",
    "\n",
    "**Описание данных**\n",
    "\n",
    "Данные находятся в файле `toxic_comments.csv`.  \n",
    "Столбец *'text'* в нём содержит текст комментария.  \n",
    "Столбец *'toxic'* — целевой признак."
   ]
  },
  {
   "cell_type": "markdown",
   "metadata": {},
   "source": [
    "## Подготовка"
   ]
  },
  {
   "cell_type": "markdown",
   "metadata": {},
   "source": [
    "### Загрузка и проверка данных"
   ]
  },
  {
   "cell_type": "code",
   "execution_count": 1,
   "metadata": {},
   "outputs": [],
   "source": [
    "import pandas as pd\n",
    "import numpy as np\n",
    "\n",
    "try:\n",
    "    import matplotlib.pyplot as plt\n",
    "except:\n",
    "    !pip install --upgrade matplotlib==3.8.4\n",
    "    import matplotlib.pyplot as plt\n",
    "\n",
    "try:\n",
    "    import seaborn as sns\n",
    "except:\n",
    "    !pip install --upgrade seaborn==0.13\n",
    "\n",
    "import re\n",
    "import sys\n",
    "try:\n",
    "    import spacy\n",
    "except:\n",
    "    !pip install spacy\n",
    "    import spacy\n",
    "\n",
    "from tqdm import tqdm\n",
    "\n",
    "from sklearn.model_selection import train_test_split\n",
    "\n",
    "import nltk\n",
    "from nltk.corpus import stopwords as nltk_stopwords\n",
    "\n",
    "from sklearn.feature_extraction.text import TfidfVectorizer\n",
    "from sklearn.linear_model import LogisticRegression\n",
    "from sklearn.tree import DecisionTreeClassifier\n",
    "from sklearn.ensemble import RandomForestClassifier\n",
    "from lightgbm import LGBMClassifier\n",
    "from catboost import CatBoostClassifier\n",
    "from sklearn.metrics import f1_score\n",
    "\n",
    "import time\n",
    "import warnings\n",
    "warnings.simplefilter(\"ignore\")"
   ]
  },
  {
   "cell_type": "code",
   "execution_count": 2,
   "metadata": {},
   "outputs": [
    {
     "data": {
      "text/html": [
       "<div>\n",
       "<style scoped>\n",
       "    .dataframe tbody tr th:only-of-type {\n",
       "        vertical-align: middle;\n",
       "    }\n",
       "\n",
       "    .dataframe tbody tr th {\n",
       "        vertical-align: top;\n",
       "    }\n",
       "\n",
       "    .dataframe thead th {\n",
       "        text-align: right;\n",
       "    }\n",
       "</style>\n",
       "<table border=\"1\" class=\"dataframe\">\n",
       "  <thead>\n",
       "    <tr style=\"text-align: right;\">\n",
       "      <th></th>\n",
       "      <th>text</th>\n",
       "      <th>toxic</th>\n",
       "    </tr>\n",
       "  </thead>\n",
       "  <tbody>\n",
       "    <tr>\n",
       "      <th>0</th>\n",
       "      <td>Explanation\\nWhy the edits made under my usern...</td>\n",
       "      <td>0</td>\n",
       "    </tr>\n",
       "    <tr>\n",
       "      <th>1</th>\n",
       "      <td>D'aww! He matches this background colour I'm s...</td>\n",
       "      <td>0</td>\n",
       "    </tr>\n",
       "    <tr>\n",
       "      <th>2</th>\n",
       "      <td>Hey man, I'm really not trying to edit war. It...</td>\n",
       "      <td>0</td>\n",
       "    </tr>\n",
       "    <tr>\n",
       "      <th>3</th>\n",
       "      <td>\"\\nMore\\nI can't make any real suggestions on ...</td>\n",
       "      <td>0</td>\n",
       "    </tr>\n",
       "    <tr>\n",
       "      <th>4</th>\n",
       "      <td>You, sir, are my hero. Any chance you remember...</td>\n",
       "      <td>0</td>\n",
       "    </tr>\n",
       "  </tbody>\n",
       "</table>\n",
       "</div>"
      ],
      "text/plain": [
       "                                                text  toxic\n",
       "0  Explanation\\nWhy the edits made under my usern...      0\n",
       "1  D'aww! He matches this background colour I'm s...      0\n",
       "2  Hey man, I'm really not trying to edit war. It...      0\n",
       "3  \"\\nMore\\nI can't make any real suggestions on ...      0\n",
       "4  You, sir, are my hero. Any chance you remember...      0"
      ]
     },
     "metadata": {},
     "output_type": "display_data"
    },
    {
     "name": "stdout",
     "output_type": "stream",
     "text": [
      "----------------------------------------\n",
      "<class 'pandas.core.frame.DataFrame'>\n",
      "Int64Index: 159292 entries, 0 to 159450\n",
      "Data columns (total 2 columns):\n",
      " #   Column  Non-Null Count   Dtype \n",
      "---  ------  --------------   ----- \n",
      " 0   text    159292 non-null  object\n",
      " 1   toxic   159292 non-null  int64 \n",
      "dtypes: int64(1), object(1)\n",
      "memory usage: 3.6+ MB\n",
      "None\n"
     ]
    }
   ],
   "source": [
    "# Загрузим данные\n",
    "try:\n",
    "    toxic_comments = pd.read_csv('/datasets/toxic_comments.csv', index_col=[0])\n",
    "except:\n",
    "    toxic_comments = pd.read_csv('https://code.s3.yandex.net/datasets/toxic_comments.csv', index_col=[0])\n",
    "\n",
    "display(toxic_comments.head())\n",
    "print('-' * 40)\n",
    "print(toxic_comments.info())"
   ]
  },
  {
   "cell_type": "markdown",
   "metadata": {},
   "source": [
    "Данные содержат 159292 наблюдения. В столбце `text` находятся тексты, в столбце `toxic` - целевой признак (разметка о токсичности текстов). Прежде всего проверим данные на наличие пропусков и дубликатов."
   ]
  },
  {
   "cell_type": "code",
   "execution_count": 3,
   "metadata": {},
   "outputs": [
    {
     "name": "stdout",
     "output_type": "stream",
     "text": [
      "Количество пропущенных значений: \n",
      "text     0\n",
      "toxic    0\n",
      "dtype: int64\n",
      "----------------------------------------\n",
      "Количество дубликатов: 0\n"
     ]
    }
   ],
   "source": [
    "# Проверка на наличие пропусков\n",
    "print(f'Количество пропущенных значений: \\n{toxic_comments.isna().sum()}')\n",
    "\n",
    "print('-' * 40)\n",
    "\n",
    "# Проверка на наличие дубликатов\n",
    "print(f'Количество дубликатов: {toxic_comments.duplicated().sum()}')"
   ]
  },
  {
   "cell_type": "markdown",
   "metadata": {},
   "source": [
    "Пропусков и дубликатов в данных нет.  \n",
    "Проверим распределение целевого признака."
   ]
  },
  {
   "cell_type": "code",
   "execution_count": 4,
   "metadata": {},
   "outputs": [
    {
     "data": {
      "text/plain": [
       "0    143106\n",
       "1     16186\n",
       "Name: toxic, dtype: int64"
      ]
     },
     "execution_count": 4,
     "metadata": {},
     "output_type": "execute_result"
    }
   ],
   "source": [
    "# Проверим, какие значения в столбце с целевым признаком и их количество\n",
    "toxic_comments['toxic'].value_counts()"
   ]
  },
  {
   "cell_type": "markdown",
   "metadata": {},
   "source": [
    "Токсичность - целевой признак, он находится в столбце `toxic`. Метка `токсично` обозначена как `1`, метка `не токсично` обозначена как `0`, то есть целевой признак бинарный. Изобразим распределение целевого признака графически."
   ]
  },
  {
   "cell_type": "code",
   "execution_count": 5,
   "metadata": {},
   "outputs": [
    {
     "data": {
      "image/png": "[encoded data removed]",
      "text/plain": [
       "<Figure size 640x480 with 1 Axes>"
      ]
     },
     "metadata": {},
     "output_type": "display_data"
    }
   ],
   "source": [
    "ax = sns.countplot(data=toxic_comments, y='toxic')\n",
    "ax.set_title('Распределение целевого признака')\n",
    "ax.set_xlabel('Количество')\n",
    "ax.set_ylabel('Значение')\n",
    "pass"
   ]
  },
  {
   "cell_type": "code",
   "execution_count": 6,
   "metadata": {},
   "outputs": [
    {
     "data": {
      "text/plain": [
       "8.841344371679229"
      ]
     },
     "execution_count": 6,
     "metadata": {},
     "output_type": "execute_result"
    }
   ],
   "source": [
    "toxic_comments.toxic.value_counts().max() / toxic_comments.toxic.value_counts().min()"
   ]
  },
  {
   "cell_type": "markdown",
   "metadata": {},
   "source": [
    "Данные, как видно на графике, несбалансированы. Значений `0` почти в 9 раз больше, чем значений `1`. На несбалансированных данных модели будут плохо предсказывать минорный класс. Чтобы модели работали адекватно, нужно решить проблему дисбаланса классов. Для этого, во-первых, при разделении выборок на тренировочную и тестовую необходимо использовать стратификацию, а во-вторых, надо либо выполнить сэмплирование тренировочной выборки, либо при инициализации моделей указать, что данные несбалансированы.  \n",
    "Но сначала выполним очистку и лемматизацию текстов.  \n",
    "Работаем с датасетом, в котором 159292 строки и 2 столбца."
   ]
  },
  {
   "cell_type": "markdown",
   "metadata": {},
   "source": [
    "### Очистка и лемматизация"
   ]
  },
  {
   "cell_type": "code",
   "execution_count": 7,
   "metadata": {},
   "outputs": [],
   "source": [
    "# Создадим класс для лемматизации SpaCy\n",
    "nlp = spacy.load(\"en_core_web_sm\")"
   ]
  },
  {
   "cell_type": "code",
   "execution_count": 8,
   "metadata": {},
   "outputs": [],
   "source": [
    "# Создадим функцию для очистки и лемматизации\n",
    "def prepare(text):\n",
    "    clean = nlp(\" \".join(re.sub(r'[^a-zA-z]', ' ', text).split()))\n",
    "    text_lem = ' '.join([w.lemma_ for w in clean])\n",
    "    return text_lem"
   ]
  },
  {
   "cell_type": "code",
   "execution_count": 9,
   "metadata": {},
   "outputs": [
    {
     "name": "stdout",
     "output_type": "stream",
     "text": [
      "                                                text\n",
      "0  The striped bats are hanging on their feet for...\n",
      "1      you should be ashamed of yourself went worked\n",
      "\n",
      "0    the stripe bat be hang on their foot for good\n",
      "1        you should be ashamed of yourself go work\n",
      "Name: text, dtype: object\n"
     ]
    }
   ],
   "source": [
    "# Проверим корректность работы функции\n",
    "sentence1 = \"The striped bats are hanging on their feet for best\"\n",
    "sentence2 = \"you should be ashamed of yourself went worked\"\n",
    "df_my = pd.DataFrame([sentence1, sentence2], columns = ['text'])\n",
    "\n",
    "print(df_my)\n",
    "print()\n",
    "print(df_my['text'].apply(prepare))"
   ]
  },
  {
   "cell_type": "markdown",
   "metadata": {},
   "source": [
    "Добавим в наш датафрейм `toxic_comments` столбец с лемматизированным текстом. Поскольку процесс лемматизации каждого токена длительный, для контроля времени лемматизации применим индикатор прогресса `progress_apply`."
   ]
  },
  {
   "cell_type": "code",
   "execution_count": 10,
   "metadata": {},
   "outputs": [
    {
     "name": "stderr",
     "output_type": "stream",
     "text": [
      "100%|██████████████████████████████████████████████████████████████████████████| 159292/159292 [30:23<00:00, 87.37it/s]\n"
     ]
    },
    {
     "data": {
      "text/html": [
       "<div>\n",
       "<style scoped>\n",
       "    .dataframe tbody tr th:only-of-type {\n",
       "        vertical-align: middle;\n",
       "    }\n",
       "\n",
       "    .dataframe tbody tr th {\n",
       "        vertical-align: top;\n",
       "    }\n",
       "\n",
       "    .dataframe thead th {\n",
       "        text-align: right;\n",
       "    }\n",
       "</style>\n",
       "<table border=\"1\" class=\"dataframe\">\n",
       "  <thead>\n",
       "    <tr style=\"text-align: right;\">\n",
       "      <th></th>\n",
       "      <th>text</th>\n",
       "      <th>toxic</th>\n",
       "      <th>lemm_text</th>\n",
       "    </tr>\n",
       "  </thead>\n",
       "  <tbody>\n",
       "    <tr>\n",
       "      <th>0</th>\n",
       "      <td>Explanation\\nWhy the edits made under my usern...</td>\n",
       "      <td>0</td>\n",
       "      <td>Explanation why the edit make under my usernam...</td>\n",
       "    </tr>\n",
       "    <tr>\n",
       "      <th>1</th>\n",
       "      <td>D'aww! He matches this background colour I'm s...</td>\n",
       "      <td>0</td>\n",
       "      <td>d aww he match this background colour I m seem...</td>\n",
       "    </tr>\n",
       "    <tr>\n",
       "      <th>2</th>\n",
       "      <td>Hey man, I'm really not trying to edit war. It...</td>\n",
       "      <td>0</td>\n",
       "      <td>hey man I m really not try to edit war it s ju...</td>\n",
       "    </tr>\n",
       "    <tr>\n",
       "      <th>3</th>\n",
       "      <td>\"\\nMore\\nI can't make any real suggestions on ...</td>\n",
       "      <td>0</td>\n",
       "      <td>More I can t make any real suggestion on impro...</td>\n",
       "    </tr>\n",
       "    <tr>\n",
       "      <th>4</th>\n",
       "      <td>You, sir, are my hero. Any chance you remember...</td>\n",
       "      <td>0</td>\n",
       "      <td>you sir be my hero any chance you remember wha...</td>\n",
       "    </tr>\n",
       "  </tbody>\n",
       "</table>\n",
       "</div>"
      ],
      "text/plain": [
       "                                                text  toxic  \\\n",
       "0  Explanation\\nWhy the edits made under my usern...      0   \n",
       "1  D'aww! He matches this background colour I'm s...      0   \n",
       "2  Hey man, I'm really not trying to edit war. It...      0   \n",
       "3  \"\\nMore\\nI can't make any real suggestions on ...      0   \n",
       "4  You, sir, are my hero. Any chance you remember...      0   \n",
       "\n",
       "                                           lemm_text  \n",
       "0  Explanation why the edit make under my usernam...  \n",
       "1  d aww he match this background colour I m seem...  \n",
       "2  hey man I m really not try to edit war it s ju...  \n",
       "3  More I can t make any real suggestion on impro...  \n",
       "4  you sir be my hero any chance you remember wha...  "
      ]
     },
     "execution_count": 10,
     "metadata": {},
     "output_type": "execute_result"
    }
   ],
   "source": [
    "tqdm.pandas()\n",
    "\n",
    "toxic_comments['lemm_text'] = toxic_comments['text'].progress_apply(prepare)\n",
    "toxic_comments.head()"
   ]
  },
  {
   "cell_type": "markdown",
   "metadata": {},
   "source": [
    "### Разделение признаков"
   ]
  },
  {
   "cell_type": "code",
   "execution_count": 11,
   "metadata": {},
   "outputs": [
    {
     "name": "stdout",
     "output_type": "stream",
     "text": [
      "(111504, 2)\n",
      "(111504,)\n",
      "\n",
      "(23894, 2)\n",
      "(23894,)\n",
      "\n",
      "(23894, 2)\n",
      "(23894,)\n"
     ]
    }
   ],
   "source": [
    "# Зададим константу\n",
    "RANDOM_STATE = 42\n",
    "\n",
    "# Выделим признаки и таргет\n",
    "features = toxic_comments.drop(['toxic'], axis = 1)\n",
    "target = toxic_comments['toxic']\n",
    "\n",
    "# Выделим тренировочную и валидационно-тестовую выборки\n",
    "features_train, features_valid_test, target_train, target_valid_test = train_test_split(\n",
    "    features,\n",
    "    target,\n",
    "    test_size=0.3,\n",
    "    random_state=RANDOM_STATE,\n",
    "    stratify=target\n",
    ")\n",
    "\n",
    "# Выделим валидационную и тестовую выборки\n",
    "features_valid, features_test, target_valid, target_test = train_test_split(\n",
    "    features_valid_test,\n",
    "    target_valid_test,\n",
    "    test_size=0.5,\n",
    "    random_state=RANDOM_STATE,\n",
    "    stratify=target_valid_test\n",
    ")\n",
    "\n",
    "# Проверим размеры выборок\n",
    "print(features_train.shape)\n",
    "print(target_train.shape)\n",
    "print()\n",
    "\n",
    "print(features_valid.shape)\n",
    "print(target_valid.shape)\n",
    "print()\n",
    "\n",
    "print(features_test.shape)\n",
    "print(target_test.shape)"
   ]
  },
  {
   "cell_type": "markdown",
   "metadata": {},
   "source": [
    "### Сэмплирование"
   ]
  },
  {
   "cell_type": "markdown",
   "metadata": {},
   "source": [
    "Для борьбы с дисбалансом классов выполним андерсэмплинг, так как количество данных позволяет это сделать. Сэмплируем только тренировочные выборки."
   ]
  },
  {
   "cell_type": "code",
   "execution_count": 12,
   "metadata": {},
   "outputs": [
    {
     "name": "stdout",
     "output_type": "stream",
     "text": [
      "Тренировочные данные до сэмплирования:\n",
      "0    100174\n",
      "1     11330\n",
      "Name: toxic, dtype: int64\n",
      "\n",
      "Тренировочные данные после сэмплирования:\n",
      "0    11330\n",
      "1    11330\n",
      "Name: toxic, dtype: int64\n"
     ]
    }
   ],
   "source": [
    "# проверка баланса данных в исходном датасете\n",
    "print(f'Тренировочные данные до сэмплирования:\\n{target_train.value_counts()}')\n",
    "\n",
    "# Вычисляем размер дисбаланса: узнаем, насколько данных мажорного класса больше\n",
    "delta = target_train.value_counts().max() - target_train.value_counts().min()\n",
    "\n",
    "# Отбираем случайные объекты мажорного класса для удаления\n",
    "deleted_index = target_train.loc[target_train == 0].sample(delta).index\n",
    "\n",
    "# удаляем наблюдения мажорного класса и сохраняем итоговые выборки\n",
    "features_train_sampled = features_train[~features_train.index.isin(deleted_index)]\n",
    "target_train_sampled = target_train[~target_train.index.isin(deleted_index)]\n",
    "\n",
    "# проверка баланса данных в сэмплированном датасете\n",
    "print(f'\\nТренировочные данные после сэмплирования:\\n{target_train_sampled.value_counts()}') "
   ]
  },
  {
   "cell_type": "code",
   "execution_count": 13,
   "metadata": {},
   "outputs": [
    {
     "name": "stdout",
     "output_type": "stream",
     "text": [
      "(22660, 2)\n",
      "(22660,)\n"
     ]
    }
   ],
   "source": [
    "# Итоговый размер тренировочных выборок\n",
    "print(features_train_sampled.shape)\n",
    "print(target_train_sampled.shape)"
   ]
  },
  {
   "cell_type": "markdown",
   "metadata": {},
   "source": [
    "### Создание признаков"
   ]
  },
  {
   "cell_type": "markdown",
   "metadata": {},
   "source": [
    "Теперь тренировочные данные сбалансированы. Создаём признаки для обучения.\n",
    "Один вариант набора признаков создадим на сэмплированных данных."
   ]
  },
  {
   "cell_type": "code",
   "execution_count": 14,
   "metadata": {},
   "outputs": [
    {
     "name": "stderr",
     "output_type": "stream",
     "text": [
      "[nltk_data] Downloading package stopwords to\n",
      "[nltk_data]     C:\\Users\\olga\\AppData\\Roaming\\nltk_data...\n",
      "[nltk_data]   Package stopwords is already up-to-date!\n"
     ]
    }
   ],
   "source": [
    "# Загрузим список стоп-слов, создадим список английских стоп-слов\n",
    "nltk.download('stopwords')\n",
    "stopwords = nltk_stopwords.words('english')\n",
    "\n",
    "# Создаём счётчик, указав в нём стоп-слова\n",
    "count_tf_idf = TfidfVectorizer(stop_words=stopwords)"
   ]
  },
  {
   "cell_type": "code",
   "execution_count": 15,
   "metadata": {},
   "outputs": [],
   "source": [
    "# Создаём корпусы текстов\n",
    "corpus_train = features_train_sampled['lemm_text']\n",
    "corpus_valid = features_valid['lemm_text']\n",
    "corpus_test = features_test['lemm_text']"
   ]
  },
  {
   "cell_type": "code",
   "execution_count": 16,
   "metadata": {},
   "outputs": [
    {
     "name": "stdout",
     "output_type": "stream",
     "text": [
      "(22660, 44784)\n",
      "(23894, 44784)\n",
      "(23894, 44784)\n"
     ]
    }
   ],
   "source": [
    "# Получаем признаки в векторном представлении\n",
    "tf_idf_train = count_tf_idf.fit_transform(corpus_train)\n",
    "tf_idf_valid = count_tf_idf.transform(corpus_valid)\n",
    "tf_idf_test = count_tf_idf.transform(corpus_test)\n",
    "\n",
    "# Проверим размеры тренировочных выборок в векторном виде\n",
    "print(tf_idf_train.shape)\n",
    "print(tf_idf_valid.shape)\n",
    "print(tf_idf_test.shape)"
   ]
  },
  {
   "cell_type": "markdown",
   "metadata": {},
   "source": [
    "Кроме того, существует возможность не применять сэмплирование, а при инициализации некоторых моделей можно указывать, что классы нужно сбалансировать. Поэтому подготовим второй вариант данных, без сэмплирования."
   ]
  },
  {
   "cell_type": "code",
   "execution_count": 17,
   "metadata": {},
   "outputs": [
    {
     "name": "stdout",
     "output_type": "stream",
     "text": [
      "(111504, 2)\n",
      "(111504,)\n",
      "\n",
      "(23894, 2)\n",
      "(23894,)\n",
      "\n",
      "(23894, 2)\n",
      "(23894,)\n"
     ]
    }
   ],
   "source": [
    "# Проверим размеры выборок\n",
    "print(features_train.shape)\n",
    "print(target_train.shape)\n",
    "print()\n",
    "\n",
    "print(features_valid.shape)\n",
    "print(target_valid.shape)\n",
    "print()\n",
    "\n",
    "print(features_test.shape)\n",
    "print(target_test.shape)"
   ]
  },
  {
   "cell_type": "code",
   "execution_count": 18,
   "metadata": {},
   "outputs": [
    {
     "name": "stdout",
     "output_type": "stream",
     "text": [
      "(111504, 129478)\n",
      "(23894, 129478)\n",
      "(23894, 129478)\n"
     ]
    }
   ],
   "source": [
    "# Создаём корпусы текстов (без сэмплирования)\n",
    "corpus_train_ns = features_train['lemm_text']\n",
    "corpus_valid_ns = features_valid['lemm_text']\n",
    "corpus_test_ns = features_test['lemm_text']\n",
    "\n",
    "# Получаем признаки в векторном представлении (без сэмплирования)\n",
    "tf_idf_train_ns = count_tf_idf.fit_transform(corpus_train_ns)\n",
    "tf_idf_valid_ns = count_tf_idf.transform(corpus_valid_ns)\n",
    "tf_idf_test_ns = count_tf_idf.transform(corpus_test_ns)\n",
    "\n",
    "# Проверим размеры тренировочных выборок в векторном виде\n",
    "print(tf_idf_train_ns.shape)\n",
    "print(tf_idf_valid_ns.shape)\n",
    "print(tf_idf_test_ns.shape)"
   ]
  },
  {
   "cell_type": "markdown",
   "metadata": {},
   "source": [
    "Итак, данные загружены, проверены на наличие пропусков и дубликатов. Тексты очищены и лемматизированы. Данные разделены на тренировочную, валидационную и тестовую выборки. Выявлен дисбаланс классов целевого признака, проблема дисбаланса решена с помощью андерсэмплинга. Загружен список стоп-слов, созданы мешки слов, исключив стоп-слова.  \n",
    "\n",
    "Кроме того, подготовлены выборки для обучения моделей без сэмплирования.\n",
    "\n",
    "Для обучения и тестирования моделей наши сэмплированные данные разделены на выборки: тренировочные `tf_idf_train` и `target_train_sampled`, валидационные `tf_idf_valid` и `target_valid`, тестовые `tf_idf_test` и `target_test`.  \n",
    "Кроме того, готов второй вариант данных без сэмплирования: тренировочные `tf_idf_train_ns` и `target_train`, валидационные `tf_idf_valid_ns` и `target_valid`, тестовые `tf_idf_test_ns` и `target_test`.  \n",
    "\n",
    "Гиперпараметры будем подбирать вручную."
   ]
  },
  {
   "cell_type": "markdown",
   "metadata": {},
   "source": [
    "## Обучение"
   ]
  },
  {
   "cell_type": "markdown",
   "metadata": {},
   "source": [
    "При обучении разных моделей будем засекать время их обучения для дальнейшего их сравнения между собой. Если у моделей будет одинаковое качество предсказания, выбирать будем ту, которая обучается быстрее."
   ]
  },
  {
   "cell_type": "markdown",
   "metadata": {},
   "source": [
    "### Логистическая регрессия"
   ]
  },
  {
   "cell_type": "code",
   "execution_count": 19,
   "metadata": {},
   "outputs": [],
   "source": [
    "# Напишем формулу для обучения моделей\n",
    "\n",
    "def learning_model(model_name, model, X_train, X_valid, y_train, y_valid):\n",
    "\n",
    "    # запускаем таймер\n",
    "    start = time.time()\n",
    "    \n",
    "    # обучаем модель\n",
    "    model.fit(X_train, y_train)\n",
    "    \n",
    "    # предсказания для X_valid\n",
    "    pred = model.predict(X_valid)\n",
    "    \n",
    "    # получаем значения метрики F1 для модели\n",
    "    f1 = round(f1_score(y_valid, pred), 2)\n",
    "\n",
    "    # останавливаем таймер\n",
    "    learn_time = round(time.time() - start, 3)\n",
    "    \n",
    "    # выводим на экран метрику F1\n",
    "    print(f'Метрика F1 модели {model_name} получена: {f1}')\n",
    "\n",
    "    # выводим на экран время обучения модели\n",
    "    print(f'Время обучения модели {model_name} составило: {learn_time} с')\n",
    "    \n",
    "    # результат работы модели\n",
    "    return f1, learn_time"
   ]
  },
  {
   "cell_type": "code",
   "execution_count": 20,
   "metadata": {},
   "outputs": [
    {
     "name": "stdout",
     "output_type": "stream",
     "text": [
      "Метрика F1 модели LR получена: 0.68\n",
      "Время обучения модели LR составило: 0.212 с\n"
     ]
    }
   ],
   "source": [
    "# Инициализация и обучение модели логистической регрессии с гиперпараметрами по умолчанию\n",
    "model_name_lr = \"LR\"\n",
    "model_lr = LogisticRegression(random_state=RANDOM_STATE)\n",
    "\n",
    "\n",
    "\n",
    "f1_lr, learn_time_lr = learning_model(model_name_lr,\n",
    "                                      model_lr,\n",
    "                                      tf_idf_train,\n",
    "                                      tf_idf_valid,\n",
    "                                      target_train_sampled,\n",
    "                                      target_valid)"
   ]
  },
  {
   "cell_type": "code",
   "execution_count": 21,
   "metadata": {},
   "outputs": [
    {
     "name": "stdout",
     "output_type": "stream",
     "text": [
      "Метрика F1 модели LR, penalty='l1', C=0.5 получена: 0.72\n",
      "Время обучения модели LR, penalty='l1', C=0.5 составило: 1.169 с\n"
     ]
    }
   ],
   "source": [
    "# Попробуем подобрать гиперпараметры для модели логистической регрессии\n",
    "# Инициализация и обучение модели с новыми гиперпараметрами (вариант 1)\n",
    "model_name_lr_1 = \"LR, penalty='l1', C=0.5\"\n",
    "model_lr_1 = LogisticRegression(penalty='l1',\n",
    "                                solver='saga',\n",
    "                                C=0.5,\n",
    "                                random_state=RANDOM_STATE)\n",
    "\n",
    "f1_lr_1, learn_time_lr_1 = learning_model(model_name_lr_1,\n",
    "                                          model_lr_1,\n",
    "                                          tf_idf_train,\n",
    "                                          tf_idf_valid,\n",
    "                                          target_train_sampled,\n",
    "                                          target_valid)"
   ]
  },
  {
   "cell_type": "code",
   "execution_count": 22,
   "metadata": {},
   "outputs": [
    {
     "name": "stdout",
     "output_type": "stream",
     "text": [
      "Метрика F1 модели LR, penalty='l1', C=5 получена: 0.7\n",
      "Время обучения модели LR, penalty='l1', C=5 составило: 23.128 с\n"
     ]
    }
   ],
   "source": [
    "# Инициализация и обучение модели с новыми гиперпараметрами (вариант 2)\n",
    "model_name_lr_2 = \"LR, penalty='l1', C=5\"\n",
    "model_lr_2 = LogisticRegression(penalty='l1',\n",
    "                                solver='saga',\n",
    "                                C=5,\n",
    "                                random_state=RANDOM_STATE)\n",
    "\n",
    "f1_lr_2, learn_time_lr_2 = learning_model(model_name_lr_2,\n",
    "                                          model_lr_2,\n",
    "                                          tf_idf_train,\n",
    "                                          tf_idf_valid,\n",
    "                                          target_train_sampled,\n",
    "                                          target_valid)"
   ]
  },
  {
   "cell_type": "code",
   "execution_count": 23,
   "metadata": {},
   "outputs": [
    {
     "name": "stdout",
     "output_type": "stream",
     "text": [
      "Метрика F1 модели LR, penalty='elasticnet', C=8 получена: 0.69\n",
      "Время обучения модели LR, penalty='elasticnet', C=8 составило: 60.131 с\n"
     ]
    }
   ],
   "source": [
    "# Инициализация и обучение модели с новыми гиперпараметрами (вариант 3)\n",
    "model_name_lr_3 = \"LR, penalty='elasticnet', C=8\"\n",
    "model_lr_3 = LogisticRegression(penalty='elasticnet',\n",
    "                                solver='saga',\n",
    "                                l1_ratio=0.8,\n",
    "                                C=8,\n",
    "                                random_state=RANDOM_STATE)\n",
    "\n",
    "f1_lr_3, learn_time_lr_3 = learning_model(model_name_lr_3,\n",
    "                                          model_lr_3,\n",
    "                                          tf_idf_train,\n",
    "                                          tf_idf_valid,\n",
    "                                          target_train_sampled,\n",
    "                                          target_valid)"
   ]
  },
  {
   "cell_type": "markdown",
   "metadata": {},
   "source": [
    "Рассмотрим вариант без сэмплирования, указав в настройках модели, что нужно обратить внимание на несбалансированность классов."
   ]
  },
  {
   "cell_type": "code",
   "execution_count": 24,
   "metadata": {},
   "outputs": [
    {
     "name": "stdout",
     "output_type": "stream",
     "text": [
      "Метрика F1 модели LR_ns получена: 0.75\n",
      "Время обучения модели LR_ns составило: 0.94 с\n"
     ]
    }
   ],
   "source": [
    "# Инициализация и обучение модели логистической регрессии без сэмплирования с гиперпараметрами по умолчанию\n",
    "model_name_lr_ns = \"LR_ns\"\n",
    "model_lr_ns = LogisticRegression(class_weight='balanced',\n",
    "                                 random_state=RANDOM_STATE)\n",
    "\n",
    "f1_lr_ns, learn_time_lr_ns = learning_model(model_name_lr_ns,\n",
    "                                            model_lr_ns,\n",
    "                                            tf_idf_train_ns,\n",
    "                                            tf_idf_valid_ns,\n",
    "                                            target_train,\n",
    "                                            target_valid)"
   ]
  },
  {
   "cell_type": "code",
   "execution_count": 25,
   "metadata": {},
   "outputs": [
    {
     "name": "stdout",
     "output_type": "stream",
     "text": [
      "Метрика F1 модели LR_ns, penalty='l1', C=0.5 получена: 0.7\n",
      "Время обучения модели LR_ns, penalty='l1', C=0.5 составило: 52.444 с\n"
     ]
    }
   ],
   "source": [
    "# Инициализация и обучение модели без сэмплирования с новыми гиперпараметрами (вариант 1)\n",
    "model_name_lr_ns_1 = \"LR_ns, penalty='l1', C=0.5\"\n",
    "model_lr_ns_1 = LogisticRegression(penalty='l1',\n",
    "                                   solver='saga',\n",
    "                                   C=0.5,\n",
    "                                   class_weight='balanced',\n",
    "                                   random_state=RANDOM_STATE)\n",
    "\n",
    "f1_lr_ns_1, learn_time_lr_ns_1 = learning_model(model_name_lr_ns_1,\n",
    "                                                model_lr_ns_1,\n",
    "                                                tf_idf_train_ns,\n",
    "                                                tf_idf_valid_ns,\n",
    "                                                target_train,\n",
    "                                                target_valid)"
   ]
  },
  {
   "cell_type": "code",
   "execution_count": 26,
   "metadata": {},
   "outputs": [
    {
     "name": "stdout",
     "output_type": "stream",
     "text": [
      "Метрика F1 модели LR_ns, penalty='l2', C=10 получена: 0.75\n",
      "Время обучения модели LR_ns, penalty='l2', C=10 составило: 1.277 с\n"
     ]
    }
   ],
   "source": [
    "# Инициализация и обучение модели без сэмплирования с новыми гиперпараметрами (вариант 2)\n",
    "model_name_lr_ns_2 = \"LR_ns, penalty='l2', C=10\"\n",
    "model_lr_ns_2 = LogisticRegression(C=10,\n",
    "                                   class_weight='balanced',\n",
    "                                   random_state=RANDOM_STATE)\n",
    "\n",
    "f1_lr_ns_2, learn_time_lr_ns_2 = learning_model(model_name_lr_ns_2,\n",
    "                                                model_lr_ns_2,\n",
    "                                                tf_idf_train_ns,\n",
    "                                                tf_idf_valid_ns,\n",
    "                                                target_train,\n",
    "                                                target_valid)"
   ]
  },
  {
   "cell_type": "code",
   "execution_count": 27,
   "metadata": {},
   "outputs": [
    {
     "name": "stdout",
     "output_type": "stream",
     "text": [
      "Метрика F1 модели LR_ns, penalty='l1', C=10 получена: 0.72\n",
      "Время обучения модели LR_ns, penalty='l1', C=10 составило: 364.292 с\n"
     ]
    }
   ],
   "source": [
    "# Инициализация и обучение модели без сэмплирования с новыми гиперпараметрами (вариант 3)\n",
    "model_name_lr_ns_3 = \"LR_ns, penalty='l1', C=10\"\n",
    "model_lr_ns_3 = LogisticRegression(penalty='l1',\n",
    "                                   solver='saga',\n",
    "                                   C=10,\n",
    "                                   class_weight='balanced',\n",
    "                                   random_state=RANDOM_STATE)\n",
    "\n",
    "f1_lr_ns_3, learn_time_lr_ns_3 = learning_model(model_name_lr_ns_3,\n",
    "                                                model_lr_ns_3,\n",
    "                                                tf_idf_train_ns,\n",
    "                                                tf_idf_valid_ns,\n",
    "                                                target_train,\n",
    "                                                target_valid)"
   ]
  },
  {
   "cell_type": "code",
   "execution_count": 28,
   "metadata": {},
   "outputs": [
    {
     "data": {
      "text/html": [
       "<div>\n",
       "<style scoped>\n",
       "    .dataframe tbody tr th:only-of-type {\n",
       "        vertical-align: middle;\n",
       "    }\n",
       "\n",
       "    .dataframe tbody tr th {\n",
       "        vertical-align: top;\n",
       "    }\n",
       "\n",
       "    .dataframe thead th {\n",
       "        text-align: right;\n",
       "    }\n",
       "</style>\n",
       "<table border=\"1\" class=\"dataframe\">\n",
       "  <thead>\n",
       "    <tr style=\"text-align: right;\">\n",
       "      <th></th>\n",
       "      <th>model</th>\n",
       "      <th>F1</th>\n",
       "      <th>learn_time</th>\n",
       "    </tr>\n",
       "  </thead>\n",
       "  <tbody>\n",
       "    <tr>\n",
       "      <th>0</th>\n",
       "      <td>LR_ns</td>\n",
       "      <td>0.75</td>\n",
       "      <td>0.940</td>\n",
       "    </tr>\n",
       "    <tr>\n",
       "      <th>1</th>\n",
       "      <td>LR_ns, penalty='l2', C=10</td>\n",
       "      <td>0.75</td>\n",
       "      <td>1.277</td>\n",
       "    </tr>\n",
       "    <tr>\n",
       "      <th>2</th>\n",
       "      <td>LR, penalty='l1', C=0.5</td>\n",
       "      <td>0.72</td>\n",
       "      <td>1.169</td>\n",
       "    </tr>\n",
       "    <tr>\n",
       "      <th>3</th>\n",
       "      <td>LR_ns, penalty='l1', C=10</td>\n",
       "      <td>0.72</td>\n",
       "      <td>364.292</td>\n",
       "    </tr>\n",
       "    <tr>\n",
       "      <th>4</th>\n",
       "      <td>LR, penalty='l1', C=5</td>\n",
       "      <td>0.70</td>\n",
       "      <td>23.128</td>\n",
       "    </tr>\n",
       "    <tr>\n",
       "      <th>5</th>\n",
       "      <td>LR_ns, penalty='l1', C=0.5</td>\n",
       "      <td>0.70</td>\n",
       "      <td>52.444</td>\n",
       "    </tr>\n",
       "    <tr>\n",
       "      <th>6</th>\n",
       "      <td>LR, penalty='elasticnet', C=8</td>\n",
       "      <td>0.69</td>\n",
       "      <td>60.131</td>\n",
       "    </tr>\n",
       "    <tr>\n",
       "      <th>7</th>\n",
       "      <td>LR</td>\n",
       "      <td>0.68</td>\n",
       "      <td>0.212</td>\n",
       "    </tr>\n",
       "  </tbody>\n",
       "</table>\n",
       "</div>"
      ],
      "text/plain": [
       "                           model    F1  learn_time\n",
       "0                          LR_ns  0.75       0.940\n",
       "1      LR_ns, penalty='l2', C=10  0.75       1.277\n",
       "2        LR, penalty='l1', C=0.5  0.72       1.169\n",
       "3      LR_ns, penalty='l1', C=10  0.72     364.292\n",
       "4          LR, penalty='l1', C=5  0.70      23.128\n",
       "5     LR_ns, penalty='l1', C=0.5  0.70      52.444\n",
       "6  LR, penalty='elasticnet', C=8  0.69      60.131\n",
       "7                             LR  0.68       0.212"
      ]
     },
     "execution_count": 28,
     "metadata": {},
     "output_type": "execute_result"
    }
   ],
   "source": [
    "results_lr = {\n",
    "    'model': [model_name_lr,\n",
    "              model_name_lr_1,\n",
    "              model_name_lr_2,\n",
    "              model_name_lr_3,\n",
    "              model_name_lr_ns,\n",
    "              model_name_lr_ns_1,\n",
    "              model_name_lr_ns_2,\n",
    "              model_name_lr_ns_3],\n",
    "    'F1': [f1_lr, f1_lr_1, f1_lr_2, f1_lr_3, f1_lr_ns, f1_lr_ns_1, f1_lr_ns_2, f1_lr_ns_3],\n",
    "    'learn_time': [learn_time_lr,\n",
    "                   learn_time_lr_1,\n",
    "                   learn_time_lr_2,\n",
    "                   learn_time_lr_3,\n",
    "                   learn_time_lr_ns,\n",
    "                   learn_time_lr_ns_1,\n",
    "                   learn_time_lr_ns_2,\n",
    "                   learn_time_lr_ns_3]\n",
    "}\n",
    "\n",
    "def model_results(results):\n",
    "    results_df = pd.DataFrame(results)\n",
    "    results_df = results_df.sort_values(by=['F1', 'learn_time'], ascending=[False, True]).reset_index(drop=True)\n",
    "    return results_df\n",
    "\n",
    "result_lr = model_results(results_lr)\n",
    "result_lr"
   ]
  },
  {
   "cell_type": "markdown",
   "metadata": {},
   "source": [
    "Модель логистической регрессии лучше всего отработала на несэмплированных данных с гиперпараметрами по умолчанию и с гиперпараметрами `penalty='l2'`, `C=10`. Значение метрики `F1` у таких моделей составило 0,75. Но время обучения у модели с гиперпараметрами по умолчанию меньше, менее 1 секунды, то есть эта модель предпочтительнее."
   ]
  },
  {
   "cell_type": "markdown",
   "metadata": {},
   "source": [
    "### Модель дерева решений"
   ]
  },
  {
   "cell_type": "code",
   "execution_count": 29,
   "metadata": {},
   "outputs": [
    {
     "name": "stdout",
     "output_type": "stream",
     "text": [
      "Метрика F1 модели DTC получена: 0.54\n",
      "Время обучения модели DTC составило: 12.841 с\n"
     ]
    }
   ],
   "source": [
    "# С гиперпараметрами по умолчанию\n",
    "model_name_dtc = \"DTC\"\n",
    "model_dtc = DecisionTreeClassifier(random_state=RANDOM_STATE)\n",
    "\n",
    "f1_dtc, learn_time_dtc = learning_model(model_name_dtc,\n",
    "                                        model_dtc,\n",
    "                                        tf_idf_train,\n",
    "                                        tf_idf_valid,\n",
    "                                        target_train_sampled,\n",
    "                                        target_valid)"
   ]
  },
  {
   "cell_type": "code",
   "execution_count": 30,
   "metadata": {},
   "outputs": [
    {
     "name": "stdout",
     "output_type": "stream",
     "text": [
      "Метрика F1 модели DTC, max_depth=4, min_samples_split=2, min_samples_leaf=3, max_leaf_nodes=50 получена: 0.44\n",
      "Время обучения модели DTC, max_depth=4, min_samples_split=2, min_samples_leaf=3, max_leaf_nodes=50 составило: 0.484 с\n"
     ]
    }
   ],
   "source": [
    "# С изменёнными гиперпараметрами (вариант 1)\n",
    "model_name_dtc_1 = \"DTC, max_depth=4, min_samples_split=2, min_samples_leaf=3, max_leaf_nodes=50\"\n",
    "model_dtc_1 = DecisionTreeClassifier(max_depth=4,\n",
    "                                     min_samples_split=2,\n",
    "                                     min_samples_leaf=3,\n",
    "                                     max_leaf_nodes=50,\n",
    "                                     random_state=RANDOM_STATE)\n",
    "\n",
    "f1_dtc_1, learn_time_dtc_1 = learning_model(model_name_dtc_1,\n",
    "                                            model_dtc_1,\n",
    "                                            tf_idf_train,\n",
    "                                            tf_idf_valid,\n",
    "                                            target_train_sampled,\n",
    "                                            target_valid)"
   ]
  },
  {
   "cell_type": "code",
   "execution_count": 31,
   "metadata": {},
   "outputs": [
    {
     "name": "stdout",
     "output_type": "stream",
     "text": [
      "Метрика F1 модели DTC, max_depth=6 получена: 0.48\n",
      "Время обучения модели DTC, max_depth=6 составило: 0.665 с\n"
     ]
    }
   ],
   "source": [
    "# С изменёнными гиперпараметрами (вариант 2)\n",
    "model_name_dtc_2 = \"DTC, max_depth=6\"\n",
    "model_dtc_2 = DecisionTreeClassifier(max_depth=6,\n",
    "                                     random_state=RANDOM_STATE)\n",
    "\n",
    "f1_dtc_2, learn_time_dtc_2 = learning_model(model_name_dtc_2,\n",
    "                                            model_dtc_2,\n",
    "                                            tf_idf_train,\n",
    "                                            tf_idf_valid,\n",
    "                                            target_train_sampled,\n",
    "                                            target_valid)"
   ]
  },
  {
   "cell_type": "code",
   "execution_count": 32,
   "metadata": {},
   "outputs": [
    {
     "name": "stdout",
     "output_type": "stream",
     "text": [
      "Метрика F1 модели DTC, max_depth=8 получена: 0.54\n",
      "Время обучения модели DTC, max_depth=8 составило: 0.823 с\n"
     ]
    }
   ],
   "source": [
    "# С изменёнными гиперпараметрами (вариант 3)\n",
    "model_name_dtc_3 = \"DTC, max_depth=8\"\n",
    "model_dtc_3 = DecisionTreeClassifier(max_depth=8,\n",
    "                                     random_state=RANDOM_STATE)\n",
    "\n",
    "f1_dtc_3, learn_time_dtc_3 = learning_model(model_name_dtc_3,\n",
    "                                            model_dtc_3,\n",
    "                                            tf_idf_train,\n",
    "                                            tf_idf_valid,\n",
    "                                            target_train_sampled,\n",
    "                                            target_valid)"
   ]
  },
  {
   "cell_type": "code",
   "execution_count": 33,
   "metadata": {},
   "outputs": [
    {
     "name": "stdout",
     "output_type": "stream",
     "text": [
      "Метрика F1 модели DTC_ns получена: 0.71\n",
      "Время обучения модели DTC_ns составило: 317.664 с\n"
     ]
    }
   ],
   "source": [
    "# Без сэмплирования с гиперпараметрами по умолчанию\n",
    "model_name_dtc_ns = \"DTC_ns\"\n",
    "model_dtc_ns = DecisionTreeClassifier(random_state=RANDOM_STATE)\n",
    "\n",
    "f1_dtc_ns, learn_time_dtc_ns = learning_model(model_name_dtc_ns,\n",
    "                                              model_dtc_ns,\n",
    "                                              tf_idf_train_ns,\n",
    "                                              tf_idf_valid_ns,\n",
    "                                              target_train,\n",
    "                                              target_valid)"
   ]
  },
  {
   "cell_type": "code",
   "execution_count": 34,
   "metadata": {},
   "outputs": [
    {
     "name": "stdout",
     "output_type": "stream",
     "text": [
      "Метрика F1 модели DTC_ns, max_depth=8 получена: 0.58\n",
      "Время обучения модели DTC_ns, max_depth=8 составило: 4.253 с\n"
     ]
    }
   ],
   "source": [
    "# Без сэмплирования с новыми гиперпараметрами\n",
    "model_name_dtc_ns_1 = \"DTC_ns, max_depth=8\"\n",
    "model_dtc_ns_1 = DecisionTreeClassifier(max_depth=8, random_state=RANDOM_STATE)\n",
    "\n",
    "f1_dtc_ns_1, learn_time_dtc_ns_1 = learning_model(model_name_dtc_ns_1,\n",
    "                                                  model_dtc_ns_1,\n",
    "                                                  tf_idf_train_ns,\n",
    "                                                  tf_idf_valid_ns,\n",
    "                                                  target_train,\n",
    "                                                  target_valid)"
   ]
  },
  {
   "cell_type": "code",
   "execution_count": 35,
   "metadata": {},
   "outputs": [
    {
     "data": {
      "text/html": [
       "<div>\n",
       "<style scoped>\n",
       "    .dataframe tbody tr th:only-of-type {\n",
       "        vertical-align: middle;\n",
       "    }\n",
       "\n",
       "    .dataframe tbody tr th {\n",
       "        vertical-align: top;\n",
       "    }\n",
       "\n",
       "    .dataframe thead th {\n",
       "        text-align: right;\n",
       "    }\n",
       "</style>\n",
       "<table border=\"1\" class=\"dataframe\">\n",
       "  <thead>\n",
       "    <tr style=\"text-align: right;\">\n",
       "      <th></th>\n",
       "      <th>model</th>\n",
       "      <th>F1</th>\n",
       "      <th>learn_time</th>\n",
       "    </tr>\n",
       "  </thead>\n",
       "  <tbody>\n",
       "    <tr>\n",
       "      <th>0</th>\n",
       "      <td>DTC_ns</td>\n",
       "      <td>0.71</td>\n",
       "      <td>317.664</td>\n",
       "    </tr>\n",
       "    <tr>\n",
       "      <th>1</th>\n",
       "      <td>DTC_ns, max_depth=8</td>\n",
       "      <td>0.58</td>\n",
       "      <td>4.253</td>\n",
       "    </tr>\n",
       "    <tr>\n",
       "      <th>2</th>\n",
       "      <td>DTC, max_depth=8</td>\n",
       "      <td>0.54</td>\n",
       "      <td>0.823</td>\n",
       "    </tr>\n",
       "    <tr>\n",
       "      <th>3</th>\n",
       "      <td>DTC</td>\n",
       "      <td>0.54</td>\n",
       "      <td>12.841</td>\n",
       "    </tr>\n",
       "    <tr>\n",
       "      <th>4</th>\n",
       "      <td>DTC, max_depth=6</td>\n",
       "      <td>0.48</td>\n",
       "      <td>0.665</td>\n",
       "    </tr>\n",
       "    <tr>\n",
       "      <th>5</th>\n",
       "      <td>DTC, max_depth=4, min_samples_split=2, min_sam...</td>\n",
       "      <td>0.44</td>\n",
       "      <td>0.484</td>\n",
       "    </tr>\n",
       "  </tbody>\n",
       "</table>\n",
       "</div>"
      ],
      "text/plain": [
       "                                               model    F1  learn_time\n",
       "0                                             DTC_ns  0.71     317.664\n",
       "1                                DTC_ns, max_depth=8  0.58       4.253\n",
       "2                                   DTC, max_depth=8  0.54       0.823\n",
       "3                                                DTC  0.54      12.841\n",
       "4                                   DTC, max_depth=6  0.48       0.665\n",
       "5  DTC, max_depth=4, min_samples_split=2, min_sam...  0.44       0.484"
      ]
     },
     "execution_count": 35,
     "metadata": {},
     "output_type": "execute_result"
    }
   ],
   "source": [
    "results_dtc = {\n",
    "    'model': [model_name_dtc,\n",
    "              model_name_dtc_1,\n",
    "              model_name_dtc_2,\n",
    "              model_name_dtc_3,\n",
    "              model_name_dtc_ns,\n",
    "              model_name_dtc_ns_1\n",
    "             ],\n",
    "    'F1': [f1_dtc, f1_dtc_1, f1_dtc_2, f1_dtc_3, f1_dtc_ns, f1_dtc_ns_1],\n",
    "    'learn_time': [learn_time_dtc,\n",
    "                   learn_time_dtc_1,\n",
    "                   learn_time_dtc_2,\n",
    "                   learn_time_dtc_3,\n",
    "                   learn_time_dtc_ns,\n",
    "                   learn_time_dtc_ns_1]\n",
    "}\n",
    "\n",
    "result_dtc = model_results(results_dtc)\n",
    "result_dtc"
   ]
  },
  {
   "cell_type": "markdown",
   "metadata": {},
   "source": [
    "Дерево решений отработало лучше всего на несэмплированных данных с гиперпараметрами по умолчанию, значение метрики `F1` составило 0,71. Время обучения этой модели более 5 минут."
   ]
  },
  {
   "cell_type": "markdown",
   "metadata": {},
   "source": [
    "### Модель случайного леса"
   ]
  },
  {
   "cell_type": "code",
   "execution_count": 36,
   "metadata": {},
   "outputs": [
    {
     "name": "stdout",
     "output_type": "stream",
     "text": [
      "Метрика F1 модели RFC получена: 0.66\n",
      "Время обучения модели RFC составило: 71.059 с\n"
     ]
    }
   ],
   "source": [
    "# С гиперпараметрами по умолчанию\n",
    "model_name_rfc = \"RFC\"\n",
    "model_rfc = RandomForestClassifier(random_state=RANDOM_STATE)\n",
    "\n",
    "f1_rfc, learn_time_rfc = learning_model(model_name_rfc,\n",
    "                                        model_rfc,\n",
    "                                        tf_idf_train,\n",
    "                                        tf_idf_valid,\n",
    "                                        target_train_sampled,\n",
    "                                        target_valid)"
   ]
  },
  {
   "cell_type": "code",
   "execution_count": 37,
   "metadata": {},
   "outputs": [
    {
     "name": "stdout",
     "output_type": "stream",
     "text": [
      "Метрика F1 модели RFC, n_estimators=200, max_depth=30 получена: 0.45\n",
      "Время обучения модели RFC, n_estimators=200, max_depth=30 составило: 12.787 с\n"
     ]
    }
   ],
   "source": [
    "# С новыми гиперпараметрами (вариант 1)\n",
    "model_name_rfc_1 = \"RFC, n_estimators=200, max_depth=30\"\n",
    "model_rfc_1 = RandomForestClassifier(n_estimators = 200,\n",
    "                                     max_depth=30,\n",
    "                                     random_state=RANDOM_STATE)\n",
    "\n",
    "f1_rfc_1, learn_time_rfc_1 = learning_model(model_name_rfc_1,\n",
    "                                            model_rfc_1,\n",
    "                                            tf_idf_train,\n",
    "                                            tf_idf_valid,\n",
    "                                            target_train_sampled,\n",
    "                                            target_valid)"
   ]
  },
  {
   "cell_type": "code",
   "execution_count": 38,
   "metadata": {},
   "outputs": [
    {
     "name": "stdout",
     "output_type": "stream",
     "text": [
      "Метрика F1 модели RFC, n_estimators=300, max_depth=20 получена: 0.42\n",
      "Время обучения модели RFC, n_estimators=300, max_depth=20 составило: 9.529 с\n"
     ]
    }
   ],
   "source": [
    "# С новыми гиперпараметрами (вариант 2)\n",
    "model_name_rfc_2 = \"RFC, n_estimators=300, max_depth=20\"\n",
    "model_rfc_2 = RandomForestClassifier(n_estimators = 300,\n",
    "                                     max_depth=20,\n",
    "                                     random_state=RANDOM_STATE)\n",
    "\n",
    "f1_rfc_2, learn_time_rfc_2 = learning_model(model_name_rfc_2,\n",
    "                                            model_rfc_2,\n",
    "                                            tf_idf_train,\n",
    "                                            tf_idf_valid,\n",
    "                                            target_train_sampled,\n",
    "                                            target_valid)"
   ]
  },
  {
   "cell_type": "code",
   "execution_count": 39,
   "metadata": {},
   "outputs": [
    {
     "name": "stdout",
     "output_type": "stream",
     "text": [
      "Метрика F1 модели RFC_ns получена: 0.69\n",
      "Время обучения модели RFC_ns составило: 507.956 с\n"
     ]
    }
   ],
   "source": [
    "# Без сэмплирования с гиперпараметрами по умолчанию\n",
    "model_name_rfc_ns = \"RFC_ns\"\n",
    "model_rfc_ns = RandomForestClassifier(random_state=RANDOM_STATE)\n",
    "\n",
    "f1_rfc_ns, learn_time_rfc_ns = learning_model(model_name_rfc_ns,\n",
    "                                              model_rfc_ns,\n",
    "                                              tf_idf_train_ns,\n",
    "                                              tf_idf_valid_ns,\n",
    "                                              target_train,\n",
    "                                              target_valid)"
   ]
  },
  {
   "cell_type": "code",
   "execution_count": 40,
   "metadata": {},
   "outputs": [
    {
     "data": {
      "text/html": [
       "<div>\n",
       "<style scoped>\n",
       "    .dataframe tbody tr th:only-of-type {\n",
       "        vertical-align: middle;\n",
       "    }\n",
       "\n",
       "    .dataframe tbody tr th {\n",
       "        vertical-align: top;\n",
       "    }\n",
       "\n",
       "    .dataframe thead th {\n",
       "        text-align: right;\n",
       "    }\n",
       "</style>\n",
       "<table border=\"1\" class=\"dataframe\">\n",
       "  <thead>\n",
       "    <tr style=\"text-align: right;\">\n",
       "      <th></th>\n",
       "      <th>model</th>\n",
       "      <th>F1</th>\n",
       "      <th>learn_time</th>\n",
       "    </tr>\n",
       "  </thead>\n",
       "  <tbody>\n",
       "    <tr>\n",
       "      <th>0</th>\n",
       "      <td>RFC_ns</td>\n",
       "      <td>0.69</td>\n",
       "      <td>507.956</td>\n",
       "    </tr>\n",
       "    <tr>\n",
       "      <th>1</th>\n",
       "      <td>RFC</td>\n",
       "      <td>0.66</td>\n",
       "      <td>71.059</td>\n",
       "    </tr>\n",
       "    <tr>\n",
       "      <th>2</th>\n",
       "      <td>RFC, n_estimators=200, max_depth=30</td>\n",
       "      <td>0.45</td>\n",
       "      <td>12.787</td>\n",
       "    </tr>\n",
       "    <tr>\n",
       "      <th>3</th>\n",
       "      <td>RFC, n_estimators=300, max_depth=20</td>\n",
       "      <td>0.42</td>\n",
       "      <td>9.529</td>\n",
       "    </tr>\n",
       "  </tbody>\n",
       "</table>\n",
       "</div>"
      ],
      "text/plain": [
       "                                 model    F1  learn_time\n",
       "0                               RFC_ns  0.69     507.956\n",
       "1                                  RFC  0.66      71.059\n",
       "2  RFC, n_estimators=200, max_depth=30  0.45      12.787\n",
       "3  RFC, n_estimators=300, max_depth=20  0.42       9.529"
      ]
     },
     "execution_count": 40,
     "metadata": {},
     "output_type": "execute_result"
    }
   ],
   "source": [
    "results_rfc = {\n",
    "    'model': [model_name_rfc,\n",
    "              model_name_rfc_1,\n",
    "              model_name_rfc_2,\n",
    "              model_name_rfc_ns\n",
    "             ],\n",
    "    'F1': [f1_rfc, f1_rfc_1, f1_rfc_2, f1_rfc_ns],\n",
    "    'learn_time': [learn_time_rfc,\n",
    "                   learn_time_rfc_1,\n",
    "                   learn_time_rfc_2,\n",
    "                   learn_time_rfc_ns]\n",
    "}\n",
    "\n",
    "result_rfc = model_results(results_rfc)\n",
    "result_rfc"
   ]
  },
  {
   "cell_type": "markdown",
   "metadata": {},
   "source": [
    "Модель случайного леса лучше всего работает с гиперпараметрами по умолчанию на несэмплированных данных, метрика F1 принимает значение 0,69. Время обучения этой модели более 8 минут."
   ]
  },
  {
   "cell_type": "markdown",
   "metadata": {},
   "source": [
    "### Бустинговая модель LGBM"
   ]
  },
  {
   "cell_type": "code",
   "execution_count": 41,
   "metadata": {},
   "outputs": [
    {
     "name": "stdout",
     "output_type": "stream",
     "text": [
      "Метрика F1 модели LGBM получена: 0.74\n",
      "Время обучения модели LGBM составило: 3.557 с\n"
     ]
    }
   ],
   "source": [
    "# С гиперпараметрами по умолчанию\n",
    "model_name_lgbm = \"LGBM\"\n",
    "model_lgbm = LGBMClassifier(random_state=RANDOM_STATE, verbose=-1)\n",
    "\n",
    "f1_lgbm, learn_time_lgbm = learning_model(model_name_lgbm,\n",
    "                                          model_lgbm,\n",
    "                                          tf_idf_train,\n",
    "                                          tf_idf_valid,\n",
    "                                          target_train_sampled,\n",
    "                                          target_valid)"
   ]
  },
  {
   "cell_type": "code",
   "execution_count": 42,
   "metadata": {},
   "outputs": [
    {
     "name": "stdout",
     "output_type": "stream",
     "text": [
      "Метрика F1 модели LGBM, n_estimators=150, max_depth=2 получена: 0.7\n",
      "Время обучения модели LGBM, n_estimators=150, max_depth=2 составило: 1.368 с\n"
     ]
    }
   ],
   "source": [
    "# С изменёнными гиперпараметрами (вариант 1)\n",
    "model_name_lgbm_1 = \"LGBM, n_estimators=150, max_depth=2\"\n",
    "model_lgbm_1 = LGBMClassifier(n_estimators=150,\n",
    "                              max_depth=2,\n",
    "                              random_state=RANDOM_STATE,\n",
    "                              verbose=-1)\n",
    "\n",
    "f1_lgbm_1, learn_time_lgbm_1 = learning_model(model_name_lgbm_1,\n",
    "                                              model_lgbm_1,\n",
    "                                              tf_idf_train,\n",
    "                                              tf_idf_valid,\n",
    "                                              target_train_sampled,\n",
    "                                              target_valid)"
   ]
  },
  {
   "cell_type": "code",
   "execution_count": 43,
   "metadata": {},
   "outputs": [
    {
     "name": "stdout",
     "output_type": "stream",
     "text": [
      "Метрика F1 модели LGBM, n_estimators=200, max_depth=3, num_leaves=64 получена: 0.72\n",
      "Время обучения модели LGBM, n_estimators=200, max_depth=3, num_leaves=64 составило: 1.658 с\n"
     ]
    }
   ],
   "source": [
    "# С изменёнными гиперпараметрами (вариант 2)\n",
    "model_name_lgbm_2 = \"LGBM, n_estimators=200, max_depth=3, num_leaves=64\"\n",
    "model_lgbm_2 = LGBMClassifier(n_estimators=200,\n",
    "                              max_depth=3,\n",
    "                              num_leaves=25,\n",
    "                              random_state=RANDOM_STATE)\n",
    "\n",
    "f1_lgbm_2, learn_time_lgbm_2 = learning_model(model_name_lgbm_2,\n",
    "                                              model_lgbm_2,\n",
    "                                              tf_idf_train,\n",
    "                                              tf_idf_valid,\n",
    "                                              target_train_sampled,\n",
    "                                              target_valid)"
   ]
  },
  {
   "cell_type": "code",
   "execution_count": 44,
   "metadata": {},
   "outputs": [
    {
     "name": "stdout",
     "output_type": "stream",
     "text": [
      "Метрика F1 модели LGBM_ns получена: 0.75\n",
      "Время обучения модели LGBM_ns составило: 18.45 с\n"
     ]
    }
   ],
   "source": [
    "# С гиперпараметрами по умолчанию на несэмплированных данных\n",
    "model_name_lgbm_ns = \"LGBM_ns\"\n",
    "model_lgbm_ns = LGBMClassifier(class_weight='balanced', random_state=RANDOM_STATE)\n",
    "\n",
    "f1_lgbm_ns, learn_time_lgbm_ns = learning_model(model_name_lgbm_ns,\n",
    "                                                model_lgbm_ns,\n",
    "                                                tf_idf_train_ns,\n",
    "                                                tf_idf_valid_ns,\n",
    "                                                target_train,\n",
    "                                                target_valid)"
   ]
  },
  {
   "cell_type": "code",
   "execution_count": 45,
   "metadata": {},
   "outputs": [
    {
     "name": "stdout",
     "output_type": "stream",
     "text": [
      "Метрика F1 модели LGBM_ns, n_estimators=150, max_depth=2 получена: 0.7\n",
      "Время обучения модели LGBM_ns, n_estimators=150, max_depth=2 составило: 10.374 с\n"
     ]
    }
   ],
   "source": [
    "# С изменёнными гиперпараметрами на несэмплированных данных\n",
    "model_name_lgbm_ns_1 = \"LGBM_ns, n_estimators=150, max_depth=2\"\n",
    "model_lgbm_ns_1 = LGBMClassifier(class_weight='balanced',\n",
    "                                 n_estimators=150,\n",
    "                                 max_depth=2,\n",
    "                                 random_state=RANDOM_STATE)\n",
    "\n",
    "f1_lgbm_ns_1, learn_time_lgbm_ns_1 = learning_model(model_name_lgbm_ns_1,\n",
    "                                                    model_lgbm_ns_1,\n",
    "                                                    tf_idf_train_ns,\n",
    "                                                    tf_idf_valid_ns,\n",
    "                                                    target_train,\n",
    "                                                    target_valid)"
   ]
  },
  {
   "cell_type": "code",
   "execution_count": 46,
   "metadata": {},
   "outputs": [
    {
     "data": {
      "text/html": [
       "<div>\n",
       "<style scoped>\n",
       "    .dataframe tbody tr th:only-of-type {\n",
       "        vertical-align: middle;\n",
       "    }\n",
       "\n",
       "    .dataframe tbody tr th {\n",
       "        vertical-align: top;\n",
       "    }\n",
       "\n",
       "    .dataframe thead th {\n",
       "        text-align: right;\n",
       "    }\n",
       "</style>\n",
       "<table border=\"1\" class=\"dataframe\">\n",
       "  <thead>\n",
       "    <tr style=\"text-align: right;\">\n",
       "      <th></th>\n",
       "      <th>model</th>\n",
       "      <th>F1</th>\n",
       "      <th>learn_time</th>\n",
       "    </tr>\n",
       "  </thead>\n",
       "  <tbody>\n",
       "    <tr>\n",
       "      <th>0</th>\n",
       "      <td>LGBM_ns</td>\n",
       "      <td>0.75</td>\n",
       "      <td>18.450</td>\n",
       "    </tr>\n",
       "    <tr>\n",
       "      <th>1</th>\n",
       "      <td>LGBM</td>\n",
       "      <td>0.74</td>\n",
       "      <td>3.557</td>\n",
       "    </tr>\n",
       "    <tr>\n",
       "      <th>2</th>\n",
       "      <td>LGBM, n_estimators=200, max_depth=3, num_leave...</td>\n",
       "      <td>0.72</td>\n",
       "      <td>1.658</td>\n",
       "    </tr>\n",
       "    <tr>\n",
       "      <th>3</th>\n",
       "      <td>LGBM, n_estimators=150, max_depth=2</td>\n",
       "      <td>0.70</td>\n",
       "      <td>1.368</td>\n",
       "    </tr>\n",
       "    <tr>\n",
       "      <th>4</th>\n",
       "      <td>LGBM_ns, n_estimators=150, max_depth=2</td>\n",
       "      <td>0.70</td>\n",
       "      <td>10.374</td>\n",
       "    </tr>\n",
       "  </tbody>\n",
       "</table>\n",
       "</div>"
      ],
      "text/plain": [
       "                                               model    F1  learn_time\n",
       "0                                            LGBM_ns  0.75      18.450\n",
       "1                                               LGBM  0.74       3.557\n",
       "2  LGBM, n_estimators=200, max_depth=3, num_leave...  0.72       1.658\n",
       "3                LGBM, n_estimators=150, max_depth=2  0.70       1.368\n",
       "4             LGBM_ns, n_estimators=150, max_depth=2  0.70      10.374"
      ]
     },
     "execution_count": 46,
     "metadata": {},
     "output_type": "execute_result"
    }
   ],
   "source": [
    "results_lgbm = {\n",
    "    'model': [model_name_lgbm,\n",
    "              model_name_lgbm_1,\n",
    "              model_name_lgbm_2,\n",
    "              model_name_lgbm_ns,\n",
    "              model_name_lgbm_ns_1],\n",
    "    'F1': [f1_lgbm, f1_lgbm_1, f1_lgbm_2, f1_lgbm_ns, f1_lgbm_ns_1],\n",
    "    'learn_time': [learn_time_lgbm,\n",
    "                   learn_time_lgbm_1,\n",
    "                   learn_time_lgbm_2,\n",
    "                   learn_time_lgbm_ns,\n",
    "                   learn_time_lgbm_ns_1]\n",
    "}\n",
    "\n",
    "result_lgbm = model_results(results_lgbm)\n",
    "result_lgbm"
   ]
  },
  {
   "cell_type": "markdown",
   "metadata": {},
   "source": [
    "Модель градиентного бустинга `LGBMClassifier()` показала лучший результат на несэмплированных данных, с гиперпараметрами по умолчанию. Метрика `F1` имеет значение 0,75. Модель обучается за 15,5 секунд."
   ]
  },
  {
   "cell_type": "markdown",
   "metadata": {},
   "source": [
    "### Бустинговая модель CatBoost"
   ]
  },
  {
   "cell_type": "code",
   "execution_count": 47,
   "metadata": {},
   "outputs": [
    {
     "name": "stdout",
     "output_type": "stream",
     "text": [
      "Метрика F1 модели CBC получена: 0.74\n",
      "Время обучения модели CBC составило: 315.382 с\n"
     ]
    }
   ],
   "source": [
    "# Инициализация и обучение модели с гиперпараметрами по умолчанию\n",
    "model_name_cbc = \"CBC\"\n",
    "model_cbc = CatBoostClassifier(random_state=RANDOM_STATE, verbose=False)\n",
    "\n",
    "f1_cbc, learn_time_cbc = learning_model(model_name_cbc,\n",
    "                                        model_cbc,\n",
    "                                        tf_idf_train,\n",
    "                                        tf_idf_valid,\n",
    "                                        target_train_sampled,\n",
    "                                        target_valid)"
   ]
  },
  {
   "cell_type": "code",
   "execution_count": 48,
   "metadata": {},
   "outputs": [
    {
     "name": "stdout",
     "output_type": "stream",
     "text": [
      "Метрика F1 модели CBC, depth=3 получена: 0.74\n",
      "Время обучения модели CBC, depth=3 составило: 112.782 с\n"
     ]
    }
   ],
   "source": [
    "# Инициализация и обучение модели с изменёнными гиперпараметрами (вариант 1)\n",
    "model_name_cbc_1 = \"CBC, depth=3\"\n",
    "model_cbc_1 = CatBoostClassifier(depth=3,\n",
    "                                 random_state=RANDOM_STATE,\n",
    "                                 verbose=False)\n",
    "\n",
    "f1_cbc_1, learn_time_cbc_1 = learning_model(model_name_cbc_1,\n",
    "                                            model_cbc_1,\n",
    "                                            tf_idf_train,\n",
    "                                            tf_idf_valid,\n",
    "                                            target_train_sampled,\n",
    "                                            target_valid)"
   ]
  },
  {
   "cell_type": "code",
   "execution_count": 49,
   "metadata": {},
   "outputs": [
    {
     "name": "stdout",
     "output_type": "stream",
     "text": [
      "Метрика F1 модели CBC, depth=3, l2_leaf_reg=5 получена: 0.73\n",
      "Время обучения модели CBC, depth=3, l2_leaf_reg=5 составило: 114.536 с\n"
     ]
    }
   ],
   "source": [
    "# Инициализация и обучение модели с изменёнными гиперпараметрами (вариант 2)\n",
    "model_name_cbc_2 = \"CBC, depth=3, l2_leaf_reg=5\"\n",
    "model_cbc_2 = CatBoostClassifier(depth=3,\n",
    "                                 l2_leaf_reg=5,\n",
    "                                 random_state=RANDOM_STATE,\n",
    "                                 verbose=False)\n",
    "\n",
    "f1_cbc_2, learn_time_cbc_2 = learning_model(model_name_cbc_2,\n",
    "                                            model_cbc_2,\n",
    "                                            tf_idf_train,\n",
    "                                            tf_idf_valid,\n",
    "                                            target_train_sampled,\n",
    "                                            target_valid)"
   ]
  },
  {
   "cell_type": "code",
   "execution_count": 50,
   "metadata": {},
   "outputs": [
    {
     "name": "stdout",
     "output_type": "stream",
     "text": [
      "Метрика F1 модели CBC, iterations=500, depth=4 получена: 0.74\n",
      "Время обучения модели CBC, iterations=500, depth=4 составило: 77.417 с\n"
     ]
    }
   ],
   "source": [
    "# Инициализация и обучение модели с изменёнными гиперпараметрами (вариант 3)\n",
    "model_name_cbc_3 = \"CBC, iterations=500, depth=4\"\n",
    "model_cbc_3 = CatBoostClassifier(iterations=500,\n",
    "                                 depth=4,\n",
    "                                 random_state=RANDOM_STATE,\n",
    "                                 verbose=False)\n",
    "\n",
    "f1_cbc_3, learn_time_cbc_3 = learning_model(model_name_cbc_3,\n",
    "                                            model_cbc_3,\n",
    "                                            tf_idf_train,\n",
    "                                            tf_idf_valid,\n",
    "                                            target_train_sampled,\n",
    "                                            target_valid)"
   ]
  },
  {
   "cell_type": "code",
   "execution_count": 51,
   "metadata": {},
   "outputs": [
    {
     "name": "stdout",
     "output_type": "stream",
     "text": [
      "Метрика F1 модели CBC_ns получена: 0.75\n",
      "Время обучения модели CBC_ns составило: 1022.58 с\n"
     ]
    }
   ],
   "source": [
    "# С гиперпараметрами по умолчанию на несэмплированных данных\n",
    "model_name_cbc_ns = \"CBC_ns\"\n",
    "model_cbc_ns = CatBoostClassifier(auto_class_weights='Balanced',\n",
    "                                  random_state=RANDOM_STATE,\n",
    "                                  verbose=False)\n",
    "\n",
    "f1_cbc_ns, learn_time_cbc_ns = learning_model(model_name_cbc_ns,\n",
    "                                              model_cbc_ns,\n",
    "                                              tf_idf_train_ns,\n",
    "                                              tf_idf_valid_ns,\n",
    "                                              target_train,\n",
    "                                              target_valid)"
   ]
  },
  {
   "cell_type": "code",
   "execution_count": 52,
   "metadata": {},
   "outputs": [
    {
     "name": "stdout",
     "output_type": "stream",
     "text": [
      "Метрика F1 модели CBC_ns, depth=3 получена: 0.75\n",
      "Время обучения модели CBC_ns, depth=3 составило: 399.982 с\n"
     ]
    }
   ],
   "source": [
    "# С изменёнными гиперпараметрами на несэмплированных данных\n",
    "model_name_cbc_ns_1 = \"CBC_ns, depth=3\"\n",
    "model_cbc_ns_1 = CatBoostClassifier(auto_class_weights='Balanced',\n",
    "                                    depth=3,\n",
    "                                    random_state=RANDOM_STATE,\n",
    "                                    verbose=False)\n",
    "\n",
    "f1_cbc_ns_1, learn_time_cbc_ns_1 = learning_model(model_name_cbc_ns_1,\n",
    "                                                  model_cbc_ns_1,\n",
    "                                                  tf_idf_train_ns,\n",
    "                                                  tf_idf_valid_ns,\n",
    "                                                  target_train,\n",
    "                                                  target_valid)"
   ]
  },
  {
   "cell_type": "code",
   "execution_count": 53,
   "metadata": {},
   "outputs": [
    {
     "data": {
      "text/html": [
       "<div>\n",
       "<style scoped>\n",
       "    .dataframe tbody tr th:only-of-type {\n",
       "        vertical-align: middle;\n",
       "    }\n",
       "\n",
       "    .dataframe tbody tr th {\n",
       "        vertical-align: top;\n",
       "    }\n",
       "\n",
       "    .dataframe thead th {\n",
       "        text-align: right;\n",
       "    }\n",
       "</style>\n",
       "<table border=\"1\" class=\"dataframe\">\n",
       "  <thead>\n",
       "    <tr style=\"text-align: right;\">\n",
       "      <th></th>\n",
       "      <th>model</th>\n",
       "      <th>F1</th>\n",
       "      <th>learn_time</th>\n",
       "    </tr>\n",
       "  </thead>\n",
       "  <tbody>\n",
       "    <tr>\n",
       "      <th>0</th>\n",
       "      <td>CBC_ns, depth=3</td>\n",
       "      <td>0.75</td>\n",
       "      <td>399.982</td>\n",
       "    </tr>\n",
       "    <tr>\n",
       "      <th>1</th>\n",
       "      <td>CBC_ns</td>\n",
       "      <td>0.75</td>\n",
       "      <td>1022.580</td>\n",
       "    </tr>\n",
       "    <tr>\n",
       "      <th>2</th>\n",
       "      <td>CBC, iterations=500, depth=4</td>\n",
       "      <td>0.74</td>\n",
       "      <td>77.417</td>\n",
       "    </tr>\n",
       "    <tr>\n",
       "      <th>3</th>\n",
       "      <td>CBC, depth=3</td>\n",
       "      <td>0.74</td>\n",
       "      <td>112.782</td>\n",
       "    </tr>\n",
       "    <tr>\n",
       "      <th>4</th>\n",
       "      <td>CBC</td>\n",
       "      <td>0.74</td>\n",
       "      <td>315.382</td>\n",
       "    </tr>\n",
       "    <tr>\n",
       "      <th>5</th>\n",
       "      <td>CBC, depth=3, l2_leaf_reg=5</td>\n",
       "      <td>0.73</td>\n",
       "      <td>114.536</td>\n",
       "    </tr>\n",
       "  </tbody>\n",
       "</table>\n",
       "</div>"
      ],
      "text/plain": [
       "                          model    F1  learn_time\n",
       "0               CBC_ns, depth=3  0.75     399.982\n",
       "1                        CBC_ns  0.75    1022.580\n",
       "2  CBC, iterations=500, depth=4  0.74      77.417\n",
       "3                  CBC, depth=3  0.74     112.782\n",
       "4                           CBC  0.74     315.382\n",
       "5   CBC, depth=3, l2_leaf_reg=5  0.73     114.536"
      ]
     },
     "execution_count": 53,
     "metadata": {},
     "output_type": "execute_result"
    }
   ],
   "source": [
    "results_cbc = {\n",
    "    'model': [model_name_cbc,\n",
    "              model_name_cbc_1,\n",
    "              model_name_cbc_2,\n",
    "              model_name_cbc_3,\n",
    "              model_name_cbc_ns,\n",
    "              model_name_cbc_ns_1],\n",
    "    'F1': [f1_cbc, f1_cbc_1, f1_cbc_2, f1_cbc_3, f1_cbc_ns, f1_cbc_ns_1],\n",
    "    'learn_time': [learn_time_cbc,\n",
    "                   learn_time_cbc_1,\n",
    "                   learn_time_cbc_2,\n",
    "                   learn_time_cbc_3,\n",
    "                   learn_time_cbc_ns,\n",
    "                   learn_time_cbc_ns_1]\n",
    "}\n",
    "\n",
    "result_cbc = model_results(results_cbc)\n",
    "result_cbc"
   ]
  },
  {
   "cell_type": "markdown",
   "metadata": {},
   "source": [
    "Лучший результат показали две модели `CatBoost` на несэмплированных данных: с гиперпараметрами `depth=3`, то есть с ограничением глубины деревьев (время обучения составило более 6 минут), и с гиперпараметрами по умолчанию (время обучения более 17 минут). Метрика `F1` составила 0.75. "
   ]
  },
  {
   "cell_type": "markdown",
   "metadata": {},
   "source": [
    "## Выводы"
   ]
  },
  {
   "cell_type": "code",
   "execution_count": 54,
   "metadata": {},
   "outputs": [
    {
     "data": {
      "text/html": [
       "<div>\n",
       "<style scoped>\n",
       "    .dataframe tbody tr th:only-of-type {\n",
       "        vertical-align: middle;\n",
       "    }\n",
       "\n",
       "    .dataframe tbody tr th {\n",
       "        vertical-align: top;\n",
       "    }\n",
       "\n",
       "    .dataframe thead th {\n",
       "        text-align: right;\n",
       "    }\n",
       "</style>\n",
       "<table border=\"1\" class=\"dataframe\">\n",
       "  <thead>\n",
       "    <tr style=\"text-align: right;\">\n",
       "      <th></th>\n",
       "      <th>model</th>\n",
       "      <th>F1</th>\n",
       "      <th>learn_time</th>\n",
       "    </tr>\n",
       "  </thead>\n",
       "  <tbody>\n",
       "    <tr>\n",
       "      <th>0</th>\n",
       "      <td>LR_ns</td>\n",
       "      <td>0.75</td>\n",
       "      <td>0.940</td>\n",
       "    </tr>\n",
       "    <tr>\n",
       "      <th>1</th>\n",
       "      <td>LGBM_ns</td>\n",
       "      <td>0.75</td>\n",
       "      <td>18.450</td>\n",
       "    </tr>\n",
       "    <tr>\n",
       "      <th>2</th>\n",
       "      <td>CBC_ns, depth=3</td>\n",
       "      <td>0.75</td>\n",
       "      <td>399.982</td>\n",
       "    </tr>\n",
       "    <tr>\n",
       "      <th>3</th>\n",
       "      <td>DTC_ns</td>\n",
       "      <td>0.71</td>\n",
       "      <td>317.664</td>\n",
       "    </tr>\n",
       "    <tr>\n",
       "      <th>4</th>\n",
       "      <td>RFC_ns</td>\n",
       "      <td>0.69</td>\n",
       "      <td>507.956</td>\n",
       "    </tr>\n",
       "  </tbody>\n",
       "</table>\n",
       "</div>"
      ],
      "text/plain": [
       "             model    F1  learn_time\n",
       "0            LR_ns  0.75       0.940\n",
       "1          LGBM_ns  0.75      18.450\n",
       "2  CBC_ns, depth=3  0.75     399.982\n",
       "3           DTC_ns  0.71     317.664\n",
       "4           RFC_ns  0.69     507.956"
      ]
     },
     "execution_count": 54,
     "metadata": {},
     "output_type": "execute_result"
    }
   ],
   "source": [
    "# Соберём в одной таблице каждую модель с лучшими гиперпараметрами\n",
    "result = (pd.concat(\n",
    "    [result_lr[:1],\n",
    "     result_dtc[:1],\n",
    "     result_rfc[:1],\n",
    "     result_lgbm[:1],\n",
    "     result_cbc[:1]],\n",
    "    axis=0\n",
    ")).sort_values(by='F1', ascending=False).reset_index(drop=True)\n",
    "result"
   ]
  },
  {
   "cell_type": "markdown",
   "metadata": {},
   "source": [
    "Лучшие результаты у трёх моделей: логистической регрессии с гиперпараметрами по умолчанию на несэмплированных данных (время обучения менее 1 секунды), у бустинговой модели `LGBM` с гиперпараметрами по умолчанию на несэмплированных данных (время обучения 15.5 секунд) и бустинговой модели `CatBoost` с ограничением глубины деревьев `depth=3` на несэмплированных данных (время обучения более 17 секунд). Метрика `F1` составила 0.75. Рассчитаем метрику на тестовой выборке."
   ]
  },
  {
   "cell_type": "code",
   "execution_count": 55,
   "metadata": {},
   "outputs": [
    {
     "name": "stdout",
     "output_type": "stream",
     "text": [
      "Метрика F1 модели lr_ns на тестовых данных: 0.76\n"
     ]
    }
   ],
   "source": [
    "# Предсказания значений для X_test для модели логистической регрессии\n",
    "pred_lr_ns_test = model_lr_ns.predict(tf_idf_test_ns)\n",
    "\n",
    "# Получение значения метрики F1 для модели логистической регрессии\n",
    "f1_lr_ns_test = round(f1_score(target_test, pred_lr_ns_test), 2)\n",
    "print(f'Метрика F1 модели lr_ns на тестовых данных: {f1_lr_ns_test}')"
   ]
  },
  {
   "cell_type": "code",
   "execution_count": 56,
   "metadata": {},
   "outputs": [
    {
     "name": "stdout",
     "output_type": "stream",
     "text": [
      "Метрика F1 модели lgbm_ns на тестовых данных: 0.74\n"
     ]
    }
   ],
   "source": [
    "# Предсказания значений для X_test для модели `LGBM`\n",
    "pred_lgbm_ns_test = model_lgbm_ns.predict(tf_idf_test_ns)\n",
    "\n",
    "# Получение значения метрики F1 для модели `LGBM`\n",
    "f1_lgbm_ns_test = round(f1_score(target_test, pred_lgbm_ns_test), 2)\n",
    "print(f'Метрика F1 модели lgbm_ns на тестовых данных: {f1_lgbm_ns_test}')"
   ]
  },
  {
   "cell_type": "code",
   "execution_count": 57,
   "metadata": {},
   "outputs": [
    {
     "name": "stdout",
     "output_type": "stream",
     "text": [
      "Метрика F1 модели cbc_ns_1 на тестовых данных: 0.75\n"
     ]
    }
   ],
   "source": [
    "# Предсказания значений для X_test для модели `CatBoost`\n",
    "pred_cbc_ns_1_test = model_cbc_ns_1.predict(tf_idf_test_ns)\n",
    "\n",
    "# Получение значения метрики F1 для модели 'CatBoost'\n",
    "f1_cbc_ns_1_test = round(f1_score(target_test, pred_cbc_ns_1_test), 2)\n",
    "print(f'Метрика F1 модели cbc_ns_1 на тестовых данных: {f1_cbc_ns_1_test}')"
   ]
  },
  {
   "cell_type": "markdown",
   "metadata": {},
   "source": [
    "**Вывод.** Для классификации комментариев на позитивные и негативные интернет-магазину \"Викишоп\" следует использовать модель логистической регрессии с гиперпараметрами по умолчанию, которая лучше других показала себя при обучении и прогнозировании. Сэмплирование использовать не надо. В настройках модели нужно указать, что данные несбалансированы. На валидационных данных модель показала значение метрики `F1 = 0.75`, на тестовых данных - `F1 = 0.76`. Время обучения модели составило менее 1 секунды."
   ]
  },
  {
   "cell_type": "code",
   "execution_count": null,
   "metadata": {},
   "outputs": [],
   "source": []
  }
 ],
 "metadata": {
  "ExecuteTimeLog": [
   {
    "duration": 349,
    "start_time": "2024-06-25T03:38:27.330Z"
   },
   {
    "duration": 2200,
    "start_time": "2024-06-25T03:44:43.419Z"
   },
   {
    "duration": 789,
    "start_time": "2024-06-25T03:47:07.097Z"
   },
   {
    "duration": 809,
    "start_time": "2024-06-25T03:47:53.074Z"
   },
   {
    "duration": 6,
    "start_time": "2024-06-25T03:49:14.018Z"
   },
   {
    "duration": 875,
    "start_time": "2024-06-25T03:55:06.768Z"
   },
   {
    "duration": 87,
    "start_time": "2024-06-25T03:55:58.637Z"
   },
   {
    "duration": 98,
    "start_time": "2024-06-25T03:56:09.772Z"
   },
   {
    "duration": 88,
    "start_time": "2024-06-25T03:57:35.557Z"
   },
   {
    "duration": 88,
    "start_time": "2024-06-25T03:57:53.602Z"
   },
   {
    "duration": 98,
    "start_time": "2024-06-25T03:59:35.906Z"
   },
   {
    "duration": 96,
    "start_time": "2024-06-25T03:59:55.473Z"
   },
   {
    "duration": 102,
    "start_time": "2024-06-25T04:02:33.157Z"
   },
   {
    "duration": 88,
    "start_time": "2024-06-25T04:02:51.412Z"
   },
   {
    "duration": 89,
    "start_time": "2024-06-25T04:06:04.286Z"
   },
   {
    "duration": 89,
    "start_time": "2024-06-25T04:06:53.592Z"
   },
   {
    "duration": 128,
    "start_time": "2024-06-25T04:07:02.222Z"
   },
   {
    "duration": 82,
    "start_time": "2024-06-25T04:07:42.722Z"
   },
   {
    "duration": 90,
    "start_time": "2024-06-25T04:07:53.906Z"
   },
   {
    "duration": 96,
    "start_time": "2024-06-25T04:09:02.551Z"
   },
   {
    "duration": 94,
    "start_time": "2024-06-25T04:09:41.033Z"
   },
   {
    "duration": 98,
    "start_time": "2024-06-25T04:09:54.986Z"
   },
   {
    "duration": 5,
    "start_time": "2024-06-25T04:11:54.867Z"
   },
   {
    "duration": 6,
    "start_time": "2024-06-25T04:12:13.557Z"
   },
   {
    "duration": 7,
    "start_time": "2024-06-25T04:20:45.501Z"
   },
   {
    "duration": 8,
    "start_time": "2024-06-25T04:25:04.230Z"
   },
   {
    "duration": 6855,
    "start_time": "2024-06-25T04:25:40.300Z"
   },
   {
    "duration": 226,
    "start_time": "2024-06-25T04:25:50.475Z"
   },
   {
    "duration": 3,
    "start_time": "2024-06-25T04:53:51.962Z"
   },
   {
    "duration": 38,
    "start_time": "2024-06-25T06:05:51.982Z"
   },
   {
    "duration": 2399,
    "start_time": "2024-06-25T06:06:22.779Z"
   },
   {
    "duration": 1250,
    "start_time": "2024-06-25T06:06:25.180Z"
   },
   {
    "duration": 864,
    "start_time": "2024-06-25T06:06:26.432Z"
   },
   {
    "duration": 5,
    "start_time": "2024-06-25T06:06:27.302Z"
   },
   {
    "duration": 127,
    "start_time": "2024-06-25T06:06:27.308Z"
   },
   {
    "duration": 6,
    "start_time": "2024-06-25T06:06:27.436Z"
   },
   {
    "duration": 10,
    "start_time": "2024-06-25T06:06:27.444Z"
   },
   {
    "duration": 119,
    "start_time": "2024-06-25T06:06:27.455Z"
   },
   {
    "duration": 3,
    "start_time": "2024-06-25T06:43:12.250Z"
   },
   {
    "duration": 2,
    "start_time": "2024-06-25T06:43:19.143Z"
   },
   {
    "duration": 87,
    "start_time": "2024-06-25T06:43:41.333Z"
   },
   {
    "duration": 808,
    "start_time": "2024-06-25T06:43:48.372Z"
   },
   {
    "duration": 805,
    "start_time": "2024-06-25T06:44:48.059Z"
   },
   {
    "duration": 765,
    "start_time": "2024-06-25T06:45:01.922Z"
   },
   {
    "duration": 762,
    "start_time": "2024-06-25T06:45:17.144Z"
   },
   {
    "duration": 18,
    "start_time": "2024-06-25T06:50:06.503Z"
   },
   {
    "duration": 220,
    "start_time": "2024-06-25T06:52:11.793Z"
   },
   {
    "duration": 202,
    "start_time": "2024-06-25T06:52:30.542Z"
   },
   {
    "duration": 214,
    "start_time": "2024-06-25T06:53:15.083Z"
   },
   {
    "duration": 200,
    "start_time": "2024-06-25T06:54:23.267Z"
   },
   {
    "duration": 8,
    "start_time": "2024-06-25T07:09:17.219Z"
   },
   {
    "duration": 4,
    "start_time": "2024-06-25T07:10:00.721Z"
   },
   {
    "duration": 1066,
    "start_time": "2024-06-25T07:10:02.221Z"
   },
   {
    "duration": 2306,
    "start_time": "2024-06-25T07:10:05.335Z"
   },
   {
    "duration": 225,
    "start_time": "2024-06-25T07:10:56.552Z"
   },
   {
    "duration": 42,
    "start_time": "2024-06-25T07:11:23.043Z"
   },
   {
    "duration": 5,
    "start_time": "2024-06-25T07:11:26.622Z"
   },
   {
    "duration": 3,
    "start_time": "2024-06-25T07:11:42.767Z"
   },
   {
    "duration": 1091,
    "start_time": "2024-06-25T07:11:42.771Z"
   },
   {
    "duration": 2252,
    "start_time": "2024-06-25T07:11:43.863Z"
   },
   {
    "duration": 227,
    "start_time": "2024-06-25T07:11:46.116Z"
   },
   {
    "duration": 3,
    "start_time": "2024-06-25T07:12:22.811Z"
   },
   {
    "duration": 1036,
    "start_time": "2024-06-25T07:12:22.816Z"
   },
   {
    "duration": 2312,
    "start_time": "2024-06-25T07:12:23.854Z"
   },
   {
    "duration": 227,
    "start_time": "2024-06-25T07:12:26.167Z"
   },
   {
    "duration": 3,
    "start_time": "2024-06-25T07:13:10.727Z"
   },
   {
    "duration": 1013,
    "start_time": "2024-06-25T07:13:10.732Z"
   },
   {
    "duration": 2253,
    "start_time": "2024-06-25T07:13:11.746Z"
   },
   {
    "duration": 226,
    "start_time": "2024-06-25T07:13:14.000Z"
   },
   {
    "duration": 3,
    "start_time": "2024-06-25T07:13:18.646Z"
   },
   {
    "duration": 85,
    "start_time": "2024-06-25T07:13:21.633Z"
   },
   {
    "duration": 25,
    "start_time": "2024-06-25T07:15:40.928Z"
   },
   {
    "duration": 2,
    "start_time": "2024-06-25T07:15:45.329Z"
   },
   {
    "duration": 618,
    "start_time": "2024-06-25T07:15:47.758Z"
   },
   {
    "duration": 2,
    "start_time": "2024-06-25T07:20:19.543Z"
   },
   {
    "duration": 1164,
    "start_time": "2024-06-25T07:20:19.547Z"
   },
   {
    "duration": 960,
    "start_time": "2024-06-25T07:20:20.712Z"
   },
   {
    "duration": 252,
    "start_time": "2024-06-25T07:20:21.673Z"
   },
   {
    "duration": 2,
    "start_time": "2024-06-25T07:20:21.927Z"
   },
   {
    "duration": 34,
    "start_time": "2024-06-25T07:20:21.930Z"
   },
   {
    "duration": 27,
    "start_time": "2024-06-25T07:20:26.842Z"
   },
   {
    "duration": 614,
    "start_time": "2024-06-25T07:20:28.445Z"
   },
   {
    "duration": 3,
    "start_time": "2024-06-25T07:21:39.857Z"
   },
   {
    "duration": 60,
    "start_time": "2024-06-25T08:14:59.363Z"
   },
   {
    "duration": 93,
    "start_time": "2024-06-25T08:25:27.017Z"
   },
   {
    "duration": 11,
    "start_time": "2024-06-25T08:26:36.075Z"
   },
   {
    "duration": 3,
    "start_time": "2024-06-25T08:30:35.332Z"
   },
   {
    "duration": 1786,
    "start_time": "2024-06-25T08:30:35.336Z"
   },
   {
    "duration": 790,
    "start_time": "2024-06-25T08:30:37.124Z"
   },
   {
    "duration": 229,
    "start_time": "2024-06-25T08:30:37.916Z"
   },
   {
    "duration": 2,
    "start_time": "2024-06-25T08:30:38.146Z"
   },
   {
    "duration": 113,
    "start_time": "2024-06-25T08:30:42.622Z"
   },
   {
    "duration": 285,
    "start_time": "2024-06-25T08:33:28.214Z"
   },
   {
    "duration": 5,
    "start_time": "2024-06-25T08:34:45.535Z"
   },
   {
    "duration": 254,
    "start_time": "2024-06-25T08:35:57.977Z"
   },
   {
    "duration": 2,
    "start_time": "2024-06-25T08:48:40.645Z"
   },
   {
    "duration": 1517,
    "start_time": "2024-06-25T08:50:20.722Z"
   },
   {
    "duration": 798,
    "start_time": "2024-06-25T08:50:22.424Z"
   },
   {
    "duration": 223,
    "start_time": "2024-06-25T08:50:28.901Z"
   },
   {
    "duration": 26,
    "start_time": "2024-06-25T08:50:32.529Z"
   },
   {
    "duration": 66,
    "start_time": "2024-06-25T08:50:59.362Z"
   },
   {
    "duration": 2,
    "start_time": "2024-06-25T08:51:55.162Z"
   },
   {
    "duration": 111,
    "start_time": "2024-06-25T08:52:09.675Z"
   },
   {
    "duration": 3,
    "start_time": "2024-06-25T08:52:13.819Z"
   },
   {
    "duration": 3,
    "start_time": "2024-06-25T08:52:14.549Z"
   },
   {
    "duration": 4,
    "start_time": "2024-06-25T08:52:15.144Z"
   },
   {
    "duration": 3,
    "start_time": "2024-06-25T08:54:19.109Z"
   },
   {
    "duration": 2,
    "start_time": "2024-06-25T08:54:21.632Z"
   },
   {
    "duration": 4,
    "start_time": "2024-06-25T08:54:24.400Z"
   },
   {
    "duration": 3,
    "start_time": "2024-06-25T08:56:10.614Z"
   },
   {
    "duration": 2,
    "start_time": "2024-06-25T08:56:11.034Z"
   },
   {
    "duration": 3,
    "start_time": "2024-06-25T08:56:11.540Z"
   },
   {
    "duration": 3,
    "start_time": "2024-06-25T08:57:55.059Z"
   },
   {
    "duration": 1790,
    "start_time": "2024-06-25T08:57:55.064Z"
   },
   {
    "duration": 806,
    "start_time": "2024-06-25T08:57:56.856Z"
   },
   {
    "duration": 238,
    "start_time": "2024-06-25T08:57:57.664Z"
   },
   {
    "duration": 26,
    "start_time": "2024-06-25T08:57:57.903Z"
   },
   {
    "duration": 20,
    "start_time": "2024-06-25T08:57:57.930Z"
   },
   {
    "duration": 6,
    "start_time": "2024-06-25T08:58:00.727Z"
   },
   {
    "duration": 3,
    "start_time": "2024-06-25T08:58:01.735Z"
   },
   {
    "duration": 2,
    "start_time": "2024-06-25T08:58:02.957Z"
   },
   {
    "duration": 3,
    "start_time": "2024-06-25T08:58:03.912Z"
   },
   {
    "duration": 2,
    "start_time": "2024-06-25T08:59:33.183Z"
   },
   {
    "duration": 3,
    "start_time": "2024-06-25T09:00:31.406Z"
   },
   {
    "duration": 2,
    "start_time": "2024-06-25T09:00:32.427Z"
   },
   {
    "duration": 607,
    "start_time": "2024-06-25T09:00:33.607Z"
   },
   {
    "duration": 3,
    "start_time": "2024-06-25T09:02:13.605Z"
   },
   {
    "duration": 2,
    "start_time": "2024-06-25T09:02:14.307Z"
   },
   {
    "duration": 4,
    "start_time": "2024-06-25T09:02:15.069Z"
   },
   {
    "duration": 3,
    "start_time": "2024-06-25T09:02:34.657Z"
   },
   {
    "duration": 2,
    "start_time": "2024-06-25T09:02:35.196Z"
   },
   {
    "duration": 3,
    "start_time": "2024-06-25T09:02:35.704Z"
   },
   {
    "duration": 58213,
    "start_time": "2024-06-25T09:04:48.706Z"
   },
   {
    "duration": 1061,
    "start_time": "2024-06-25T09:18:38.673Z"
   },
   {
    "duration": 874,
    "start_time": "2024-06-25T09:18:43.635Z"
   },
   {
    "duration": 983,
    "start_time": "2024-06-25T09:27:25.376Z"
   },
   {
    "duration": 845,
    "start_time": "2024-06-25T09:27:26.361Z"
   },
   {
    "duration": 232,
    "start_time": "2024-06-25T09:27:29.366Z"
   },
   {
    "duration": 5,
    "start_time": "2024-06-25T09:27:31.841Z"
   },
   {
    "duration": 110,
    "start_time": "2024-06-25T09:27:34.136Z"
   },
   {
    "duration": 7,
    "start_time": "2024-06-25T09:27:35.501Z"
   },
   {
    "duration": 802,
    "start_time": "2024-06-25T09:30:24.256Z"
   },
   {
    "duration": 9,
    "start_time": "2024-06-25T09:30:54.104Z"
   },
   {
    "duration": 7,
    "start_time": "2024-06-25T09:31:50.483Z"
   },
   {
    "duration": 6,
    "start_time": "2024-06-25T09:32:50.708Z"
   },
   {
    "duration": 1206,
    "start_time": "2024-06-25T11:58:54.304Z"
   },
   {
    "duration": 3357,
    "start_time": "2024-06-25T11:58:55.511Z"
   },
   {
    "duration": 206,
    "start_time": "2024-06-25T11:58:58.869Z"
   },
   {
    "duration": 5,
    "start_time": "2024-06-25T11:58:59.077Z"
   },
   {
    "duration": 130,
    "start_time": "2024-06-25T11:58:59.083Z"
   },
   {
    "duration": 6,
    "start_time": "2024-06-25T11:58:59.215Z"
   },
   {
    "duration": 41,
    "start_time": "2024-06-25T12:01:06.088Z"
   },
   {
    "duration": 26,
    "start_time": "2024-06-25T12:18:07.461Z"
   },
   {
    "duration": 6,
    "start_time": "2024-06-25T12:18:09.966Z"
   },
   {
    "duration": 3,
    "start_time": "2024-06-25T12:18:12.913Z"
   },
   {
    "duration": 2,
    "start_time": "2024-06-25T12:18:18.818Z"
   },
   {
    "duration": 2,
    "start_time": "2024-06-25T12:18:20.056Z"
   },
   {
    "duration": 649,
    "start_time": "2024-06-25T12:18:20.866Z"
   },
   {
    "duration": 65096,
    "start_time": "2024-06-25T12:18:31.557Z"
   },
   {
    "duration": 315,
    "start_time": "2024-06-25T12:35:26.411Z"
   },
   {
    "duration": 99,
    "start_time": "2024-06-25T12:39:41.373Z"
   },
   {
    "duration": 7,
    "start_time": "2024-06-25T12:46:46.403Z"
   },
   {
    "duration": 4,
    "start_time": "2024-06-25T12:47:19.941Z"
   },
   {
    "duration": 3,
    "start_time": "2024-06-25T12:47:32.618Z"
   },
   {
    "duration": 4,
    "start_time": "2024-06-25T12:50:01.100Z"
   },
   {
    "duration": 103,
    "start_time": "2024-06-25T12:50:45.573Z"
   },
   {
    "duration": 5,
    "start_time": "2024-06-25T12:50:53.201Z"
   },
   {
    "duration": 4,
    "start_time": "2024-06-25T12:50:54.247Z"
   },
   {
    "duration": 7,
    "start_time": "2024-06-25T12:51:02.727Z"
   },
   {
    "duration": 9,
    "start_time": "2024-06-25T12:51:53.290Z"
   },
   {
    "duration": 81,
    "start_time": "2024-06-25T12:52:47.503Z"
   },
   {
    "duration": 4,
    "start_time": "2024-06-25T12:53:12.301Z"
   },
   {
    "duration": 3,
    "start_time": "2024-06-25T12:53:13.091Z"
   },
   {
    "duration": 8,
    "start_time": "2024-06-25T12:53:19.569Z"
   },
   {
    "duration": 74,
    "start_time": "2024-06-25T12:54:00.892Z"
   },
   {
    "duration": 4,
    "start_time": "2024-06-25T12:54:03.266Z"
   },
   {
    "duration": 3,
    "start_time": "2024-06-25T12:54:04.215Z"
   },
   {
    "duration": 8,
    "start_time": "2024-06-25T12:54:05.869Z"
   },
   {
    "duration": 98,
    "start_time": "2024-06-25T12:57:35.007Z"
   },
   {
    "duration": 11,
    "start_time": "2024-06-25T12:59:15.400Z"
   },
   {
    "duration": 27,
    "start_time": "2024-06-25T13:02:49.334Z"
   },
   {
    "duration": 29,
    "start_time": "2024-06-25T13:03:13.929Z"
   },
   {
    "duration": 3,
    "start_time": "2024-06-25T13:03:49.961Z"
   },
   {
    "duration": 3,
    "start_time": "2024-06-25T13:04:19.025Z"
   },
   {
    "duration": 301,
    "start_time": "2024-06-25T13:21:15.897Z"
   },
   {
    "duration": 2,
    "start_time": "2024-06-25T13:21:55.473Z"
   },
   {
    "duration": 2127,
    "start_time": "2024-06-25T13:25:15.139Z"
   },
   {
    "duration": 3377,
    "start_time": "2024-06-25T13:25:17.268Z"
   },
   {
    "duration": 267,
    "start_time": "2024-06-25T13:25:20.647Z"
   },
   {
    "duration": 6,
    "start_time": "2024-06-25T13:25:20.916Z"
   },
   {
    "duration": 126,
    "start_time": "2024-06-25T13:25:20.923Z"
   },
   {
    "duration": 7,
    "start_time": "2024-06-25T13:25:21.051Z"
   },
   {
    "duration": 32,
    "start_time": "2024-06-25T13:25:21.059Z"
   },
   {
    "duration": 30,
    "start_time": "2024-06-25T13:25:21.092Z"
   },
   {
    "duration": 1408,
    "start_time": "2024-06-25T13:31:42.466Z"
   },
   {
    "duration": 3279,
    "start_time": "2024-06-25T13:31:43.876Z"
   },
   {
    "duration": 239,
    "start_time": "2024-06-25T13:31:47.156Z"
   },
   {
    "duration": 4,
    "start_time": "2024-06-25T13:31:47.397Z"
   },
   {
    "duration": 147,
    "start_time": "2024-06-25T13:31:47.402Z"
   },
   {
    "duration": 8,
    "start_time": "2024-06-25T13:31:47.551Z"
   },
   {
    "duration": 71,
    "start_time": "2024-06-25T13:31:47.561Z"
   },
   {
    "duration": 18,
    "start_time": "2024-06-25T13:31:47.633Z"
   },
   {
    "duration": 68431,
    "start_time": "2024-06-25T13:31:47.653Z"
   },
   {
    "duration": 77,
    "start_time": "2024-06-25T13:32:56.090Z"
   },
   {
    "duration": 4,
    "start_time": "2024-06-25T13:32:56.168Z"
   },
   {
    "duration": 17,
    "start_time": "2024-06-25T13:32:56.173Z"
   },
   {
    "duration": 22,
    "start_time": "2024-06-25T13:32:56.191Z"
   },
   {
    "duration": 2,
    "start_time": "2024-06-25T13:32:56.214Z"
   },
   {
    "duration": 41,
    "start_time": "2024-06-25T13:44:14.271Z"
   },
   {
    "duration": 1430,
    "start_time": "2024-06-25T13:44:28.821Z"
   },
   {
    "duration": 3292,
    "start_time": "2024-06-25T13:44:30.253Z"
   },
   {
    "duration": 208,
    "start_time": "2024-06-25T13:44:33.547Z"
   },
   {
    "duration": 5,
    "start_time": "2024-06-25T13:44:33.756Z"
   },
   {
    "duration": 116,
    "start_time": "2024-06-25T13:44:33.763Z"
   },
   {
    "duration": 10,
    "start_time": "2024-06-25T13:44:33.880Z"
   },
   {
    "duration": 2,
    "start_time": "2024-06-25T13:44:33.891Z"
   },
   {
    "duration": 2,
    "start_time": "2024-06-25T13:44:37.197Z"
   },
   {
    "duration": 3,
    "start_time": "2024-06-25T13:44:41.331Z"
   },
   {
    "duration": 64052,
    "start_time": "2024-06-25T13:44:49.838Z"
   },
   {
    "duration": 113,
    "start_time": "2024-06-25T13:46:27.531Z"
   },
   {
    "duration": 4,
    "start_time": "2024-06-25T13:46:32.257Z"
   },
   {
    "duration": 3,
    "start_time": "2024-06-25T13:46:35.636Z"
   },
   {
    "duration": 23,
    "start_time": "2024-06-25T13:46:41.417Z"
   },
   {
    "duration": 3,
    "start_time": "2024-06-25T13:46:42.689Z"
   },
   {
    "duration": 1417,
    "start_time": "2024-06-25T13:50:03.893Z"
   },
   {
    "duration": 3139,
    "start_time": "2024-06-25T13:50:05.311Z"
   },
   {
    "duration": 218,
    "start_time": "2024-06-25T13:50:14.102Z"
   },
   {
    "duration": 5,
    "start_time": "2024-06-25T13:50:16.824Z"
   },
   {
    "duration": 101,
    "start_time": "2024-06-25T13:50:18.623Z"
   },
   {
    "duration": 6,
    "start_time": "2024-06-25T13:50:19.616Z"
   },
   {
    "duration": 3,
    "start_time": "2024-06-25T13:50:22.454Z"
   },
   {
    "duration": 3,
    "start_time": "2024-06-25T13:50:23.296Z"
   },
   {
    "duration": 62710,
    "start_time": "2024-06-25T13:50:24.605Z"
   },
   {
    "duration": 81,
    "start_time": "2024-06-25T13:52:15.856Z"
   },
   {
    "duration": 4,
    "start_time": "2024-06-25T13:52:18.730Z"
   },
   {
    "duration": 3,
    "start_time": "2024-06-25T13:52:22.290Z"
   },
   {
    "duration": 23,
    "start_time": "2024-06-25T13:52:24.898Z"
   },
   {
    "duration": 3,
    "start_time": "2024-06-25T13:52:27.142Z"
   },
   {
    "duration": 231,
    "start_time": "2024-06-25T13:52:38.762Z"
   },
   {
    "duration": 114,
    "start_time": "2024-06-25T13:52:52.694Z"
   },
   {
    "duration": 9,
    "start_time": "2024-06-25T13:53:38.933Z"
   },
   {
    "duration": 3,
    "start_time": "2024-06-25T13:55:32.530Z"
   },
   {
    "duration": 3,
    "start_time": "2024-06-25T13:55:40.828Z"
   },
   {
    "duration": 2016,
    "start_time": "2024-06-25T13:56:12.751Z"
   },
   {
    "duration": 40,
    "start_time": "2024-06-25T13:56:59.757Z"
   },
   {
    "duration": 1412,
    "start_time": "2024-06-25T13:57:22.077Z"
   },
   {
    "duration": 3252,
    "start_time": "2024-06-25T13:57:26.027Z"
   },
   {
    "duration": 214,
    "start_time": "2024-06-25T13:57:32.435Z"
   },
   {
    "duration": 5,
    "start_time": "2024-06-25T13:57:34.150Z"
   },
   {
    "duration": 102,
    "start_time": "2024-06-25T13:57:36.837Z"
   },
   {
    "duration": 7,
    "start_time": "2024-06-25T13:57:37.962Z"
   },
   {
    "duration": 2,
    "start_time": "2024-06-25T13:57:40.147Z"
   },
   {
    "duration": 2,
    "start_time": "2024-06-25T13:57:41.524Z"
   },
   {
    "duration": 61088,
    "start_time": "2024-06-25T13:57:42.742Z"
   },
   {
    "duration": 80,
    "start_time": "2024-06-25T13:58:49.223Z"
   },
   {
    "duration": 5,
    "start_time": "2024-06-25T13:58:51.305Z"
   },
   {
    "duration": 4,
    "start_time": "2024-06-25T13:58:55.403Z"
   },
   {
    "duration": 34,
    "start_time": "2024-06-25T13:58:56.129Z"
   },
   {
    "duration": 3,
    "start_time": "2024-06-25T13:58:58.008Z"
   },
   {
    "duration": 219,
    "start_time": "2024-06-25T14:00:10.610Z"
   },
   {
    "duration": 8114,
    "start_time": "2024-06-25T14:00:22.645Z"
   },
   {
    "duration": 41,
    "start_time": "2024-06-25T14:04:32.412Z"
   },
   {
    "duration": 1444,
    "start_time": "2024-06-25T14:04:53.492Z"
   },
   {
    "duration": 3143,
    "start_time": "2024-06-25T14:04:57.884Z"
   },
   {
    "duration": 236,
    "start_time": "2024-06-25T14:05:05.252Z"
   },
   {
    "duration": 6,
    "start_time": "2024-06-25T14:05:07.319Z"
   },
   {
    "duration": 102,
    "start_time": "2024-06-25T14:05:09.040Z"
   },
   {
    "duration": 6,
    "start_time": "2024-06-25T14:05:10.493Z"
   },
   {
    "duration": 2,
    "start_time": "2024-06-25T14:05:13.077Z"
   },
   {
    "duration": 3,
    "start_time": "2024-06-25T14:05:13.850Z"
   },
   {
    "duration": 61990,
    "start_time": "2024-06-25T14:06:36.878Z"
   },
   {
    "duration": 82,
    "start_time": "2024-06-25T14:10:28.304Z"
   },
   {
    "duration": 4,
    "start_time": "2024-06-25T14:10:32.231Z"
   },
   {
    "duration": 3,
    "start_time": "2024-06-25T14:10:36.346Z"
   },
   {
    "duration": 21,
    "start_time": "2024-06-25T14:10:41.924Z"
   },
   {
    "duration": 2,
    "start_time": "2024-06-25T14:10:45.271Z"
   },
   {
    "duration": 251,
    "start_time": "2024-06-25T14:10:55.501Z"
   },
   {
    "duration": 1192,
    "start_time": "2024-06-25T14:11:24.778Z"
   },
   {
    "duration": 1310,
    "start_time": "2024-06-25T14:11:45.640Z"
   },
   {
    "duration": 3643,
    "start_time": "2024-06-25T14:12:01.987Z"
   },
   {
    "duration": 11,
    "start_time": "2024-06-25T14:40:16.121Z"
   },
   {
    "duration": 70,
    "start_time": "2024-06-25T14:40:31.104Z"
   },
   {
    "duration": 4,
    "start_time": "2024-06-25T14:41:11.072Z"
   },
   {
    "duration": 7248,
    "start_time": "2024-06-25T14:45:29.446Z"
   },
   {
    "duration": 4,
    "start_time": "2024-06-25T14:45:46.106Z"
   },
   {
    "duration": 1084910,
    "start_time": "2024-06-25T14:45:53.380Z"
   },
   {
    "duration": 1816,
    "start_time": "2024-06-26T01:30:25.494Z"
   },
   {
    "duration": 2157,
    "start_time": "2024-06-26T01:33:40.105Z"
   },
   {
    "duration": 222,
    "start_time": "2024-06-26T01:33:53.407Z"
   },
   {
    "duration": 7,
    "start_time": "2024-06-26T01:33:56.408Z"
   },
   {
    "duration": 99,
    "start_time": "2024-06-26T01:33:59.632Z"
   },
   {
    "duration": 8,
    "start_time": "2024-06-26T01:34:03.692Z"
   },
   {
    "duration": 2,
    "start_time": "2024-06-26T01:34:27.237Z"
   },
   {
    "duration": 2,
    "start_time": "2024-06-26T01:34:28.967Z"
   },
   {
    "duration": 58575,
    "start_time": "2024-06-26T01:34:32.132Z"
   },
   {
    "duration": 116,
    "start_time": "2024-06-26T01:35:39.548Z"
   },
   {
    "duration": 81,
    "start_time": "2024-06-26T01:36:24.255Z"
   },
   {
    "duration": 4,
    "start_time": "2024-06-26T01:36:25.997Z"
   },
   {
    "duration": 3,
    "start_time": "2024-06-26T01:36:27.166Z"
   },
   {
    "duration": 21,
    "start_time": "2024-06-26T01:36:30.443Z"
   },
   {
    "duration": 3,
    "start_time": "2024-06-26T01:36:38.158Z"
   },
   {
    "duration": 201,
    "start_time": "2024-06-26T01:37:13.792Z"
   },
   {
    "duration": 1292,
    "start_time": "2024-06-26T01:37:30.732Z"
   },
   {
    "duration": 3680,
    "start_time": "2024-06-26T01:39:15.492Z"
   },
   {
    "duration": 2,
    "start_time": "2024-06-26T01:40:41.944Z"
   },
   {
    "duration": 2,
    "start_time": "2024-06-26T01:40:42.322Z"
   },
   {
    "duration": 5602,
    "start_time": "2024-06-26T01:53:50.211Z"
   },
   {
    "duration": 77,
    "start_time": "2024-06-26T02:13:17.724Z"
   },
   {
    "duration": 139,
    "start_time": "2024-06-26T02:13:27.947Z"
   },
   {
    "duration": 279,
    "start_time": "2024-06-26T02:13:36.532Z"
   },
   {
    "duration": 1244,
    "start_time": "2024-06-26T02:13:59.743Z"
   },
   {
    "duration": 2480,
    "start_time": "2024-06-26T02:14:14.083Z"
   },
   {
    "duration": 629,
    "start_time": "2024-06-26T02:14:23.246Z"
   },
   {
    "duration": 2705,
    "start_time": "2024-06-26T02:17:02.458Z"
   },
   {
    "duration": 1567,
    "start_time": "2024-06-26T02:17:14.409Z"
   },
   {
    "duration": 9022,
    "start_time": "2024-06-26T02:17:22.056Z"
   },
   {
    "duration": 1276,
    "start_time": "2024-06-26T02:17:37.181Z"
   },
   {
    "duration": 1551,
    "start_time": "2024-06-26T02:17:46.620Z"
   },
   {
    "duration": 1010,
    "start_time": "2024-06-26T02:17:54.058Z"
   },
   {
    "duration": 2492,
    "start_time": "2024-06-26T02:18:00.855Z"
   },
   {
    "duration": 1548,
    "start_time": "2024-06-26T02:18:07.979Z"
   },
   {
    "duration": 2173,
    "start_time": "2024-06-26T02:21:11.829Z"
   },
   {
    "duration": 1719,
    "start_time": "2024-06-26T02:21:18.489Z"
   },
   {
    "duration": 6587,
    "start_time": "2024-06-26T02:21:26.020Z"
   },
   {
    "duration": 3341,
    "start_time": "2024-06-26T02:21:42.368Z"
   },
   {
    "duration": 8417,
    "start_time": "2024-06-26T02:26:32.755Z"
   },
   {
    "duration": 121,
    "start_time": "2024-06-26T02:29:08.756Z"
   },
   {
    "duration": 183,
    "start_time": "2024-06-26T02:29:28.287Z"
   },
   {
    "duration": 173,
    "start_time": "2024-06-26T02:29:43.846Z"
   },
   {
    "duration": 286,
    "start_time": "2024-06-26T02:30:02.841Z"
   },
   {
    "duration": 296,
    "start_time": "2024-06-26T02:30:09.597Z"
   },
   {
    "duration": 282,
    "start_time": "2024-06-26T02:30:16.488Z"
   },
   {
    "duration": 291,
    "start_time": "2024-06-26T02:30:25.207Z"
   },
   {
    "duration": 285,
    "start_time": "2024-06-26T02:30:36.595Z"
   },
   {
    "duration": 295,
    "start_time": "2024-06-26T02:31:37.166Z"
   },
   {
    "duration": 402,
    "start_time": "2024-06-26T02:31:46.986Z"
   },
   {
    "duration": 452,
    "start_time": "2024-06-26T02:32:05.650Z"
   },
   {
    "duration": 470,
    "start_time": "2024-06-26T02:32:14.840Z"
   },
   {
    "duration": 504,
    "start_time": "2024-06-26T02:32:20.298Z"
   },
   {
    "duration": 300,
    "start_time": "2024-06-26T02:32:38.333Z"
   },
   {
    "duration": 289,
    "start_time": "2024-06-26T02:33:30.797Z"
   },
   {
    "duration": 422,
    "start_time": "2024-06-26T02:34:52.685Z"
   },
   {
    "duration": 618,
    "start_time": "2024-06-26T02:34:58.347Z"
   },
   {
    "duration": 541,
    "start_time": "2024-06-26T02:35:08.370Z"
   },
   {
    "duration": 487,
    "start_time": "2024-06-26T02:35:16.666Z"
   },
   {
    "duration": 349,
    "start_time": "2024-06-26T02:35:26.678Z"
   },
   {
    "duration": 225,
    "start_time": "2024-06-26T02:35:37.378Z"
   },
   {
    "duration": 174,
    "start_time": "2024-06-26T02:35:43.365Z"
   },
   {
    "duration": 234,
    "start_time": "2024-06-26T02:35:53.308Z"
   },
   {
    "duration": 488,
    "start_time": "2024-06-26T02:36:04.581Z"
   },
   {
    "duration": 37486,
    "start_time": "2024-06-26T02:39:51.227Z"
   },
   {
    "duration": 304,
    "start_time": "2024-06-26T02:54:41.764Z"
   },
   {
    "duration": 965,
    "start_time": "2024-06-26T02:55:04.177Z"
   },
   {
    "duration": 969,
    "start_time": "2024-06-26T02:55:11.706Z"
   },
   {
    "duration": 1001,
    "start_time": "2024-06-26T02:55:20.427Z"
   },
   {
    "duration": 996,
    "start_time": "2024-06-26T02:55:27.946Z"
   },
   {
    "duration": 982,
    "start_time": "2024-06-26T02:55:33.861Z"
   },
   {
    "duration": 1158,
    "start_time": "2024-06-26T02:55:39.981Z"
   },
   {
    "duration": 1459,
    "start_time": "2024-06-26T02:55:47.020Z"
   },
   {
    "duration": 614,
    "start_time": "2024-06-26T02:55:54.390Z"
   },
   {
    "duration": 15192,
    "start_time": "2024-06-26T02:56:12.341Z"
   },
   {
    "duration": 56542,
    "start_time": "2024-06-26T02:56:35.031Z"
   },
   {
    "duration": 1328,
    "start_time": "2024-06-26T02:57:56.967Z"
   },
   {
    "duration": 1730,
    "start_time": "2024-06-26T02:58:04.591Z"
   },
   {
    "duration": 3103,
    "start_time": "2024-06-26T02:58:11.907Z"
   },
   {
    "duration": 11197,
    "start_time": "2024-06-26T02:58:22.167Z"
   },
   {
    "duration": 5314,
    "start_time": "2024-06-26T02:58:45.920Z"
   },
   {
    "duration": 3164,
    "start_time": "2024-06-26T02:59:01.418Z"
   },
   {
    "duration": 4715,
    "start_time": "2024-06-26T02:59:16.525Z"
   },
   {
    "duration": 4465,
    "start_time": "2024-06-26T02:59:26.236Z"
   },
   {
    "duration": 3157,
    "start_time": "2024-06-26T02:59:39.846Z"
   },
   {
    "duration": 2680,
    "start_time": "2024-06-26T02:59:47.147Z"
   },
   {
    "duration": 3035,
    "start_time": "2024-06-26T02:59:54.850Z"
   },
   {
    "duration": 2936,
    "start_time": "2024-06-26T03:00:03.531Z"
   },
   {
    "duration": 5324,
    "start_time": "2024-06-26T03:00:11.915Z"
   },
   {
    "duration": 5260,
    "start_time": "2024-06-26T03:00:22.045Z"
   },
   {
    "duration": 7719,
    "start_time": "2024-06-26T03:01:33.340Z"
   },
   {
    "duration": 4613,
    "start_time": "2024-06-26T03:01:52.050Z"
   },
   {
    "duration": 9,
    "start_time": "2024-06-26T03:09:20.558Z"
   },
   {
    "duration": 43282,
    "start_time": "2024-06-26T03:09:49.028Z"
   },
   {
    "duration": 3,
    "start_time": "2024-06-26T03:12:58.239Z"
   },
   {
    "duration": 43586,
    "start_time": "2024-06-26T03:13:08.637Z"
   },
   {
    "duration": 3,
    "start_time": "2024-06-26T03:14:58.947Z"
   },
   {
    "duration": 41069,
    "start_time": "2024-06-26T03:15:02.640Z"
   },
   {
    "duration": 15,
    "start_time": "2024-06-26T03:18:10.865Z"
   },
   {
    "duration": 40389,
    "start_time": "2024-06-26T03:23:50.519Z"
   },
   {
    "duration": 34555,
    "start_time": "2024-06-26T03:27:18.762Z"
   },
   {
    "duration": 58039,
    "start_time": "2024-06-26T03:30:18.476Z"
   },
   {
    "duration": 81987,
    "start_time": "2024-06-26T03:37:20.722Z"
   },
   {
    "duration": 25119,
    "start_time": "2024-06-26T03:43:29.541Z"
   },
   {
    "duration": 1482,
    "start_time": "2024-06-26T03:49:42.005Z"
   },
   {
    "duration": 774,
    "start_time": "2024-06-26T03:49:43.488Z"
   },
   {
    "duration": 244,
    "start_time": "2024-06-26T03:49:44.264Z"
   },
   {
    "duration": 5,
    "start_time": "2024-06-26T03:49:44.510Z"
   },
   {
    "duration": 110,
    "start_time": "2024-06-26T03:49:44.517Z"
   },
   {
    "duration": 8,
    "start_time": "2024-06-26T03:49:44.628Z"
   },
   {
    "duration": 17,
    "start_time": "2024-06-26T03:49:44.637Z"
   },
   {
    "duration": 16,
    "start_time": "2024-06-26T03:49:44.655Z"
   },
   {
    "duration": 58985,
    "start_time": "2024-06-26T03:49:44.672Z"
   },
   {
    "duration": 90,
    "start_time": "2024-06-26T03:50:43.658Z"
   },
   {
    "duration": 4,
    "start_time": "2024-06-26T03:50:43.749Z"
   },
   {
    "duration": 29,
    "start_time": "2024-06-26T03:50:43.754Z"
   },
   {
    "duration": 49,
    "start_time": "2024-06-26T03:50:43.784Z"
   },
   {
    "duration": 3,
    "start_time": "2024-06-26T03:50:43.836Z"
   },
   {
    "duration": 133,
    "start_time": "2024-06-26T03:50:43.840Z"
   },
   {
    "duration": 1377,
    "start_time": "2024-06-26T03:50:43.974Z"
   },
   {
    "duration": 3658,
    "start_time": "2024-06-26T03:50:45.352Z"
   },
   {
    "duration": 3590,
    "start_time": "2024-06-26T03:50:49.011Z"
   },
   {
    "duration": 1200,
    "start_time": "2024-06-26T03:50:52.603Z"
   },
   {
    "duration": 1421,
    "start_time": "2024-06-26T03:50:53.805Z"
   },
   {
    "duration": 2275,
    "start_time": "2024-06-26T03:50:55.227Z"
   },
   {
    "duration": 8312,
    "start_time": "2024-06-26T03:50:57.504Z"
   },
   {
    "duration": 249,
    "start_time": "2024-06-26T03:51:05.817Z"
   },
   {
    "duration": 391,
    "start_time": "2024-06-26T03:51:06.068Z"
   },
   {
    "duration": 509,
    "start_time": "2024-06-26T03:51:06.461Z"
   },
   {
    "duration": 37349,
    "start_time": "2024-06-26T03:51:06.971Z"
   },
   {
    "duration": 5189,
    "start_time": "2024-06-26T03:51:44.321Z"
   },
   {
    "duration": 4944,
    "start_time": "2024-06-26T03:51:49.512Z"
   },
   {
    "duration": 36958,
    "start_time": "2024-06-26T03:51:54.457Z"
   },
   {
    "duration": 34390,
    "start_time": "2024-06-26T03:52:31.418Z"
   },
   {
    "duration": 52796,
    "start_time": "2024-06-26T03:53:05.810Z"
   },
   {
    "duration": 454019,
    "start_time": "2024-06-26T03:55:32.228Z"
   },
   {
    "duration": 1479,
    "start_time": "2024-06-26T04:13:04.134Z"
   },
   {
    "duration": 2166,
    "start_time": "2024-06-26T04:13:05.614Z"
   },
   {
    "duration": 227,
    "start_time": "2024-06-26T04:13:07.782Z"
   },
   {
    "duration": 5,
    "start_time": "2024-06-26T04:13:08.011Z"
   },
   {
    "duration": 113,
    "start_time": "2024-06-26T04:13:08.017Z"
   },
   {
    "duration": 6,
    "start_time": "2024-06-26T04:13:08.131Z"
   },
   {
    "duration": 3,
    "start_time": "2024-06-26T04:13:08.138Z"
   },
   {
    "duration": 6,
    "start_time": "2024-06-26T04:13:08.142Z"
   },
   {
    "duration": 58053,
    "start_time": "2024-06-26T04:13:08.149Z"
   },
   {
    "duration": 83,
    "start_time": "2024-06-26T04:14:06.204Z"
   },
   {
    "duration": 14,
    "start_time": "2024-06-26T04:14:06.289Z"
   },
   {
    "duration": 57,
    "start_time": "2024-06-26T04:14:06.304Z"
   },
   {
    "duration": 26,
    "start_time": "2024-06-26T04:14:06.362Z"
   },
   {
    "duration": 2,
    "start_time": "2024-06-26T04:14:06.389Z"
   },
   {
    "duration": 148,
    "start_time": "2024-06-26T04:14:06.392Z"
   },
   {
    "duration": 1378,
    "start_time": "2024-06-26T04:14:06.542Z"
   },
   {
    "duration": 3727,
    "start_time": "2024-06-26T04:14:07.921Z"
   },
   {
    "duration": 3653,
    "start_time": "2024-06-26T04:14:11.650Z"
   },
   {
    "duration": 1422,
    "start_time": "2024-06-26T04:14:15.304Z"
   },
   {
    "duration": 1540,
    "start_time": "2024-06-26T04:14:16.727Z"
   },
   {
    "duration": 2941,
    "start_time": "2024-06-26T04:14:18.268Z"
   },
   {
    "duration": 8674,
    "start_time": "2024-06-26T04:14:21.212Z"
   },
   {
    "duration": 242,
    "start_time": "2024-06-26T04:14:29.888Z"
   },
   {
    "duration": 393,
    "start_time": "2024-06-26T04:14:30.132Z"
   },
   {
    "duration": 518,
    "start_time": "2024-06-26T04:14:30.527Z"
   },
   {
    "duration": 36746,
    "start_time": "2024-06-26T04:14:31.047Z"
   },
   {
    "duration": 5452,
    "start_time": "2024-06-26T04:15:07.795Z"
   },
   {
    "duration": 4832,
    "start_time": "2024-06-26T04:15:13.249Z"
   },
   {
    "duration": 38423,
    "start_time": "2024-06-26T04:15:18.082Z"
   },
   {
    "duration": 32411,
    "start_time": "2024-06-26T04:15:56.506Z"
   },
   {
    "duration": 55203,
    "start_time": "2024-06-26T04:16:28.918Z"
   },
   {
    "duration": 449247,
    "start_time": "2024-06-26T04:17:24.123Z"
   },
   {
    "duration": 11353,
    "start_time": "2024-06-26T04:24:53.372Z"
   },
   {
    "duration": 25017,
    "start_time": "2024-06-26T04:27:34.115Z"
   },
   {
    "duration": 47906,
    "start_time": "2024-06-26T04:28:08.968Z"
   },
   {
    "duration": 846978,
    "start_time": "2024-06-26T04:29:15.458Z"
   },
   {
    "duration": 46,
    "start_time": "2024-06-26T04:44:12.612Z"
   },
   {
    "duration": 1504,
    "start_time": "2024-06-26T04:44:42.267Z"
   },
   {
    "duration": 2212,
    "start_time": "2024-06-26T04:44:43.773Z"
   },
   {
    "duration": 255,
    "start_time": "2024-06-26T04:44:45.986Z"
   },
   {
    "duration": 4,
    "start_time": "2024-06-26T04:44:46.243Z"
   },
   {
    "duration": 118,
    "start_time": "2024-06-26T04:44:46.249Z"
   },
   {
    "duration": 7,
    "start_time": "2024-06-26T04:44:46.368Z"
   },
   {
    "duration": 3,
    "start_time": "2024-06-26T04:44:46.376Z"
   },
   {
    "duration": 5,
    "start_time": "2024-06-26T04:44:46.380Z"
   },
   {
    "duration": 63169,
    "start_time": "2024-06-26T04:44:46.386Z"
   },
   {
    "duration": 102,
    "start_time": "2024-06-26T04:45:49.556Z"
   },
   {
    "duration": 4,
    "start_time": "2024-06-26T04:45:49.660Z"
   },
   {
    "duration": 25,
    "start_time": "2024-06-26T04:45:49.665Z"
   },
   {
    "duration": 47,
    "start_time": "2024-06-26T04:45:49.691Z"
   },
   {
    "duration": 7,
    "start_time": "2024-06-26T04:45:49.741Z"
   },
   {
    "duration": 133,
    "start_time": "2024-06-26T04:45:49.749Z"
   },
   {
    "duration": 1425,
    "start_time": "2024-06-26T04:45:49.883Z"
   },
   {
    "duration": 3820,
    "start_time": "2024-06-26T04:45:51.310Z"
   },
   {
    "duration": 4976,
    "start_time": "2024-06-26T04:45:55.131Z"
   },
   {
    "duration": 1568,
    "start_time": "2024-06-26T04:46:00.109Z"
   },
   {
    "duration": 1628,
    "start_time": "2024-06-26T04:46:01.679Z"
   },
   {
    "duration": 4693,
    "start_time": "2024-06-26T04:46:03.309Z"
   },
   {
    "duration": 4,
    "start_time": "2024-06-26T04:46:14.633Z"
   },
   {
    "duration": 4,
    "start_time": "2024-06-26T04:46:41.992Z"
   },
   {
    "duration": 1529,
    "start_time": "2024-06-26T04:49:23.102Z"
   },
   {
    "duration": 2293,
    "start_time": "2024-06-26T04:49:24.632Z"
   },
   {
    "duration": 233,
    "start_time": "2024-06-26T04:49:26.927Z"
   },
   {
    "duration": 6,
    "start_time": "2024-06-26T04:49:27.162Z"
   },
   {
    "duration": 143,
    "start_time": "2024-06-26T04:49:27.169Z"
   },
   {
    "duration": 7,
    "start_time": "2024-06-26T04:49:27.313Z"
   },
   {
    "duration": 19,
    "start_time": "2024-06-26T04:49:27.321Z"
   },
   {
    "duration": 15,
    "start_time": "2024-06-26T04:49:27.341Z"
   },
   {
    "duration": 63519,
    "start_time": "2024-06-26T04:49:27.358Z"
   },
   {
    "duration": 110,
    "start_time": "2024-06-26T04:50:30.880Z"
   },
   {
    "duration": 27,
    "start_time": "2024-06-26T04:50:30.992Z"
   },
   {
    "duration": 38,
    "start_time": "2024-06-26T04:50:31.021Z"
   },
   {
    "duration": 72,
    "start_time": "2024-06-26T04:50:31.060Z"
   },
   {
    "duration": 45,
    "start_time": "2024-06-26T04:50:31.133Z"
   },
   {
    "duration": 203,
    "start_time": "2024-06-26T04:50:31.180Z"
   },
   {
    "duration": 1497,
    "start_time": "2024-06-26T04:50:31.384Z"
   },
   {
    "duration": 3772,
    "start_time": "2024-06-26T04:50:32.882Z"
   },
   {
    "duration": 8649,
    "start_time": "2024-06-26T04:50:36.655Z"
   },
   {
    "duration": 1317,
    "start_time": "2024-06-26T04:50:45.308Z"
   },
   {
    "duration": 1525,
    "start_time": "2024-06-26T04:50:46.627Z"
   },
   {
    "duration": 3059,
    "start_time": "2024-06-26T04:50:48.154Z"
   },
   {
    "duration": 4,
    "start_time": "2024-06-26T04:50:51.214Z"
   },
   {
    "duration": 83,
    "start_time": "2024-06-26T04:50:51.220Z"
   },
   {
    "duration": 1954,
    "start_time": "2024-06-26T06:13:38.042Z"
   },
   {
    "duration": 2530,
    "start_time": "2024-06-26T06:13:39.998Z"
   },
   {
    "duration": 259,
    "start_time": "2024-06-26T06:13:47.126Z"
   },
   {
    "duration": 6,
    "start_time": "2024-06-26T06:13:51.345Z"
   },
   {
    "duration": 144,
    "start_time": "2024-06-26T06:14:32.263Z"
   },
   {
    "duration": 8,
    "start_time": "2024-06-26T06:14:35.975Z"
   },
   {
    "duration": 2,
    "start_time": "2024-06-26T06:14:38.654Z"
   },
   {
    "duration": 4,
    "start_time": "2024-06-26T06:14:40.414Z"
   },
   {
    "duration": 75926,
    "start_time": "2024-06-26T06:14:46.156Z"
   },
   {
    "duration": 135,
    "start_time": "2024-06-26T06:18:52.765Z"
   },
   {
    "duration": 5,
    "start_time": "2024-06-26T06:19:50.137Z"
   },
   {
    "duration": 3,
    "start_time": "2024-06-26T06:19:51.185Z"
   },
   {
    "duration": 28,
    "start_time": "2024-06-26T06:19:54.367Z"
   },
   {
    "duration": 4,
    "start_time": "2024-06-26T06:19:56.517Z"
   },
   {
    "duration": 215,
    "start_time": "2024-06-26T06:20:01.128Z"
   },
   {
    "duration": 1731,
    "start_time": "2024-06-26T06:20:02.720Z"
   },
   {
    "duration": 5057,
    "start_time": "2024-06-26T06:20:06.112Z"
   },
   {
    "duration": 1834,
    "start_time": "2024-06-26T06:26:51.036Z"
   },
   {
    "duration": 2465,
    "start_time": "2024-06-26T06:26:52.871Z"
   },
   {
    "duration": 260,
    "start_time": "2024-06-26T06:26:55.338Z"
   },
   {
    "duration": 7,
    "start_time": "2024-06-26T06:26:55.601Z"
   },
   {
    "duration": 153,
    "start_time": "2024-06-26T06:26:55.610Z"
   },
   {
    "duration": 11,
    "start_time": "2024-06-26T06:26:55.765Z"
   },
   {
    "duration": 3,
    "start_time": "2024-06-26T06:26:55.778Z"
   },
   {
    "duration": 6,
    "start_time": "2024-06-26T06:26:55.783Z"
   },
   {
    "duration": 73833,
    "start_time": "2024-06-26T06:26:55.790Z"
   },
   {
    "duration": 165,
    "start_time": "2024-06-26T06:28:09.626Z"
   },
   {
    "duration": 5,
    "start_time": "2024-06-26T06:28:09.793Z"
   },
   {
    "duration": 9,
    "start_time": "2024-06-26T06:28:09.800Z"
   },
   {
    "duration": 48,
    "start_time": "2024-06-26T06:28:09.811Z"
   },
   {
    "duration": 3,
    "start_time": "2024-06-26T06:28:09.861Z"
   },
   {
    "duration": 212,
    "start_time": "2024-06-26T06:28:09.866Z"
   },
   {
    "duration": 1520,
    "start_time": "2024-06-26T06:28:10.080Z"
   },
   {
    "duration": 5093,
    "start_time": "2024-06-26T06:28:11.602Z"
   },
   {
    "duration": 5188,
    "start_time": "2024-06-26T06:28:38.642Z"
   },
   {
    "duration": 8429,
    "start_time": "2024-06-26T06:28:57.637Z"
   },
   {
    "duration": 1577,
    "start_time": "2024-06-26T06:29:12.213Z"
   },
   {
    "duration": 1569,
    "start_time": "2024-06-26T06:29:16.933Z"
   },
   {
    "duration": 6387,
    "start_time": "2024-06-26T06:29:21.077Z"
   },
   {
    "duration": 11198,
    "start_time": "2024-06-26T06:29:54.622Z"
   },
   {
    "duration": 297,
    "start_time": "2024-06-26T06:31:12.332Z"
   },
   {
    "duration": 434,
    "start_time": "2024-06-26T06:31:14.694Z"
   },
   {
    "duration": 652,
    "start_time": "2024-06-26T06:31:16.934Z"
   },
   {
    "duration": 46931,
    "start_time": "2024-06-26T06:31:29.703Z"
   },
   {
    "duration": 7068,
    "start_time": "2024-06-26T06:32:39.151Z"
   },
   {
    "duration": 6423,
    "start_time": "2024-06-26T06:32:49.114Z"
   },
   {
    "duration": 52143,
    "start_time": "2024-06-26T06:33:06.527Z"
   },
   {
    "duration": 48565,
    "start_time": "2024-06-26T06:41:40.911Z"
   },
   {
    "duration": 74411,
    "start_time": "2024-06-26T06:43:01.670Z"
   },
   {
    "duration": 1794,
    "start_time": "2024-06-26T07:56:22.453Z"
   },
   {
    "duration": 2474,
    "start_time": "2024-06-26T07:56:24.249Z"
   },
   {
    "duration": 271,
    "start_time": "2024-06-26T07:56:26.724Z"
   },
   {
    "duration": 6,
    "start_time": "2024-06-26T07:56:26.997Z"
   },
   {
    "duration": 216,
    "start_time": "2024-06-26T07:56:27.005Z"
   },
   {
    "duration": 7,
    "start_time": "2024-06-26T07:56:27.223Z"
   },
   {
    "duration": 21,
    "start_time": "2024-06-26T07:56:27.232Z"
   },
   {
    "duration": 31,
    "start_time": "2024-06-26T07:56:27.255Z"
   },
   {
    "duration": 75362,
    "start_time": "2024-06-26T07:56:27.288Z"
   },
   {
    "duration": 129,
    "start_time": "2024-06-26T07:57:42.661Z"
   },
   {
    "duration": 5,
    "start_time": "2024-06-26T07:57:42.792Z"
   },
   {
    "duration": 23,
    "start_time": "2024-06-26T07:57:42.799Z"
   },
   {
    "duration": 47,
    "start_time": "2024-06-26T07:57:42.824Z"
   },
   {
    "duration": 24,
    "start_time": "2024-06-26T07:57:42.873Z"
   },
   {
    "duration": 252,
    "start_time": "2024-06-26T07:57:42.898Z"
   },
   {
    "duration": 1728,
    "start_time": "2024-06-26T07:57:43.152Z"
   },
   {
    "duration": 5217,
    "start_time": "2024-06-26T07:57:44.882Z"
   },
   {
    "duration": 5460,
    "start_time": "2024-06-26T07:57:50.101Z"
   },
   {
    "duration": 1289,
    "start_time": "2024-06-26T07:57:55.563Z"
   },
   {
    "duration": 1615,
    "start_time": "2024-06-26T07:57:56.853Z"
   },
   {
    "duration": 3299,
    "start_time": "2024-06-26T07:57:58.470Z"
   },
   {
    "duration": 12097,
    "start_time": "2024-06-26T07:58:01.770Z"
   },
   {
    "duration": 286,
    "start_time": "2024-06-26T07:58:13.869Z"
   },
   {
    "duration": 439,
    "start_time": "2024-06-26T07:58:14.156Z"
   },
   {
    "duration": 594,
    "start_time": "2024-06-26T07:58:14.597Z"
   },
   {
    "duration": 50216,
    "start_time": "2024-06-26T07:58:15.193Z"
   },
   {
    "duration": 7096,
    "start_time": "2024-06-26T07:59:05.411Z"
   },
   {
    "duration": 6385,
    "start_time": "2024-06-26T07:59:12.510Z"
   },
   {
    "duration": 57591,
    "start_time": "2024-06-26T07:59:18.897Z"
   },
   {
    "duration": 46689,
    "start_time": "2024-06-26T08:00:16.490Z"
   },
   {
    "duration": 81197,
    "start_time": "2024-06-26T08:01:03.181Z"
   },
   {
    "duration": 538887,
    "start_time": "2024-06-26T08:02:24.380Z"
   },
   {
    "duration": 52,
    "start_time": "2024-06-26T08:12:56.586Z"
   },
   {
    "duration": 1779,
    "start_time": "2024-06-26T08:13:08.184Z"
   },
   {
    "duration": 2468,
    "start_time": "2024-06-26T08:13:09.965Z"
   },
   {
    "duration": 262,
    "start_time": "2024-06-26T08:13:12.435Z"
   },
   {
    "duration": 7,
    "start_time": "2024-06-26T08:13:12.699Z"
   },
   {
    "duration": 147,
    "start_time": "2024-06-26T08:13:12.708Z"
   },
   {
    "duration": 8,
    "start_time": "2024-06-26T08:13:12.857Z"
   },
   {
    "duration": 40,
    "start_time": "2024-06-26T08:13:12.867Z"
   },
   {
    "duration": 15,
    "start_time": "2024-06-26T08:13:12.908Z"
   },
   {
    "duration": 75020,
    "start_time": "2024-06-26T08:13:12.924Z"
   },
   {
    "duration": 148,
    "start_time": "2024-06-26T08:14:27.947Z"
   },
   {
    "duration": 5,
    "start_time": "2024-06-26T08:14:28.097Z"
   },
   {
    "duration": 13,
    "start_time": "2024-06-26T08:14:28.104Z"
   },
   {
    "duration": 41,
    "start_time": "2024-06-26T08:14:28.119Z"
   },
   {
    "duration": 3,
    "start_time": "2024-06-26T08:14:28.161Z"
   },
   {
    "duration": 213,
    "start_time": "2024-06-26T08:14:28.166Z"
   },
   {
    "duration": 1570,
    "start_time": "2024-06-26T08:14:28.380Z"
   },
   {
    "duration": 5143,
    "start_time": "2024-06-26T08:14:29.952Z"
   },
   {
    "duration": 9374,
    "start_time": "2024-06-26T08:14:35.096Z"
   },
   {
    "duration": 1600,
    "start_time": "2024-06-26T08:14:44.561Z"
   },
   {
    "duration": 1605,
    "start_time": "2024-06-26T08:14:46.163Z"
   },
   {
    "duration": 4591,
    "start_time": "2024-06-26T08:14:47.770Z"
   },
   {
    "duration": 11447,
    "start_time": "2024-06-26T08:14:52.363Z"
   },
   {
    "duration": 301,
    "start_time": "2024-06-26T08:15:03.812Z"
   },
   {
    "duration": 435,
    "start_time": "2024-06-26T08:15:04.115Z"
   },
   {
    "duration": 618,
    "start_time": "2024-06-26T08:15:04.552Z"
   },
   {
    "duration": 47900,
    "start_time": "2024-06-26T08:15:05.172Z"
   },
   {
    "duration": 6775,
    "start_time": "2024-06-26T08:15:53.074Z"
   },
   {
    "duration": 6356,
    "start_time": "2024-06-26T08:15:59.853Z"
   },
   {
    "duration": 63569,
    "start_time": "2024-06-26T08:16:06.211Z"
   },
   {
    "duration": 54796,
    "start_time": "2024-06-26T08:17:09.783Z"
   },
   {
    "duration": 77397,
    "start_time": "2024-06-26T08:18:04.581Z"
   },
   {
    "duration": 540517,
    "start_time": "2024-06-26T08:19:21.979Z"
   },
   {
    "duration": 1841,
    "start_time": "2024-06-26T08:29:30.984Z"
   },
   {
    "duration": 2525,
    "start_time": "2024-06-26T08:29:32.827Z"
   },
   {
    "duration": 270,
    "start_time": "2024-06-26T08:29:35.353Z"
   },
   {
    "duration": 6,
    "start_time": "2024-06-26T08:29:35.625Z"
   },
   {
    "duration": 145,
    "start_time": "2024-06-26T08:29:35.633Z"
   },
   {
    "duration": 8,
    "start_time": "2024-06-26T08:29:35.779Z"
   },
   {
    "duration": 29,
    "start_time": "2024-06-26T08:29:35.788Z"
   },
   {
    "duration": 22,
    "start_time": "2024-06-26T08:29:35.819Z"
   },
   {
    "duration": 73987,
    "start_time": "2024-06-26T08:29:35.843Z"
   },
   {
    "duration": 151,
    "start_time": "2024-06-26T08:30:49.832Z"
   },
   {
    "duration": 6,
    "start_time": "2024-06-26T08:30:49.985Z"
   },
   {
    "duration": 49,
    "start_time": "2024-06-26T08:30:49.993Z"
   },
   {
    "duration": 50,
    "start_time": "2024-06-26T08:30:50.044Z"
   },
   {
    "duration": 3,
    "start_time": "2024-06-26T08:30:50.098Z"
   },
   {
    "duration": 175,
    "start_time": "2024-06-26T08:30:50.103Z"
   },
   {
    "duration": 1563,
    "start_time": "2024-06-26T08:30:50.280Z"
   },
   {
    "duration": 5112,
    "start_time": "2024-06-26T08:30:51.844Z"
   },
   {
    "duration": 7704,
    "start_time": "2024-06-26T08:30:56.961Z"
   },
   {
    "duration": 1564,
    "start_time": "2024-06-26T08:31:04.667Z"
   },
   {
    "duration": 1888,
    "start_time": "2024-06-26T08:31:06.233Z"
   },
   {
    "duration": 7938,
    "start_time": "2024-06-26T08:31:08.123Z"
   },
   {
    "duration": 11214,
    "start_time": "2024-06-26T08:31:16.063Z"
   },
   {
    "duration": 301,
    "start_time": "2024-06-26T08:31:27.278Z"
   },
   {
    "duration": 456,
    "start_time": "2024-06-26T08:31:27.580Z"
   },
   {
    "duration": 635,
    "start_time": "2024-06-26T08:31:28.038Z"
   },
   {
    "duration": 50432,
    "start_time": "2024-06-26T08:31:28.675Z"
   },
   {
    "duration": 7231,
    "start_time": "2024-06-26T08:32:19.108Z"
   },
   {
    "duration": 6576,
    "start_time": "2024-06-26T08:32:26.341Z"
   },
   {
    "duration": 53264,
    "start_time": "2024-06-26T08:32:32.919Z"
   },
   {
    "duration": 56804,
    "start_time": "2024-06-26T08:33:26.185Z"
   },
   {
    "duration": 77993,
    "start_time": "2024-06-26T08:34:22.991Z"
   },
   {
    "duration": 539423,
    "start_time": "2024-06-26T08:35:40.985Z"
   },
   {
    "duration": 351151,
    "start_time": "2024-06-26T08:44:40.410Z"
   },
   {
    "duration": 11,
    "start_time": "2024-06-26T09:03:00.714Z"
   },
   {
    "duration": 10,
    "start_time": "2024-06-26T09:03:31.668Z"
   },
   {
    "duration": 149,
    "start_time": "2024-06-26T09:08:38.339Z"
   },
   {
    "duration": 12,
    "start_time": "2024-06-26T09:10:26.423Z"
   },
   {
    "duration": 11,
    "start_time": "2024-06-26T09:14:22.910Z"
   },
   {
    "duration": 11,
    "start_time": "2024-06-26T09:15:59.802Z"
   },
   {
    "duration": 11,
    "start_time": "2024-06-26T09:19:43.663Z"
   },
   {
    "duration": 10,
    "start_time": "2024-06-26T09:20:03.824Z"
   },
   {
    "duration": 10,
    "start_time": "2024-06-26T09:20:36.827Z"
   },
   {
    "duration": 9,
    "start_time": "2024-06-26T09:20:45.541Z"
   },
   {
    "duration": 10,
    "start_time": "2024-06-26T09:21:01.604Z"
   },
   {
    "duration": 14,
    "start_time": "2024-06-26T09:22:49.197Z"
   },
   {
    "duration": 9,
    "start_time": "2024-06-26T09:24:31.768Z"
   },
   {
    "duration": 550209,
    "start_time": "2024-06-26T09:25:56.764Z"
   },
   {
    "duration": 1838,
    "start_time": "2024-06-28T10:30:33.522Z"
   },
   {
    "duration": 3291,
    "start_time": "2024-06-28T10:30:35.362Z"
   },
   {
    "duration": 249,
    "start_time": "2024-06-28T10:30:38.655Z"
   },
   {
    "duration": 5,
    "start_time": "2024-06-28T10:30:38.906Z"
   },
   {
    "duration": 120,
    "start_time": "2024-06-28T10:30:38.920Z"
   },
   {
    "duration": 7,
    "start_time": "2024-06-28T10:30:39.042Z"
   },
   {
    "duration": 3,
    "start_time": "2024-06-28T10:30:39.051Z"
   },
   {
    "duration": 4,
    "start_time": "2024-06-28T10:30:39.056Z"
   },
   {
    "duration": 67374,
    "start_time": "2024-06-28T10:30:39.062Z"
   },
   {
    "duration": 103,
    "start_time": "2024-06-28T10:31:46.440Z"
   },
   {
    "duration": 5,
    "start_time": "2024-06-28T10:31:46.545Z"
   },
   {
    "duration": 5,
    "start_time": "2024-06-28T10:31:46.551Z"
   },
   {
    "duration": 25,
    "start_time": "2024-06-28T10:31:46.557Z"
   },
   {
    "duration": 3,
    "start_time": "2024-06-28T10:31:46.583Z"
   },
   {
    "duration": 172,
    "start_time": "2024-06-28T10:31:46.587Z"
   },
   {
    "duration": 1430,
    "start_time": "2024-06-28T10:31:46.761Z"
   },
   {
    "duration": 4240,
    "start_time": "2024-06-28T10:31:48.192Z"
   },
   {
    "duration": 3790,
    "start_time": "2024-06-28T10:31:52.433Z"
   },
   {
    "duration": 1391,
    "start_time": "2024-06-28T10:31:56.224Z"
   },
   {
    "duration": 1634,
    "start_time": "2024-06-28T10:31:57.616Z"
   },
   {
    "duration": 5473,
    "start_time": "2024-06-28T10:31:59.252Z"
   },
   {
    "duration": 96,
    "start_time": "2024-06-28T10:32:04.727Z"
   },
   {
    "duration": 9198,
    "start_time": "2024-06-28T10:32:04.824Z"
   },
   {
    "duration": 270,
    "start_time": "2024-06-28T10:32:14.024Z"
   },
   {
    "duration": 428,
    "start_time": "2024-06-28T10:32:14.296Z"
   },
   {
    "duration": 558,
    "start_time": "2024-06-28T10:32:14.726Z"
   },
   {
    "duration": 9,
    "start_time": "2024-06-28T10:32:15.285Z"
   },
   {
    "duration": 44293,
    "start_time": "2024-06-28T10:32:15.297Z"
   },
   {
    "duration": 6157,
    "start_time": "2024-06-28T10:32:59.591Z"
   },
   {
    "duration": 5487,
    "start_time": "2024-06-28T10:33:05.749Z"
   },
   {
    "duration": 7,
    "start_time": "2024-06-28T10:33:11.238Z"
   },
   {
    "duration": 40481,
    "start_time": "2024-06-28T10:33:11.246Z"
   },
   {
    "duration": 34105,
    "start_time": "2024-06-28T10:33:51.728Z"
   },
   {
    "duration": 53196,
    "start_time": "2024-06-28T10:34:25.834Z"
   },
   {
    "duration": 8,
    "start_time": "2024-06-28T10:35:19.031Z"
   },
   {
    "duration": 505202,
    "start_time": "2024-06-28T10:35:19.041Z"
   },
   {
    "duration": 332924,
    "start_time": "2024-06-28T10:43:44.244Z"
   },
   {
    "duration": 513403,
    "start_time": "2024-06-28T10:49:17.170Z"
   },
   {
    "duration": 7,
    "start_time": "2024-06-28T10:57:50.574Z"
   },
   {
    "duration": 49,
    "start_time": "2024-06-28T11:09:01.972Z"
   },
   {
    "duration": 1592,
    "start_time": "2024-06-28T11:09:20.977Z"
   },
   {
    "duration": 3272,
    "start_time": "2024-06-28T11:09:22.571Z"
   },
   {
    "duration": 249,
    "start_time": "2024-06-28T11:09:25.845Z"
   },
   {
    "duration": 5,
    "start_time": "2024-06-28T11:09:26.096Z"
   },
   {
    "duration": 132,
    "start_time": "2024-06-28T11:09:26.102Z"
   },
   {
    "duration": 7,
    "start_time": "2024-06-28T11:09:26.235Z"
   },
   {
    "duration": 2,
    "start_time": "2024-06-28T11:09:26.243Z"
   },
   {
    "duration": 17,
    "start_time": "2024-06-28T11:09:26.247Z"
   },
   {
    "duration": 66846,
    "start_time": "2024-06-28T11:09:26.265Z"
   },
   {
    "duration": 101,
    "start_time": "2024-06-28T11:10:33.120Z"
   },
   {
    "duration": 6,
    "start_time": "2024-06-28T11:10:33.222Z"
   },
   {
    "duration": 67,
    "start_time": "2024-06-28T11:10:33.230Z"
   },
   {
    "duration": 59,
    "start_time": "2024-06-28T11:10:33.299Z"
   },
   {
    "duration": 4,
    "start_time": "2024-06-28T11:10:33.360Z"
   },
   {
    "duration": 226,
    "start_time": "2024-06-28T11:10:33.366Z"
   },
   {
    "duration": 1477,
    "start_time": "2024-06-28T11:10:33.594Z"
   },
   {
    "duration": 4348,
    "start_time": "2024-06-28T11:10:35.073Z"
   },
   {
    "duration": 5399,
    "start_time": "2024-06-28T11:10:39.423Z"
   },
   {
    "duration": 1567,
    "start_time": "2024-06-28T11:10:44.823Z"
   },
   {
    "duration": 1704,
    "start_time": "2024-06-28T11:10:46.392Z"
   },
   {
    "duration": 3622,
    "start_time": "2024-06-28T11:10:48.098Z"
   },
   {
    "duration": 9,
    "start_time": "2024-06-28T11:10:51.722Z"
   },
   {
    "duration": 9679,
    "start_time": "2024-06-28T11:10:51.732Z"
   },
   {
    "duration": 278,
    "start_time": "2024-06-28T11:11:01.412Z"
   },
   {
    "duration": 465,
    "start_time": "2024-06-28T11:11:01.692Z"
   },
   {
    "duration": 605,
    "start_time": "2024-06-28T11:11:02.159Z"
   },
   {
    "duration": 9,
    "start_time": "2024-06-28T11:11:02.766Z"
   },
   {
    "duration": 43647,
    "start_time": "2024-06-28T11:11:02.779Z"
   },
   {
    "duration": 6343,
    "start_time": "2024-06-28T11:11:46.427Z"
   },
   {
    "duration": 5597,
    "start_time": "2024-06-28T11:11:52.772Z"
   },
   {
    "duration": 8,
    "start_time": "2024-06-28T11:11:58.370Z"
   },
   {
    "duration": 65647,
    "start_time": "2024-06-28T11:11:58.380Z"
   },
   {
    "duration": 31613,
    "start_time": "2024-06-28T11:13:04.029Z"
   },
   {
    "duration": 54880,
    "start_time": "2024-06-28T11:13:35.644Z"
   },
   {
    "duration": 7,
    "start_time": "2024-06-28T11:14:30.526Z"
   },
   {
    "duration": 517057,
    "start_time": "2024-06-28T11:14:30.535Z"
   },
   {
    "duration": 339390,
    "start_time": "2024-06-28T11:23:07.593Z"
   },
   {
    "duration": 850214,
    "start_time": "2024-06-28T11:28:46.985Z"
   },
   {
    "duration": 8,
    "start_time": "2024-06-28T11:42:57.200Z"
   },
   {
    "duration": 239774,
    "start_time": "2024-06-28T11:43:43.434Z"
   },
   {
    "duration": 174740,
    "start_time": "2024-06-28T11:55:52.441Z"
   },
   {
    "duration": 1635,
    "start_time": "2024-06-28T12:00:37.802Z"
   },
   {
    "duration": 3306,
    "start_time": "2024-06-28T12:00:39.439Z"
   },
   {
    "duration": 257,
    "start_time": "2024-06-28T12:00:42.746Z"
   },
   {
    "duration": 5,
    "start_time": "2024-06-28T12:00:43.005Z"
   },
   {
    "duration": 121,
    "start_time": "2024-06-28T12:00:43.012Z"
   },
   {
    "duration": 7,
    "start_time": "2024-06-28T12:00:43.134Z"
   },
   {
    "duration": 2,
    "start_time": "2024-06-28T12:00:43.142Z"
   },
   {
    "duration": 29,
    "start_time": "2024-06-28T12:00:43.146Z"
   },
   {
    "duration": 67017,
    "start_time": "2024-06-28T12:00:43.176Z"
   },
   {
    "duration": 102,
    "start_time": "2024-06-28T12:01:50.195Z"
   },
   {
    "duration": 5,
    "start_time": "2024-06-28T12:01:50.299Z"
   },
   {
    "duration": 16,
    "start_time": "2024-06-28T12:01:50.305Z"
   },
   {
    "duration": 27,
    "start_time": "2024-06-28T12:01:50.323Z"
   },
   {
    "duration": 4,
    "start_time": "2024-06-28T12:01:50.351Z"
   },
   {
    "duration": 175,
    "start_time": "2024-06-28T12:01:50.357Z"
   },
   {
    "duration": 1456,
    "start_time": "2024-06-28T12:01:50.534Z"
   },
   {
    "duration": 4282,
    "start_time": "2024-06-28T12:01:51.991Z"
   },
   {
    "duration": 4157,
    "start_time": "2024-06-28T12:01:56.274Z"
   },
   {
    "duration": 1402,
    "start_time": "2024-06-28T12:02:00.432Z"
   },
   {
    "duration": 1690,
    "start_time": "2024-06-28T12:02:01.835Z"
   },
   {
    "duration": 2495,
    "start_time": "2024-06-28T12:02:03.527Z"
   },
   {
    "duration": 8,
    "start_time": "2024-06-28T12:02:06.023Z"
   },
   {
    "duration": 9388,
    "start_time": "2024-06-28T12:02:06.033Z"
   },
   {
    "duration": 275,
    "start_time": "2024-06-28T12:02:15.422Z"
   },
   {
    "duration": 425,
    "start_time": "2024-06-28T12:02:15.698Z"
   },
   {
    "duration": 587,
    "start_time": "2024-06-28T12:02:16.124Z"
   },
   {
    "duration": 9,
    "start_time": "2024-06-28T12:02:16.713Z"
   },
   {
    "duration": 43676,
    "start_time": "2024-06-28T12:02:16.725Z"
   },
   {
    "duration": 6280,
    "start_time": "2024-06-28T12:03:00.403Z"
   },
   {
    "duration": 5573,
    "start_time": "2024-06-28T12:03:06.684Z"
   },
   {
    "duration": 8,
    "start_time": "2024-06-28T12:03:12.259Z"
   },
   {
    "duration": 35559,
    "start_time": "2024-06-28T12:03:12.269Z"
   },
   {
    "duration": 34406,
    "start_time": "2024-06-28T12:03:47.830Z"
   },
   {
    "duration": 63303,
    "start_time": "2024-06-28T12:04:22.320Z"
   },
   {
    "duration": 8,
    "start_time": "2024-06-28T12:05:25.624Z"
   },
   {
    "duration": 511520,
    "start_time": "2024-06-28T12:05:25.633Z"
   },
   {
    "duration": 341241,
    "start_time": "2024-06-28T12:13:57.155Z"
   },
   {
    "duration": 239257,
    "start_time": "2024-06-28T12:19:38.397Z"
   },
   {
    "duration": 426065,
    "start_time": "2024-06-28T12:23:37.655Z"
   },
   {
    "duration": 8,
    "start_time": "2024-06-28T12:30:43.721Z"
   },
   {
    "duration": 238949,
    "start_time": "2024-06-28T12:31:10.563Z"
   },
   {
    "duration": 9,
    "start_time": "2024-06-28T12:38:30.292Z"
   },
   {
    "duration": 9,
    "start_time": "2024-06-28T12:40:56.916Z"
   },
   {
    "duration": 8,
    "start_time": "2024-06-28T12:41:29.112Z"
   },
   {
    "duration": 8,
    "start_time": "2024-06-28T12:42:00.278Z"
   },
   {
    "duration": 138,
    "start_time": "2024-06-28T12:42:51.319Z"
   },
   {
    "duration": 8,
    "start_time": "2024-06-28T12:42:57.491Z"
   },
   {
    "duration": 609,
    "start_time": "2024-06-28T12:43:00.547Z"
   },
   {
    "duration": 1344,
    "start_time": "2024-06-28T12:43:12.399Z"
   },
   {
    "duration": 12,
    "start_time": "2024-06-28T12:43:29.146Z"
   },
   {
    "duration": 91,
    "start_time": "2024-06-28T12:43:40.596Z"
   },
   {
    "duration": 530,
    "start_time": "2024-06-28T12:44:00.301Z"
   },
   {
    "duration": 6,
    "start_time": "2024-06-28T12:50:41.199Z"
   },
   {
    "duration": 9,
    "start_time": "2024-06-28T12:52:24.025Z"
   },
   {
    "duration": 11,
    "start_time": "2024-06-28T12:52:32.849Z"
   },
   {
    "duration": 13,
    "start_time": "2024-06-28T12:53:23.831Z"
   },
   {
    "duration": 8,
    "start_time": "2024-06-28T12:53:40.829Z"
   },
   {
    "duration": 8,
    "start_time": "2024-06-28T12:53:56.819Z"
   },
   {
    "duration": 9,
    "start_time": "2024-06-28T12:54:12.896Z"
   },
   {
    "duration": 9,
    "start_time": "2024-06-28T12:55:39.406Z"
   },
   {
    "duration": 9,
    "start_time": "2024-06-28T12:56:17.747Z"
   },
   {
    "duration": 10,
    "start_time": "2024-06-28T12:56:22.588Z"
   },
   {
    "duration": 13,
    "start_time": "2024-06-28T12:57:18.284Z"
   },
   {
    "duration": 12,
    "start_time": "2024-06-28T12:57:52.825Z"
   },
   {
    "duration": 63,
    "start_time": "2024-06-28T12:59:48.660Z"
   },
   {
    "duration": 9,
    "start_time": "2024-06-28T13:00:13.419Z"
   },
   {
    "duration": 184,
    "start_time": "2024-06-28T13:02:35.722Z"
   },
   {
    "duration": 1625,
    "start_time": "2024-06-28T13:14:54.063Z"
   },
   {
    "duration": 1117,
    "start_time": "2024-06-28T13:14:55.690Z"
   },
   {
    "duration": 260,
    "start_time": "2024-06-28T13:14:56.808Z"
   },
   {
    "duration": 6,
    "start_time": "2024-06-28T13:14:57.069Z"
   },
   {
    "duration": 124,
    "start_time": "2024-06-28T13:14:57.076Z"
   },
   {
    "duration": 8,
    "start_time": "2024-06-28T13:14:57.201Z"
   },
   {
    "duration": 3,
    "start_time": "2024-06-28T13:14:57.219Z"
   },
   {
    "duration": 27,
    "start_time": "2024-06-28T13:14:57.223Z"
   },
   {
    "duration": 68318,
    "start_time": "2024-06-28T13:14:57.251Z"
   },
   {
    "duration": 99,
    "start_time": "2024-06-28T13:16:05.571Z"
   },
   {
    "duration": 4,
    "start_time": "2024-06-28T13:16:05.672Z"
   },
   {
    "duration": 33,
    "start_time": "2024-06-28T13:16:05.677Z"
   },
   {
    "duration": 42,
    "start_time": "2024-06-28T13:16:05.711Z"
   },
   {
    "duration": 2,
    "start_time": "2024-06-28T13:16:05.755Z"
   },
   {
    "duration": 238,
    "start_time": "2024-06-28T13:16:05.759Z"
   },
   {
    "duration": 1548,
    "start_time": "2024-06-28T13:16:05.999Z"
   },
   {
    "duration": 4171,
    "start_time": "2024-06-28T13:16:07.549Z"
   },
   {
    "duration": 5701,
    "start_time": "2024-06-28T13:16:11.721Z"
   },
   {
    "duration": 1450,
    "start_time": "2024-06-28T13:16:17.423Z"
   },
   {
    "duration": 1704,
    "start_time": "2024-06-28T13:16:18.874Z"
   },
   {
    "duration": 4043,
    "start_time": "2024-06-28T13:16:20.579Z"
   },
   {
    "duration": 9,
    "start_time": "2024-06-28T13:16:24.624Z"
   },
   {
    "duration": 9296,
    "start_time": "2024-06-28T13:16:24.634Z"
   },
   {
    "duration": 279,
    "start_time": "2024-06-28T13:16:33.931Z"
   },
   {
    "duration": 444,
    "start_time": "2024-06-28T13:16:34.211Z"
   },
   {
    "duration": 608,
    "start_time": "2024-06-28T13:16:34.657Z"
   },
   {
    "duration": 8,
    "start_time": "2024-06-28T13:16:35.266Z"
   },
   {
    "duration": 43921,
    "start_time": "2024-06-28T13:16:35.279Z"
   },
   {
    "duration": 6371,
    "start_time": "2024-06-28T13:17:19.202Z"
   },
   {
    "duration": 5612,
    "start_time": "2024-06-28T13:17:25.574Z"
   },
   {
    "duration": 8,
    "start_time": "2024-06-28T13:17:31.188Z"
   },
   {
    "duration": 39136,
    "start_time": "2024-06-28T13:17:31.198Z"
   },
   {
    "duration": 34292,
    "start_time": "2024-06-28T13:18:10.336Z"
   },
   {
    "duration": 57009,
    "start_time": "2024-06-28T13:18:44.630Z"
   },
   {
    "duration": 86,
    "start_time": "2024-06-28T13:19:41.641Z"
   },
   {
    "duration": 518240,
    "start_time": "2024-06-28T13:19:41.729Z"
   },
   {
    "duration": 337659,
    "start_time": "2024-06-28T13:28:19.970Z"
   },
   {
    "duration": 342305,
    "start_time": "2024-06-28T13:33:57.631Z"
   },
   {
    "duration": 429948,
    "start_time": "2024-06-28T13:39:39.937Z"
   },
   {
    "duration": 7,
    "start_time": "2024-06-28T13:46:49.887Z"
   },
   {
    "duration": 9,
    "start_time": "2024-06-28T13:46:49.896Z"
   },
   {
    "duration": 222,
    "start_time": "2024-06-28T13:46:49.907Z"
   },
   {
    "duration": 343285,
    "start_time": "2024-06-28T13:48:40.978Z"
   },
   {
    "duration": 1611,
    "start_time": "2024-06-28T13:56:40.227Z"
   },
   {
    "duration": 1997,
    "start_time": "2024-06-28T13:56:41.840Z"
   },
   {
    "duration": 252,
    "start_time": "2024-06-28T13:56:43.839Z"
   },
   {
    "duration": 6,
    "start_time": "2024-06-28T13:56:44.092Z"
   },
   {
    "duration": 138,
    "start_time": "2024-06-28T13:56:44.099Z"
   },
   {
    "duration": 9,
    "start_time": "2024-06-28T13:56:44.239Z"
   },
   {
    "duration": 34,
    "start_time": "2024-06-28T13:56:44.250Z"
   },
   {
    "duration": 4,
    "start_time": "2024-06-28T13:56:44.285Z"
   },
   {
    "duration": 66561,
    "start_time": "2024-06-28T13:56:44.290Z"
   },
   {
    "duration": 97,
    "start_time": "2024-06-28T13:57:50.854Z"
   },
   {
    "duration": 4,
    "start_time": "2024-06-28T13:57:50.952Z"
   },
   {
    "duration": 22,
    "start_time": "2024-06-28T13:57:50.958Z"
   },
   {
    "duration": 26,
    "start_time": "2024-06-28T13:57:50.981Z"
   },
   {
    "duration": 13,
    "start_time": "2024-06-28T13:57:51.008Z"
   },
   {
    "duration": 253,
    "start_time": "2024-06-28T13:57:51.023Z"
   },
   {
    "duration": 1501,
    "start_time": "2024-06-28T13:57:51.277Z"
   },
   {
    "duration": 4218,
    "start_time": "2024-06-28T13:57:52.779Z"
   },
   {
    "duration": 3822,
    "start_time": "2024-06-28T13:57:56.999Z"
   },
   {
    "duration": 1416,
    "start_time": "2024-06-28T13:58:00.823Z"
   },
   {
    "duration": 1678,
    "start_time": "2024-06-28T13:58:02.240Z"
   },
   {
    "duration": 3802,
    "start_time": "2024-06-28T13:58:03.920Z"
   },
   {
    "duration": 101,
    "start_time": "2024-06-28T13:58:07.724Z"
   },
   {
    "duration": 9800,
    "start_time": "2024-06-28T13:58:07.826Z"
   },
   {
    "duration": 268,
    "start_time": "2024-06-28T13:58:17.627Z"
   },
   {
    "duration": 417,
    "start_time": "2024-06-28T13:58:17.896Z"
   },
   {
    "duration": 586,
    "start_time": "2024-06-28T13:58:18.315Z"
   },
   {
    "duration": 8,
    "start_time": "2024-06-28T13:58:18.902Z"
   },
   {
    "duration": 43414,
    "start_time": "2024-06-28T13:58:18.922Z"
   },
   {
    "duration": 6279,
    "start_time": "2024-06-28T13:59:02.337Z"
   },
   {
    "duration": 5563,
    "start_time": "2024-06-28T13:59:08.618Z"
   },
   {
    "duration": 8,
    "start_time": "2024-06-28T13:59:14.182Z"
   },
   {
    "duration": 36833,
    "start_time": "2024-06-28T13:59:14.192Z"
   },
   {
    "duration": 33811,
    "start_time": "2024-06-28T13:59:51.026Z"
   },
   {
    "duration": 50514,
    "start_time": "2024-06-28T14:00:24.919Z"
   },
   {
    "duration": 8,
    "start_time": "2024-06-28T14:01:15.435Z"
   },
   {
    "duration": 514887,
    "start_time": "2024-06-28T14:01:15.445Z"
   },
   {
    "duration": 339480,
    "start_time": "2024-06-28T14:09:50.334Z"
   },
   {
    "duration": 344316,
    "start_time": "2024-06-28T14:15:29.815Z"
   },
   {
    "duration": 429607,
    "start_time": "2024-06-28T14:21:14.133Z"
   },
   {
    "duration": 9,
    "start_time": "2024-06-28T14:28:23.741Z"
   },
   {
    "duration": 18,
    "start_time": "2024-06-28T14:28:23.751Z"
   },
   {
    "duration": 199,
    "start_time": "2024-06-28T14:28:23.771Z"
   },
   {
    "duration": 1944,
    "start_time": "2024-06-29T06:06:46.916Z"
   },
   {
    "duration": 3254,
    "start_time": "2024-06-29T06:06:50.999Z"
   },
   {
    "duration": 256,
    "start_time": "2024-06-29T06:07:04.176Z"
   },
   {
    "duration": 7,
    "start_time": "2024-06-29T06:07:09.855Z"
   },
   {
    "duration": 136,
    "start_time": "2024-06-29T06:07:13.157Z"
   },
   {
    "duration": 9,
    "start_time": "2024-06-29T06:07:18.541Z"
   },
   {
    "duration": 3436,
    "start_time": "2024-06-29T06:46:30.355Z"
   },
   {
    "duration": 533,
    "start_time": "2024-06-29T06:47:16.914Z"
   },
   {
    "duration": 3,
    "start_time": "2024-06-29T06:53:07.454Z"
   },
   {
    "duration": 32,
    "start_time": "2024-06-29T06:53:10.020Z"
   },
   {
    "duration": 3,
    "start_time": "2024-06-29T06:53:24.596Z"
   },
   {
    "duration": 22,
    "start_time": "2024-06-29T06:53:25.290Z"
   },
   {
    "duration": 4,
    "start_time": "2024-06-29T06:54:51.455Z"
   },
   {
    "duration": 669,
    "start_time": "2024-06-29T06:54:52.824Z"
   },
   {
    "duration": 4355,
    "start_time": "2024-06-29T06:55:32.702Z"
   },
   {
    "duration": 1009,
    "start_time": "2024-06-29T06:55:37.059Z"
   },
   {
    "duration": 270,
    "start_time": "2024-06-29T06:55:38.070Z"
   },
   {
    "duration": 7,
    "start_time": "2024-06-29T06:55:38.341Z"
   },
   {
    "duration": 170,
    "start_time": "2024-06-29T06:55:38.350Z"
   },
   {
    "duration": 9,
    "start_time": "2024-06-29T06:55:38.522Z"
   },
   {
    "duration": 544,
    "start_time": "2024-06-29T06:55:38.532Z"
   },
   {
    "duration": 480,
    "start_time": "2024-06-29T06:55:42.393Z"
   },
   {
    "duration": 65,
    "start_time": "2024-06-29T06:55:48.506Z"
   },
   {
    "duration": 3,
    "start_time": "2024-06-29T06:56:13.007Z"
   },
   {
    "duration": 25,
    "start_time": "2024-06-29T06:56:16.399Z"
   },
   {
    "duration": 3,
    "start_time": "2024-06-29T06:56:25.782Z"
   },
   {
    "duration": 22,
    "start_time": "2024-06-29T06:56:26.875Z"
   },
   {
    "duration": 4338,
    "start_time": "2024-06-29T06:58:45.330Z"
   },
   {
    "duration": 978,
    "start_time": "2024-06-29T06:58:49.670Z"
   },
   {
    "duration": 275,
    "start_time": "2024-06-29T06:58:50.650Z"
   },
   {
    "duration": 5,
    "start_time": "2024-06-29T06:58:50.928Z"
   },
   {
    "duration": 143,
    "start_time": "2024-06-29T06:58:50.935Z"
   },
   {
    "duration": 17,
    "start_time": "2024-06-29T06:58:51.080Z"
   },
   {
    "duration": 566,
    "start_time": "2024-06-29T06:58:55.237Z"
   },
   {
    "duration": 3,
    "start_time": "2024-06-29T06:58:57.548Z"
   },
   {
    "duration": 25,
    "start_time": "2024-06-29T06:58:59.871Z"
   },
   {
    "duration": 4379,
    "start_time": "2024-06-29T07:00:40.027Z"
   },
   {
    "duration": 1002,
    "start_time": "2024-06-29T07:00:44.409Z"
   },
   {
    "duration": 274,
    "start_time": "2024-06-29T07:00:45.412Z"
   },
   {
    "duration": 6,
    "start_time": "2024-06-29T07:00:45.692Z"
   },
   {
    "duration": 152,
    "start_time": "2024-06-29T07:00:45.700Z"
   },
   {
    "duration": 8,
    "start_time": "2024-06-29T07:00:45.854Z"
   },
   {
    "duration": 536,
    "start_time": "2024-06-29T07:00:48.517Z"
   },
   {
    "duration": 3,
    "start_time": "2024-06-29T07:00:49.314Z"
   },
   {
    "duration": 28,
    "start_time": "2024-06-29T07:00:50.798Z"
   },
   {
    "duration": 14005,
    "start_time": "2024-06-29T07:01:17.859Z"
   },
   {
    "duration": 4450,
    "start_time": "2024-06-29T07:01:51.724Z"
   },
   {
    "duration": 956,
    "start_time": "2024-06-29T07:01:56.176Z"
   },
   {
    "duration": 264,
    "start_time": "2024-06-29T07:01:57.134Z"
   },
   {
    "duration": 5,
    "start_time": "2024-06-29T07:01:57.400Z"
   },
   {
    "duration": 143,
    "start_time": "2024-06-29T07:01:57.407Z"
   },
   {
    "duration": 8,
    "start_time": "2024-06-29T07:01:57.551Z"
   },
   {
    "duration": 601,
    "start_time": "2024-06-29T07:01:57.561Z"
   },
   {
    "duration": 4,
    "start_time": "2024-06-29T07:01:58.163Z"
   },
   {
    "duration": 48,
    "start_time": "2024-06-29T07:01:58.168Z"
   },
   {
    "duration": 2,
    "start_time": "2024-06-29T07:02:00.882Z"
   },
   {
    "duration": 4,
    "start_time": "2024-06-29T07:02:51.729Z"
   },
   {
    "duration": 4,
    "start_time": "2024-06-29T07:05:42.626Z"
   },
   {
    "duration": 2437323,
    "start_time": "2024-06-29T07:05:50.384Z"
   },
   {
    "duration": 122,
    "start_time": "2024-06-29T07:53:21.507Z"
   },
   {
    "duration": 5,
    "start_time": "2024-06-29T07:53:29.255Z"
   },
   {
    "duration": 4,
    "start_time": "2024-06-29T07:55:03.651Z"
   },
   {
    "duration": 33,
    "start_time": "2024-06-29T07:55:10.187Z"
   },
   {
    "duration": 3,
    "start_time": "2024-06-29T07:55:23.954Z"
   },
   {
    "duration": 218,
    "start_time": "2024-06-29T07:55:43.077Z"
   },
   {
    "duration": 4,
    "start_time": "2024-06-29T07:56:01.358Z"
   },
   {
    "duration": 2989,
    "start_time": "2024-06-29T07:56:44.219Z"
   },
   {
    "duration": 14647,
    "start_time": "2024-06-29T07:57:20.347Z"
   },
   {
    "duration": 1383,
    "start_time": "2024-06-29T07:58:21.621Z"
   },
   {
    "duration": 21474,
    "start_time": "2024-06-29T08:02:30.128Z"
   },
   {
    "duration": 77873,
    "start_time": "2024-06-29T08:15:39.698Z"
   },
   {
    "duration": 56,
    "start_time": "2024-06-29T08:27:41.968Z"
   },
   {
    "duration": 349,
    "start_time": "2024-06-29T08:27:55.609Z"
   },
   {
    "duration": 882001,
    "start_time": "2024-06-29T08:31:32.560Z"
   },
   {
    "duration": 16016,
    "start_time": "2024-06-29T08:46:48.479Z"
   },
   {
    "duration": 10359,
    "start_time": "2024-06-29T08:47:34.035Z"
   },
   {
    "duration": 1558,
    "start_time": "2024-06-29T08:47:52.100Z"
   },
   {
    "duration": 30079,
    "start_time": "2024-06-29T08:48:52.388Z"
   },
   {
    "duration": 63210,
    "start_time": "2024-06-29T08:49:41.768Z"
   },
   {
    "duration": 937,
    "start_time": "2024-06-29T08:50:57.101Z"
   },
   {
    "duration": 704,
    "start_time": "2024-06-29T08:51:06.957Z"
   },
   {
    "duration": 605,
    "start_time": "2024-06-29T08:51:32.647Z"
   },
   {
    "duration": 42178,
    "start_time": "2024-06-29T08:51:41.017Z"
   },
   {
    "duration": 418,
    "start_time": "2024-06-29T08:52:35.609Z"
   },
   {
    "duration": 34133,
    "start_time": "2024-06-29T08:52:44.157Z"
   },
   {
    "duration": 53684,
    "start_time": "2024-06-29T08:53:32.620Z"
   },
   {
    "duration": 4,
    "start_time": "2024-06-29T08:55:27.511Z"
   },
   {
    "duration": 0,
    "start_time": "2024-06-29T09:18:03.171Z"
   },
   {
    "duration": 424,
    "start_time": "2024-06-29T09:18:43.157Z"
   },
   {
    "duration": 5529,
    "start_time": "2024-06-29T09:18:55.650Z"
   },
   {
    "duration": 12787,
    "start_time": "2024-06-29T09:19:07.829Z"
   },
   {
    "duration": 19599,
    "start_time": "2024-06-29T09:19:29.803Z"
   },
   {
    "duration": 25199,
    "start_time": "2024-06-29T09:20:00.111Z"
   },
   {
    "duration": 29857,
    "start_time": "2024-06-29T09:20:31.349Z"
   },
   {
    "duration": 34218,
    "start_time": "2024-06-29T09:21:06.385Z"
   },
   {
    "duration": 38232,
    "start_time": "2024-06-29T09:21:47.600Z"
   },
   {
    "duration": 45578,
    "start_time": "2024-06-29T09:22:43.011Z"
   },
   {
    "duration": 51714,
    "start_time": "2024-06-29T09:23:39.933Z"
   },
   {
    "duration": 60372,
    "start_time": "2024-06-29T09:24:38.044Z"
   },
   {
    "duration": 31,
    "start_time": "2024-06-29T09:27:00.009Z"
   },
   {
    "duration": 244360,
    "start_time": "2024-06-29T09:35:10.401Z"
   },
   {
    "duration": 48285,
    "start_time": "2024-06-29T09:42:08.853Z"
   },
   {
    "duration": 60053,
    "start_time": "2024-06-29T09:47:10.910Z"
   },
   {
    "duration": 28,
    "start_time": "2024-06-29T09:50:30.591Z"
   },
   {
    "duration": 19795,
    "start_time": "2024-06-29T09:51:07.197Z"
   },
   {
    "duration": 364733,
    "start_time": "2024-06-29T09:51:54.690Z"
   },
   {
    "duration": 3,
    "start_time": "2024-06-29T09:59:19.336Z"
   },
   {
    "duration": 0,
    "start_time": "2024-06-29T10:08:06.263Z"
   },
   {
    "duration": 21,
    "start_time": "2024-06-29T10:08:27.839Z"
   },
   {
    "duration": 289652,
    "start_time": "2024-06-29T10:08:43.888Z"
   },
   {
    "duration": 554412,
    "start_time": "2024-06-29T10:13:36.183Z"
   },
   {
    "duration": 5193,
    "start_time": "2024-06-29T10:22:50.598Z"
   },
   {
    "duration": 4902,
    "start_time": "2024-06-29T10:23:10.921Z"
   },
   {
    "duration": 4,
    "start_time": "2024-06-29T10:26:37.803Z"
   },
   {
    "duration": 59249,
    "start_time": "2024-06-29T10:26:39.791Z"
   },
   {
    "duration": 77241,
    "start_time": "2024-06-29T10:32:04.523Z"
   },
   {
    "duration": 29888,
    "start_time": "2024-06-29T10:35:28.126Z"
   },
   {
    "duration": 260972,
    "start_time": "2024-06-29T10:37:44.943Z"
   },
   {
    "duration": 29,
    "start_time": "2024-06-29T11:08:32.577Z"
   },
   {
    "duration": 5,
    "start_time": "2024-06-29T11:27:03.618Z"
   },
   {
    "duration": 6879,
    "start_time": "2024-06-29T11:31:44.030Z"
   },
   {
    "duration": 263835,
    "start_time": "2024-06-29T11:34:09.340Z"
   },
   {
    "duration": 26793,
    "start_time": "2024-06-29T11:39:13.112Z"
   },
   {
    "duration": 0,
    "start_time": "2024-06-29T12:14:12.740Z"
   },
   {
    "duration": 4386,
    "start_time": "2024-06-30T05:32:33.724Z"
   },
   {
    "duration": 3123,
    "start_time": "2024-06-30T05:32:41.655Z"
   },
   {
    "duration": 248,
    "start_time": "2024-06-30T05:32:53.501Z"
   },
   {
    "duration": 5,
    "start_time": "2024-06-30T05:32:56.279Z"
   },
   {
    "duration": 137,
    "start_time": "2024-06-30T05:32:58.518Z"
   },
   {
    "duration": 8,
    "start_time": "2024-06-30T05:33:00.330Z"
   },
   {
    "duration": 565,
    "start_time": "2024-06-30T05:33:07.392Z"
   },
   {
    "duration": 3,
    "start_time": "2024-06-30T05:33:17.226Z"
   },
   {
    "duration": 42,
    "start_time": "2024-06-30T05:33:19.920Z"
   },
   {
    "duration": 1958465,
    "start_time": "2024-06-30T05:33:53.464Z"
   },
   {
    "duration": 79,
    "start_time": "2024-06-30T06:07:32.789Z"
   },
   {
    "duration": 5,
    "start_time": "2024-06-30T06:07:43.976Z"
   },
   {
    "duration": 3,
    "start_time": "2024-06-30T06:07:47.103Z"
   },
   {
    "duration": 21,
    "start_time": "2024-06-30T06:07:52.073Z"
   },
   {
    "duration": 3,
    "start_time": "2024-06-30T06:07:59.137Z"
   },
   {
    "duration": 219,
    "start_time": "2024-06-30T06:08:33.051Z"
   },
   {
    "duration": 322,
    "start_time": "2024-06-30T06:08:46.969Z"
   },
   {
    "duration": 2,
    "start_time": "2024-06-30T06:08:51.386Z"
   },
   {
    "duration": 2542,
    "start_time": "2024-06-30T06:08:54.852Z"
   },
   {
    "duration": 4,
    "start_time": "2024-06-30T06:09:10.177Z"
   },
   {
    "duration": 6223,
    "start_time": "2024-06-30T06:09:48.289Z"
   },
   {
    "duration": 10907,
    "start_time": "2024-06-30T06:11:43.503Z"
   },
   {
    "duration": 1386,
    "start_time": "2024-06-30T06:12:03.773Z"
   },
   {
    "duration": 2,
    "start_time": "2024-06-30T06:12:09.200Z"
   },
   {
    "duration": 53299,
    "start_time": "2024-06-30T06:12:30.365Z"
   },
   {
    "duration": 87329,
    "start_time": "2024-06-30T06:13:42.463Z"
   },
   {
    "duration": 32862,
    "start_time": "2024-06-30T06:16:38.536Z"
   },
   {
    "duration": 3,
    "start_time": "2024-06-30T06:17:50.896Z"
   },
   {
    "duration": 2,
    "start_time": "2024-06-30T06:18:09.535Z"
   },
   {
    "duration": 24864,
    "start_time": "2024-06-30T06:20:32.450Z"
   },
   {
    "duration": 69195,
    "start_time": "2024-06-30T06:23:48.082Z"
   },
   {
    "duration": 38511,
    "start_time": "2024-06-30T06:26:58.706Z"
   },
   {
    "duration": 559591,
    "start_time": "2024-06-30T06:28:43.030Z"
   },
   {
    "duration": 14,
    "start_time": "2024-06-30T06:43:24.805Z"
   },
   {
    "duration": 8044,
    "start_time": "2024-06-30T06:48:55.263Z"
   },
   {
    "duration": 251,
    "start_time": "2024-06-30T06:49:06.745Z"
   },
   {
    "duration": 398,
    "start_time": "2024-06-30T06:49:09.171Z"
   },
   {
    "duration": 508,
    "start_time": "2024-06-30T06:49:12.329Z"
   },
   {
    "duration": 274181,
    "start_time": "2024-06-30T06:52:05.236Z"
   },
   {
    "duration": 3444,
    "start_time": "2024-06-30T06:59:53.541Z"
   },
   {
    "duration": 9,
    "start_time": "2024-06-30T07:01:27.275Z"
   },
   {
    "duration": 38948,
    "start_time": "2024-06-30T07:02:23.006Z"
   },
   {
    "duration": 6459,
    "start_time": "2024-06-30T07:03:22.294Z"
   },
   {
    "duration": 5535,
    "start_time": "2024-06-30T07:03:31.998Z"
   },
   {
    "duration": 359661,
    "start_time": "2024-06-30T07:05:29.438Z"
   },
   {
    "duration": 9,
    "start_time": "2024-06-30T07:12:37.431Z"
   },
   {
    "duration": 15692,
    "start_time": "2024-06-30T07:13:23.417Z"
   },
   {
    "duration": 13667,
    "start_time": "2024-06-30T07:13:48.671Z"
   },
   {
    "duration": 20223,
    "start_time": "2024-06-30T07:14:05.694Z"
   },
   {
    "duration": 88,
    "start_time": "2024-06-30T07:20:23.330Z"
   },
   {
    "duration": 86682,
    "start_time": "2024-06-30T07:21:35.532Z"
   },
   {
    "duration": 79835,
    "start_time": "2024-06-30T07:26:14.479Z"
   },
   {
    "duration": 8,
    "start_time": "2024-06-30T07:28:34.674Z"
   },
   {
    "duration": 11,
    "start_time": "2024-06-30T07:32:43.256Z"
   },
   {
    "duration": 439138,
    "start_time": "2024-06-30T07:33:54.300Z"
   },
   {
    "duration": 295748,
    "start_time": "2024-06-30T07:41:34.923Z"
   },
   {
    "duration": 292575,
    "start_time": "2024-06-30T07:46:42.974Z"
   },
   {
    "duration": 361501,
    "start_time": "2024-06-30T07:51:43.046Z"
   },
   {
    "duration": 852,
    "start_time": "2024-06-30T07:59:45.229Z"
   },
   {
    "duration": 848,
    "start_time": "2024-06-30T08:02:48.784Z"
   },
   {
    "duration": 1782400,
    "start_time": "2024-06-30T08:03:28.026Z"
   },
   {
    "duration": 8,
    "start_time": "2024-06-30T08:34:23.239Z"
   },
   {
    "duration": 27,
    "start_time": "2024-06-30T08:34:32.731Z"
   },
   {
    "duration": 12,
    "start_time": "2024-06-30T08:40:23.598Z"
   },
   {
    "duration": 320,
    "start_time": "2024-06-30T08:41:18.829Z"
   },
   {
    "duration": 54,
    "start_time": "2024-06-30T09:38:32.836Z"
   },
   {
    "duration": 3,
    "start_time": "2024-06-30T09:38:56.348Z"
   },
   {
    "duration": 3,
    "start_time": "2024-06-30T09:41:58.797Z"
   },
   {
    "duration": 16,
    "start_time": "2024-06-30T09:45:56.951Z"
   },
   {
    "duration": 4,
    "start_time": "2024-06-30T09:46:20.346Z"
   },
   {
    "duration": 6956,
    "start_time": "2024-06-30T09:46:20.954Z"
   },
   {
    "duration": 2,
    "start_time": "2024-06-30T09:47:36.215Z"
   },
   {
    "duration": 4589,
    "start_time": "2024-06-30T16:59:47.797Z"
   },
   {
    "duration": 2357,
    "start_time": "2024-06-30T16:59:52.388Z"
   },
   {
    "duration": 247,
    "start_time": "2024-06-30T16:59:59.868Z"
   },
   {
    "duration": 6,
    "start_time": "2024-06-30T17:00:02.297Z"
   },
   {
    "duration": 151,
    "start_time": "2024-06-30T17:00:08.428Z"
   },
   {
    "duration": 8,
    "start_time": "2024-06-30T17:00:09.649Z"
   },
   {
    "duration": 531,
    "start_time": "2024-06-30T17:00:14.550Z"
   },
   {
    "duration": 4,
    "start_time": "2024-06-30T17:00:20.702Z"
   },
   {
    "duration": 26,
    "start_time": "2024-06-30T17:00:22.446Z"
   },
   {
    "duration": 2345709,
    "start_time": "2024-06-30T17:00:31.156Z"
   },
   {
    "duration": 112,
    "start_time": "2024-06-30T17:43:59.773Z"
   },
   {
    "duration": 25,
    "start_time": "2024-06-30T17:44:32.701Z"
   },
   {
    "duration": 4,
    "start_time": "2024-06-30T17:44:38.174Z"
   },
   {
    "duration": 134,
    "start_time": "2024-06-30T17:44:43.235Z"
   },
   {
    "duration": 3,
    "start_time": "2024-06-30T17:44:46.394Z"
   },
   {
    "duration": 2988,
    "start_time": "2024-06-30T17:44:53.002Z"
   },
   {
    "duration": 5,
    "start_time": "2024-06-30T17:44:57.432Z"
   },
   {
    "duration": 7270,
    "start_time": "2024-06-30T17:45:04.314Z"
   },
   {
    "duration": 4,
    "start_time": "2024-06-30T17:45:27.768Z"
   },
   {
    "duration": 14287,
    "start_time": "2024-06-30T17:45:32.564Z"
   },
   {
    "duration": 16834,
    "start_time": "2024-06-30T17:47:04.314Z"
   },
   {
    "duration": 1360,
    "start_time": "2024-06-30T17:48:59.088Z"
   },
   {
    "duration": 2,
    "start_time": "2024-06-30T17:50:04.308Z"
   },
   {
    "duration": 3,
    "start_time": "2024-06-30T17:50:08.590Z"
   },
   {
    "duration": 29793,
    "start_time": "2024-06-30T17:51:07.104Z"
   },
   {
    "duration": 3,
    "start_time": "2024-06-30T17:51:54.289Z"
   },
   {
    "duration": 77042,
    "start_time": "2024-06-30T17:53:34.060Z"
   },
   {
    "duration": 3,
    "start_time": "2024-06-30T17:55:15.762Z"
   },
   {
    "duration": 25935,
    "start_time": "2024-06-30T17:57:55.615Z"
   },
   {
    "duration": 5,
    "start_time": "2024-06-30T17:59:09.660Z"
   },
   {
    "duration": 64986,
    "start_time": "2024-06-30T18:01:03.856Z"
   },
   {
    "duration": 3,
    "start_time": "2024-06-30T18:02:27.418Z"
   },
   {
    "duration": 44817,
    "start_time": "2024-06-30T18:03:54.730Z"
   },
   {
    "duration": 2,
    "start_time": "2024-06-30T18:04:55.435Z"
   },
   {
    "duration": 501156,
    "start_time": "2024-06-30T18:05:55.761Z"
   },
   {
    "duration": 12,
    "start_time": "2024-06-30T18:19:20.340Z"
   },
   {
    "duration": 9176,
    "start_time": "2024-06-30T18:21:17.567Z"
   },
   {
    "duration": 3,
    "start_time": "2024-06-30T18:21:41.565Z"
   },
   {
    "duration": 274,
    "start_time": "2024-06-30T18:23:24.025Z"
   },
   {
    "duration": 3,
    "start_time": "2024-06-30T18:24:11.772Z"
   },
   {
    "duration": 433,
    "start_time": "2024-06-30T18:25:11.132Z"
   },
   {
    "duration": 3,
    "start_time": "2024-06-30T18:25:27.070Z"
   },
   {
    "duration": 580,
    "start_time": "2024-06-30T18:26:05.521Z"
   },
   {
    "duration": 2,
    "start_time": "2024-06-30T18:26:22.180Z"
   },
   {
    "duration": 297860,
    "start_time": "2024-06-30T18:28:18.769Z"
   },
   {
    "duration": 4,
    "start_time": "2024-06-30T18:33:25.693Z"
   },
   {
    "duration": 3716,
    "start_time": "2024-06-30T18:35:00.432Z"
   },
   {
    "duration": 3,
    "start_time": "2024-06-30T18:35:37.963Z"
   },
   {
    "duration": 10,
    "start_time": "2024-06-30T18:36:48.461Z"
   },
   {
    "duration": 45289,
    "start_time": "2024-06-30T18:38:29.094Z"
   },
   {
    "duration": 3,
    "start_time": "2024-06-30T18:39:40.045Z"
   },
   {
    "duration": 7279,
    "start_time": "2024-06-30T18:40:57.903Z"
   },
   {
    "duration": 2,
    "start_time": "2024-06-30T18:42:08.497Z"
   },
   {
    "duration": 6347,
    "start_time": "2024-06-30T18:43:02.489Z"
   },
   {
    "duration": 2,
    "start_time": "2024-06-30T18:43:28.108Z"
   },
   {
    "duration": 436356,
    "start_time": "2024-06-30T18:44:58.066Z"
   },
   {
    "duration": 3,
    "start_time": "2024-06-30T18:52:40.026Z"
   },
   {
    "duration": 10,
    "start_time": "2024-06-30T18:53:31.328Z"
   },
   {
    "duration": 357,
    "start_time": "2024-06-30T18:55:06.664Z"
   },
   {
    "duration": 17291,
    "start_time": "2024-06-30T18:55:16.378Z"
   },
   {
    "duration": 3,
    "start_time": "2024-06-30T18:55:54.572Z"
   },
   {
    "duration": 15569,
    "start_time": "2024-06-30T18:57:25.889Z"
   },
   {
    "duration": 3,
    "start_time": "2024-06-30T18:58:01.423Z"
   },
   {
    "duration": 24082,
    "start_time": "2024-06-30T18:58:50.282Z"
   },
   {
    "duration": 3,
    "start_time": "2024-06-30T18:59:30.977Z"
   },
   {
    "duration": 103388,
    "start_time": "2024-06-30T19:01:02.077Z"
   },
   {
    "duration": 2,
    "start_time": "2024-06-30T19:03:02.686Z"
   },
   {
    "duration": 93619,
    "start_time": "2024-06-30T19:05:22.661Z"
   },
   {
    "duration": 2,
    "start_time": "2024-06-30T19:07:25.933Z"
   },
   {
    "duration": 9,
    "start_time": "2024-06-30T19:08:25.062Z"
   },
   {
    "duration": 16504,
    "start_time": "2024-06-30T19:09:41.855Z"
   },
   {
    "duration": 4620,
    "start_time": "2024-06-30T19:18:00.367Z"
   },
   {
    "duration": 982,
    "start_time": "2024-06-30T19:18:04.989Z"
   },
   {
    "duration": 259,
    "start_time": "2024-06-30T19:18:05.973Z"
   },
   {
    "duration": 13,
    "start_time": "2024-06-30T19:18:06.233Z"
   },
   {
    "duration": 139,
    "start_time": "2024-06-30T19:18:06.248Z"
   },
   {
    "duration": 8,
    "start_time": "2024-06-30T19:18:06.388Z"
   },
   {
    "duration": 548,
    "start_time": "2024-06-30T19:18:06.397Z"
   },
   {
    "duration": 5,
    "start_time": "2024-06-30T19:18:06.947Z"
   },
   {
    "duration": 57,
    "start_time": "2024-06-30T19:18:06.954Z"
   },
   {
    "duration": 2361248,
    "start_time": "2024-06-30T19:18:07.015Z"
   },
   {
    "duration": 120,
    "start_time": "2024-06-30T19:57:28.264Z"
   },
   {
    "duration": 27,
    "start_time": "2024-06-30T19:57:28.386Z"
   },
   {
    "duration": 4,
    "start_time": "2024-06-30T19:57:28.415Z"
   },
   {
    "duration": 235,
    "start_time": "2024-06-30T19:57:28.421Z"
   },
   {
    "duration": 4,
    "start_time": "2024-06-30T19:57:28.658Z"
   },
   {
    "duration": 3043,
    "start_time": "2024-06-30T19:57:28.664Z"
   },
   {
    "duration": 5,
    "start_time": "2024-06-30T19:57:31.709Z"
   },
   {
    "duration": 7399,
    "start_time": "2024-06-30T19:57:31.716Z"
   },
   {
    "duration": 4,
    "start_time": "2024-06-30T19:57:39.116Z"
   },
   {
    "duration": 13828,
    "start_time": "2024-06-30T19:57:39.122Z"
   },
   {
    "duration": 1056,
    "start_time": "2024-06-30T19:57:52.952Z"
   },
   {
    "duration": 3,
    "start_time": "2024-06-30T19:57:54.010Z"
   },
   {
    "duration": 30180,
    "start_time": "2024-06-30T19:57:54.016Z"
   },
   {
    "duration": 78270,
    "start_time": "2024-06-30T19:58:24.197Z"
   },
   {
    "duration": 27086,
    "start_time": "2024-06-30T19:59:42.468Z"
   },
   {
    "duration": 67870,
    "start_time": "2024-06-30T20:00:09.557Z"
   },
   {
    "duration": 46220,
    "start_time": "2024-06-30T20:01:17.429Z"
   },
   {
    "duration": 504030,
    "start_time": "2024-06-30T20:02:03.654Z"
   },
   {
    "duration": 12,
    "start_time": "2024-06-30T20:10:27.686Z"
   },
   {
    "duration": 9491,
    "start_time": "2024-06-30T20:10:27.700Z"
   },
   {
    "duration": 296,
    "start_time": "2024-06-30T20:10:37.193Z"
   },
   {
    "duration": 437,
    "start_time": "2024-06-30T20:10:37.490Z"
   },
   {
    "duration": 575,
    "start_time": "2024-06-30T20:10:37.929Z"
   },
   {
    "duration": 294588,
    "start_time": "2024-06-30T20:10:38.506Z"
   },
   {
    "duration": 3760,
    "start_time": "2024-06-30T20:15:33.095Z"
   },
   {
    "duration": 11,
    "start_time": "2024-06-30T20:15:36.856Z"
   },
   {
    "duration": 43983,
    "start_time": "2024-06-30T20:15:36.868Z"
   },
   {
    "duration": 6850,
    "start_time": "2024-06-30T20:16:20.853Z"
   },
   {
    "duration": 6264,
    "start_time": "2024-06-30T20:16:27.705Z"
   },
   {
    "duration": 432443,
    "start_time": "2024-06-30T20:16:33.970Z"
   },
   {
    "duration": 10,
    "start_time": "2024-06-30T20:23:46.414Z"
   },
   {
    "duration": 17023,
    "start_time": "2024-06-30T20:23:46.426Z"
   },
   {
    "duration": 15518,
    "start_time": "2024-06-30T20:24:03.451Z"
   },
   {
    "duration": 23696,
    "start_time": "2024-06-30T20:24:18.970Z"
   },
   {
    "duration": 102337,
    "start_time": "2024-06-30T20:24:42.668Z"
   },
   {
    "duration": 95041,
    "start_time": "2024-06-30T20:26:25.006Z"
   },
   {
    "duration": 10,
    "start_time": "2024-06-30T20:28:00.049Z"
   },
   {
    "duration": 497180,
    "start_time": "2024-06-30T20:28:00.062Z"
   },
   {
    "duration": 330025,
    "start_time": "2024-06-30T20:36:17.243Z"
   },
   {
    "duration": 328529,
    "start_time": "2024-06-30T20:41:47.275Z"
   },
   {
    "duration": 415183,
    "start_time": "2024-06-30T20:47:15.806Z"
   },
   {
    "duration": 1951769,
    "start_time": "2024-06-30T20:54:10.991Z"
   },
   {
    "duration": 18,
    "start_time": "2024-06-30T21:26:42.761Z"
   },
   {
    "duration": 11,
    "start_time": "2024-06-30T21:26:42.781Z"
   },
   {
    "duration": 23,
    "start_time": "2024-06-30T21:26:42.794Z"
   },
   {
    "duration": 419,
    "start_time": "2024-06-30T21:26:42.818Z"
   },
   {
    "duration": 17,
    "start_time": "2024-06-30T21:29:45.670Z"
   }
  ],
  "kernelspec": {
   "display_name": "Python 3 (ipykernel)",
   "language": "python",
   "name": "python3"
  },
  "language_info": {
   "codemirror_mode": {
    "name": "ipython",
    "version": 3
   },
   "file_extension": ".py",
   "mimetype": "text/x-python",
   "name": "python",
   "nbconvert_exporter": "python",
   "pygments_lexer": "ipython3",
   "version": "3.9.19"
  },
  "toc": {
   "base_numbering": 1,
   "nav_menu": {},
   "number_sections": true,
   "sideBar": true,
   "skip_h1_title": true,
   "title_cell": "Содержание",
   "title_sidebar": "Contents",
   "toc_cell": true,
   "toc_position": {
    "height": "calc(100% - 180px)",
    "left": "10px",
    "top": "150px",
    "width": "205.391px"
   },
   "toc_section_display": true,
   "toc_window_display": true
  }
 },
 "nbformat": 4,
 "nbformat_minor": 4
}
